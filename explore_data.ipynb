{
 "cells": [
  {
   "cell_type": "code",
   "execution_count": 7,
   "id": "c1bbe9d0",
   "metadata": {},
   "outputs": [
    {
     "data": {
      "text/html": [
       "<div>\n",
       "<style scoped>\n",
       "    .dataframe tbody tr th:only-of-type {\n",
       "        vertical-align: middle;\n",
       "    }\n",
       "\n",
       "    .dataframe tbody tr th {\n",
       "        vertical-align: top;\n",
       "    }\n",
       "\n",
       "    .dataframe thead th {\n",
       "        text-align: right;\n",
       "    }\n",
       "</style>\n",
       "<table border=\"1\" class=\"dataframe\">\n",
       "  <thead>\n",
       "    <tr style=\"text-align: right;\">\n",
       "      <th></th>\n",
       "      <th>timestamp</th>\n",
       "      <th>altitude</th>\n",
       "      <th>callsign</th>\n",
       "      <th>geoaltitude</th>\n",
       "      <th>groundspeed</th>\n",
       "      <th>icao24</th>\n",
       "      <th>lastseen</th>\n",
       "      <th>latitude</th>\n",
       "      <th>longitude</th>\n",
       "      <th>onground</th>\n",
       "      <th>...</th>\n",
       "      <th>distance</th>\n",
       "      <th>flight_id</th>\n",
       "      <th>runway</th>\n",
       "      <th>initial_bearing</th>\n",
       "      <th>initial_flow</th>\n",
       "      <th>simple</th>\n",
       "      <th>track_unwrapped</th>\n",
       "      <th>timedelta</th>\n",
       "      <th>x</th>\n",
       "      <th>y</th>\n",
       "    </tr>\n",
       "  </thead>\n",
       "  <tbody>\n",
       "    <tr>\n",
       "      <th>0</th>\n",
       "      <td>2019-10-20 10:51:44+00:00</td>\n",
       "      <td>24475.0</td>\n",
       "      <td>2FPLF</td>\n",
       "      <td>25325.0</td>\n",
       "      <td>357.135520</td>\n",
       "      <td>43eb7b</td>\n",
       "      <td>2019-10-20 11:14:08+00:00</td>\n",
       "      <td>46.821854</td>\n",
       "      <td>8.782230</td>\n",
       "      <td>False</td>\n",
       "      <td>...</td>\n",
       "      <td>48.073394</td>\n",
       "      <td>2FPLF_000</td>\n",
       "      <td>14</td>\n",
       "      <td>346.238576</td>\n",
       "      <td>312-354</td>\n",
       "      <td>True</td>\n",
       "      <td>353.730675</td>\n",
       "      <td>0.0</td>\n",
       "      <td>483388.149663</td>\n",
       "      <td>5.185490e+06</td>\n",
       "    </tr>\n",
       "    <tr>\n",
       "      <th>1</th>\n",
       "      <td>2019-10-20 10:51:49+00:00</td>\n",
       "      <td>24425.0</td>\n",
       "      <td>2FPLF</td>\n",
       "      <td>25275.0</td>\n",
       "      <td>355.372736</td>\n",
       "      <td>43eb7b</td>\n",
       "      <td>2019-10-20 11:14:08+00:00</td>\n",
       "      <td>46.830002</td>\n",
       "      <td>8.780890</td>\n",
       "      <td>False</td>\n",
       "      <td>...</td>\n",
       "      <td>47.592567</td>\n",
       "      <td>2FPLF_000</td>\n",
       "      <td>14</td>\n",
       "      <td>346.238576</td>\n",
       "      <td>312-354</td>\n",
       "      <td>True</td>\n",
       "      <td>353.535136</td>\n",
       "      <td>5.0</td>\n",
       "      <td>483288.473392</td>\n",
       "      <td>5.186396e+06</td>\n",
       "    </tr>\n",
       "    <tr>\n",
       "      <th>2</th>\n",
       "      <td>2019-10-20 10:51:54+00:00</td>\n",
       "      <td>24350.0</td>\n",
       "      <td>2FPLF</td>\n",
       "      <td>25200.0</td>\n",
       "      <td>354.379434</td>\n",
       "      <td>43eb7b</td>\n",
       "      <td>2019-10-20 11:14:08+00:00</td>\n",
       "      <td>46.837836</td>\n",
       "      <td>8.779587</td>\n",
       "      <td>False</td>\n",
       "      <td>...</td>\n",
       "      <td>47.130310</td>\n",
       "      <td>2FPLF_000</td>\n",
       "      <td>14</td>\n",
       "      <td>346.238576</td>\n",
       "      <td>312-354</td>\n",
       "      <td>True</td>\n",
       "      <td>353.498614</td>\n",
       "      <td>10.0</td>\n",
       "      <td>483191.540056</td>\n",
       "      <td>5.187267e+06</td>\n",
       "    </tr>\n",
       "    <tr>\n",
       "      <th>3</th>\n",
       "      <td>2019-10-20 10:51:59+00:00</td>\n",
       "      <td>24275.0</td>\n",
       "      <td>2FPLF</td>\n",
       "      <td>25150.0</td>\n",
       "      <td>353.050683</td>\n",
       "      <td>43eb7b</td>\n",
       "      <td>2019-10-20 11:14:08+00:00</td>\n",
       "      <td>46.846298</td>\n",
       "      <td>8.778210</td>\n",
       "      <td>False</td>\n",
       "      <td>...</td>\n",
       "      <td>46.631638</td>\n",
       "      <td>2FPLF_000</td>\n",
       "      <td>14</td>\n",
       "      <td>346.238576</td>\n",
       "      <td>312-354</td>\n",
       "      <td>True</td>\n",
       "      <td>353.821103</td>\n",
       "      <td>15.0</td>\n",
       "      <td>483089.214535</td>\n",
       "      <td>5.188207e+06</td>\n",
       "    </tr>\n",
       "    <tr>\n",
       "      <th>4</th>\n",
       "      <td>2019-10-20 10:52:04+00:00</td>\n",
       "      <td>24225.0</td>\n",
       "      <td>2FPLF</td>\n",
       "      <td>25100.0</td>\n",
       "      <td>353.735471</td>\n",
       "      <td>43eb7b</td>\n",
       "      <td>2019-10-20 11:14:08+00:00</td>\n",
       "      <td>46.853896</td>\n",
       "      <td>8.777046</td>\n",
       "      <td>False</td>\n",
       "      <td>...</td>\n",
       "      <td>46.185112</td>\n",
       "      <td>2FPLF_000</td>\n",
       "      <td>14</td>\n",
       "      <td>346.238576</td>\n",
       "      <td>312-354</td>\n",
       "      <td>True</td>\n",
       "      <td>354.143986</td>\n",
       "      <td>20.0</td>\n",
       "      <td>483002.864254</td>\n",
       "      <td>5.189052e+06</td>\n",
       "    </tr>\n",
       "    <tr>\n",
       "      <th>...</th>\n",
       "      <td>...</td>\n",
       "      <td>...</td>\n",
       "      <td>...</td>\n",
       "      <td>...</td>\n",
       "      <td>...</td>\n",
       "      <td>...</td>\n",
       "      <td>...</td>\n",
       "      <td>...</td>\n",
       "      <td>...</td>\n",
       "      <td>...</td>\n",
       "      <td>...</td>\n",
       "      <td>...</td>\n",
       "      <td>...</td>\n",
       "      <td>...</td>\n",
       "      <td>...</td>\n",
       "      <td>...</td>\n",
       "      <td>...</td>\n",
       "      <td>...</td>\n",
       "      <td>...</td>\n",
       "      <td>...</td>\n",
       "      <td>...</td>\n",
       "    </tr>\n",
       "    <tr>\n",
       "      <th>195</th>\n",
       "      <td>2019-11-27 07:26:43+00:00</td>\n",
       "      <td>3725.0</td>\n",
       "      <td>YUPZM</td>\n",
       "      <td>3575.0</td>\n",
       "      <td>174.828336</td>\n",
       "      <td>4c3f2c</td>\n",
       "      <td>2019-11-27 07:33:29+00:00</td>\n",
       "      <td>47.555237</td>\n",
       "      <td>8.435646</td>\n",
       "      <td>False</td>\n",
       "      <td>...</td>\n",
       "      <td>1.994653</td>\n",
       "      <td>YUPZM_14414</td>\n",
       "      <td>14</td>\n",
       "      <td>247.417105</td>\n",
       "      <td>240-276</td>\n",
       "      <td>True</td>\n",
       "      <td>137.327815</td>\n",
       "      <td>711.0</td>\n",
       "      <td>457539.230221</td>\n",
       "      <td>5.267125e+06</td>\n",
       "    </tr>\n",
       "    <tr>\n",
       "      <th>196</th>\n",
       "      <td>2019-11-27 07:26:47+00:00</td>\n",
       "      <td>3675.0</td>\n",
       "      <td>YUPZM</td>\n",
       "      <td>3525.0</td>\n",
       "      <td>174.091779</td>\n",
       "      <td>4c3f2c</td>\n",
       "      <td>2019-11-27 07:33:29+00:00</td>\n",
       "      <td>47.552692</td>\n",
       "      <td>8.439049</td>\n",
       "      <td>False</td>\n",
       "      <td>...</td>\n",
       "      <td>2.200732</td>\n",
       "      <td>YUPZM_14414</td>\n",
       "      <td>14</td>\n",
       "      <td>247.417105</td>\n",
       "      <td>240-276</td>\n",
       "      <td>True</td>\n",
       "      <td>137.327815</td>\n",
       "      <td>715.0</td>\n",
       "      <td>457793.242777</td>\n",
       "      <td>5.266840e+06</td>\n",
       "    </tr>\n",
       "    <tr>\n",
       "      <th>197</th>\n",
       "      <td>2019-11-27 07:26:51+00:00</td>\n",
       "      <td>3600.0</td>\n",
       "      <td>YUPZM</td>\n",
       "      <td>3450.0</td>\n",
       "      <td>172.678744</td>\n",
       "      <td>4c3f2c</td>\n",
       "      <td>2019-11-27 07:33:29+00:00</td>\n",
       "      <td>47.550430</td>\n",
       "      <td>8.442238</td>\n",
       "      <td>False</td>\n",
       "      <td>...</td>\n",
       "      <td>2.388390</td>\n",
       "      <td>YUPZM_14414</td>\n",
       "      <td>14</td>\n",
       "      <td>247.417105</td>\n",
       "      <td>240-276</td>\n",
       "      <td>True</td>\n",
       "      <td>137.346874</td>\n",
       "      <td>719.0</td>\n",
       "      <td>458031.343945</td>\n",
       "      <td>5.266587e+06</td>\n",
       "    </tr>\n",
       "    <tr>\n",
       "      <th>198</th>\n",
       "      <td>2019-11-27 07:26:54+00:00</td>\n",
       "      <td>3550.0</td>\n",
       "      <td>YUPZM</td>\n",
       "      <td>3400.0</td>\n",
       "      <td>172.626616</td>\n",
       "      <td>4c3f2c</td>\n",
       "      <td>2019-11-27 07:33:29+00:00</td>\n",
       "      <td>47.548595</td>\n",
       "      <td>8.444683</td>\n",
       "      <td>False</td>\n",
       "      <td>...</td>\n",
       "      <td>2.536754</td>\n",
       "      <td>YUPZM_14414</td>\n",
       "      <td>14</td>\n",
       "      <td>247.417105</td>\n",
       "      <td>240-276</td>\n",
       "      <td>True</td>\n",
       "      <td>136.877877</td>\n",
       "      <td>722.0</td>\n",
       "      <td>458213.897009</td>\n",
       "      <td>5.266382e+06</td>\n",
       "    </tr>\n",
       "    <tr>\n",
       "      <th>199</th>\n",
       "      <td>2019-11-27 07:26:58+00:00</td>\n",
       "      <td>3500.0</td>\n",
       "      <td>YUPZM</td>\n",
       "      <td>3350.0</td>\n",
       "      <td>171.213169</td>\n",
       "      <td>4c3f2c</td>\n",
       "      <td>2019-11-27 07:33:29+00:00</td>\n",
       "      <td>47.546407</td>\n",
       "      <td>8.447782</td>\n",
       "      <td>False</td>\n",
       "      <td>...</td>\n",
       "      <td>2.718694</td>\n",
       "      <td>YUPZM_14414</td>\n",
       "      <td>14</td>\n",
       "      <td>247.417105</td>\n",
       "      <td>240-276</td>\n",
       "      <td>True</td>\n",
       "      <td>136.893386</td>\n",
       "      <td>726.0</td>\n",
       "      <td>458445.336618</td>\n",
       "      <td>5.266137e+06</td>\n",
       "    </tr>\n",
       "  </tbody>\n",
       "</table>\n",
       "<p>2800000 rows × 23 columns</p>\n",
       "</div>"
      ],
      "text/plain": [
       "                    timestamp  altitude callsign  geoaltitude  groundspeed  \\\n",
       "0   2019-10-20 10:51:44+00:00   24475.0    2FPLF      25325.0   357.135520   \n",
       "1   2019-10-20 10:51:49+00:00   24425.0    2FPLF      25275.0   355.372736   \n",
       "2   2019-10-20 10:51:54+00:00   24350.0    2FPLF      25200.0   354.379434   \n",
       "3   2019-10-20 10:51:59+00:00   24275.0    2FPLF      25150.0   353.050683   \n",
       "4   2019-10-20 10:52:04+00:00   24225.0    2FPLF      25100.0   353.735471   \n",
       "..                        ...       ...      ...          ...          ...   \n",
       "195 2019-11-27 07:26:43+00:00    3725.0    YUPZM       3575.0   174.828336   \n",
       "196 2019-11-27 07:26:47+00:00    3675.0    YUPZM       3525.0   174.091779   \n",
       "197 2019-11-27 07:26:51+00:00    3600.0    YUPZM       3450.0   172.678744   \n",
       "198 2019-11-27 07:26:54+00:00    3550.0    YUPZM       3400.0   172.626616   \n",
       "199 2019-11-27 07:26:58+00:00    3500.0    YUPZM       3350.0   171.213169   \n",
       "\n",
       "     icao24                  lastseen   latitude  longitude  onground  ...  \\\n",
       "0    43eb7b 2019-10-20 11:14:08+00:00  46.821854   8.782230     False  ...   \n",
       "1    43eb7b 2019-10-20 11:14:08+00:00  46.830002   8.780890     False  ...   \n",
       "2    43eb7b 2019-10-20 11:14:08+00:00  46.837836   8.779587     False  ...   \n",
       "3    43eb7b 2019-10-20 11:14:08+00:00  46.846298   8.778210     False  ...   \n",
       "4    43eb7b 2019-10-20 11:14:08+00:00  46.853896   8.777046     False  ...   \n",
       "..      ...                       ...        ...        ...       ...  ...   \n",
       "195  4c3f2c 2019-11-27 07:33:29+00:00  47.555237   8.435646     False  ...   \n",
       "196  4c3f2c 2019-11-27 07:33:29+00:00  47.552692   8.439049     False  ...   \n",
       "197  4c3f2c 2019-11-27 07:33:29+00:00  47.550430   8.442238     False  ...   \n",
       "198  4c3f2c 2019-11-27 07:33:29+00:00  47.548595   8.444683     False  ...   \n",
       "199  4c3f2c 2019-11-27 07:33:29+00:00  47.546407   8.447782     False  ...   \n",
       "\n",
       "      distance    flight_id  runway  initial_bearing initial_flow simple  \\\n",
       "0    48.073394    2FPLF_000      14       346.238576      312-354   True   \n",
       "1    47.592567    2FPLF_000      14       346.238576      312-354   True   \n",
       "2    47.130310    2FPLF_000      14       346.238576      312-354   True   \n",
       "3    46.631638    2FPLF_000      14       346.238576      312-354   True   \n",
       "4    46.185112    2FPLF_000      14       346.238576      312-354   True   \n",
       "..         ...          ...     ...              ...          ...    ...   \n",
       "195   1.994653  YUPZM_14414      14       247.417105      240-276   True   \n",
       "196   2.200732  YUPZM_14414      14       247.417105      240-276   True   \n",
       "197   2.388390  YUPZM_14414      14       247.417105      240-276   True   \n",
       "198   2.536754  YUPZM_14414      14       247.417105      240-276   True   \n",
       "199   2.718694  YUPZM_14414      14       247.417105      240-276   True   \n",
       "\n",
       "     track_unwrapped timedelta              x             y  \n",
       "0         353.730675       0.0  483388.149663  5.185490e+06  \n",
       "1         353.535136       5.0  483288.473392  5.186396e+06  \n",
       "2         353.498614      10.0  483191.540056  5.187267e+06  \n",
       "3         353.821103      15.0  483089.214535  5.188207e+06  \n",
       "4         354.143986      20.0  483002.864254  5.189052e+06  \n",
       "..               ...       ...            ...           ...  \n",
       "195       137.327815     711.0  457539.230221  5.267125e+06  \n",
       "196       137.327815     715.0  457793.242777  5.266840e+06  \n",
       "197       137.346874     719.0  458031.343945  5.266587e+06  \n",
       "198       136.877877     722.0  458213.897009  5.266382e+06  \n",
       "199       136.893386     726.0  458445.336618  5.266137e+06  \n",
       "\n",
       "[2800000 rows x 23 columns]"
      ]
     },
     "execution_count": 7,
     "metadata": {},
     "output_type": "execute_result"
    }
   ],
   "source": [
    "import pandas as pd\n",
    "\n",
    "df = pd.read_pickle(\"data/traffic_noga_tilFAF_train.pkl\")\n",
    "df"
   ]
  },
  {
   "cell_type": "code",
   "execution_count": 5,
   "id": "b2e71032",
   "metadata": {},
   "outputs": [
    {
     "data": {
      "text/plain": [
       "Index(['timestamp', 'altitude', 'callsign', 'geoaltitude', 'groundspeed',\n",
       "       'icao24', 'lastseen', 'latitude', 'longitude', 'onground', 'origin',\n",
       "       'track', 'vertical_rate', 'distance', 'flight_id', 'runway',\n",
       "       'initial_bearing', 'initial_flow', 'simple', 'track_unwrapped',\n",
       "       'timedelta', 'x', 'y'],\n",
       "      dtype='object')"
      ]
     },
     "execution_count": 5,
     "metadata": {},
     "output_type": "execute_result"
    }
   ],
   "source": [
    "df.columns"
   ]
  },
  {
   "cell_type": "code",
   "execution_count": 6,
   "id": "ad0061c1",
   "metadata": {},
   "outputs": [
    {
     "data": {
      "text/plain": [
       "array(['14'], dtype=object)"
      ]
     },
     "execution_count": 6,
     "metadata": {},
     "output_type": "execute_result"
    }
   ],
   "source": [
    "df.runway.unique()"
   ]
  },
  {
   "cell_type": "code",
   "execution_count": 10,
   "id": "fd6a4756",
   "metadata": {},
   "outputs": [
    {
     "data": {
      "text/plain": [
       "(np.float64(359.99999999999994), np.float64(0.0))"
      ]
     },
     "execution_count": 10,
     "metadata": {},
     "output_type": "execute_result"
    }
   ],
   "source": [
    "df.track.max(), df.track.min()"
   ]
  },
  {
   "cell_type": "code",
   "execution_count": 11,
   "id": "561387a7",
   "metadata": {},
   "outputs": [
    {
     "data": {
      "text/plain": [
       "(np.float64(539.9115634248559), np.float64(106.83155095720612))"
      ]
     },
     "execution_count": 11,
     "metadata": {},
     "output_type": "execute_result"
    }
   ],
   "source": [
    "df.groundspeed.max(), df.groundspeed.min()"
   ]
  },
  {
   "cell_type": "code",
   "execution_count": 12,
   "id": "0bded497",
   "metadata": {},
   "outputs": [
    {
     "data": {
      "text/plain": [
       "(np.float64(392208.81564518687),\n",
       " np.float64(539761.9983550627),\n",
       " np.float64(5183352.528642613),\n",
       " np.float64(5330965.931020283))"
      ]
     },
     "execution_count": 12,
     "metadata": {},
     "output_type": "execute_result"
    }
   ],
   "source": [
    "df.x.min(), df.x.max(), df.y.min(), df.y.max()"
   ]
  },
  {
   "cell_type": "code",
   "execution_count": 13,
   "id": "d24fcbd7",
   "metadata": {},
   "outputs": [
    {
     "data": {
      "text/plain": [
       "(np.float64(30000.0), np.float64(1857.2916666666667))"
      ]
     },
     "execution_count": 13,
     "metadata": {},
     "output_type": "execute_result"
    }
   ],
   "source": [
    "df.altitude.max(), df.altitude.min()"
   ]
  },
  {
   "cell_type": "code",
   "execution_count": 14,
   "id": "b2a28570",
   "metadata": {},
   "outputs": [
    {
     "data": {
      "text/plain": [
       "(np.float64(2342.0), np.float64(0.0))"
      ]
     },
     "execution_count": 14,
     "metadata": {},
     "output_type": "execute_result"
    }
   ],
   "source": [
    "df.timedelta.max(), df.timedelta.min()"
   ]
  },
  {
   "cell_type": "code",
   "execution_count": 15,
   "id": "843e79f6",
   "metadata": {},
   "outputs": [
    {
     "data": {
      "text/plain": [
       "array(['2FPLF_000', '9AJIM_002', 'AAB298_003', ..., 'YUPNK_14412',\n",
       "       'YUPZM_14413', 'YUPZM_14414'], shape=(14000,), dtype=object)"
      ]
     },
     "execution_count": 15,
     "metadata": {},
     "output_type": "execute_result"
    }
   ],
   "source": [
    "df.flight_id.unique()"
   ]
  },
  {
   "cell_type": "code",
   "execution_count": 17,
   "id": "21a12458",
   "metadata": {},
   "outputs": [
    {
     "data": {
      "text/plain": [
       "array([200])"
      ]
     },
     "execution_count": 17,
     "metadata": {},
     "output_type": "execute_result"
    }
   ],
   "source": [
    "df.groupby('flight_id').size().unique()"
   ]
  },
  {
   "cell_type": "code",
   "execution_count": 27,
   "id": "e9957ba1",
   "metadata": {},
   "outputs": [
    {
     "data": {
      "text/plain": [
       "np.int64(0)"
      ]
     },
     "execution_count": 27,
     "metadata": {},
     "output_type": "execute_result"
    }
   ],
   "source": [
    "df.isna().sum().timestamp"
   ]
  },
  {
   "cell_type": "code",
   "execution_count": 32,
   "id": "4ccb0010",
   "metadata": {},
   "outputs": [],
   "source": [
    "from __future__ import annotations\n",
    "from dataclasses import dataclass\n",
    "from typing import List, Dict, Tuple\n",
    "\n",
    "import numpy as np\n",
    "import pandas as pd\n",
    "import torch\n",
    "from torch.utils.data import Dataset, DataLoader\n",
    "from sklearn.preprocessing import MinMaxScaler\n",
    "\n",
    "# VAE input features (scaled)\n",
    "FEATURES = [\"track\", \"groundspeed\", \"altitude\", \"timedelta\"]\n",
    "# Metadata we preserve from the last row of each flight\n",
    "META_LAST = [\"latitude\", \"longitude\", \"x\", \"y\"]"
   ]
  },
  {
   "cell_type": "code",
   "execution_count": 33,
   "id": "f1df621f",
   "metadata": {},
   "outputs": [],
   "source": [
    "def _clean_and_filter_group(g: pd.DataFrame, T: int) -> pd.DataFrame | None:\n",
    "    \"\"\"\n",
    "    Prepare one flight group:\n",
    "      - sort by 'timestamp' (required),\n",
    "      - drop rows with missing VAE FEATURES,\n",
    "      - keep the group only if its final length equals T.\n",
    "    Returns the cleaned DataFrame or None if it should be discarded.\n",
    "    \"\"\"\n",
    "    if \"timestamp\" not in g.columns:\n",
    "        raise ValueError(\"timestamp column is required for sorting\")\n",
    "\n",
    "    g = g.sort_values(\"timestamp\").reset_index(drop=True)\n",
    "    g = g.dropna(subset=FEATURES)\n",
    "\n",
    "    return g if len(g) == T else None"
   ]
  },
  {
   "cell_type": "code",
   "execution_count": 34,
   "id": "e8e35561",
   "metadata": {},
   "outputs": [],
   "source": [
    "@dataclass\n",
    "class TCVAEConfig:\n",
    "    T: int = 200\n",
    "    feature_range: Tuple[float, float] = (-1.0, 1.0)"
   ]
  },
  {
   "cell_type": "code",
   "execution_count": 35,
   "id": "d8626a87",
   "metadata": {},
   "outputs": [],
   "source": [
    "class TCVAEFlights200(Dataset):\n",
    "    \"\"\"\n",
    "    PyTorch Dataset that yields samples shaped for a temporal-conv VAE.\n",
    "\n",
    "    __getitem__ returns a dict with:\n",
    "      - \"x\": torch.FloatTensor of shape (C, T) = (4, 200), scaled to [-1, 1]\n",
    "      - \"meta\": dict with last (lat, lon, x, y) and identifiers\n",
    "    \"\"\"\n",
    "\n",
    "    def __init__(self, groups: List[pd.DataFrame], scaler: MinMaxScaler, cfg: TCVAEConfig):\n",
    "        self.groups = groups\n",
    "        self.scaler = scaler\n",
    "        self.cfg = cfg\n",
    "\n",
    "    def __len__(self) -> int:\n",
    "        return len(self.groups)\n",
    "\n",
    "    def __getitem__(self, idx: int) -> Dict[str, object]:\n",
    "        g = self.groups[idx]\n",
    "\n",
    "        # ---- features -> numpy (T, 4) -> scale -> torch (4, T)\n",
    "        X = g[FEATURES].to_numpy(dtype=np.float32)\n",
    "        Xn = self.scaler.transform(X)\n",
    "        x_ct = torch.from_numpy(Xn.T.copy())  # (4, T)\n",
    "\n",
    "        # ---- metadata from the last row\n",
    "        last = g.iloc[-1]\n",
    "        meta = {\n",
    "            \"latitude\": float(last[\"latitude\"]) if \"latitude\" in g.columns and pd.notna(last.get(\"latitude\")) else None,\n",
    "            \"longitude\": float(last[\"longitude\"]) if \"longitude\" in g.columns and pd.notna(last.get(\"longitude\")) else None,\n",
    "            \"x\": float(last[\"x\"]) if \"x\" in g.columns and pd.notna(last.get(\"x\")) else None,\n",
    "            \"y\": float(last[\"y\"]) if \"y\" in g.columns and pd.notna(last.get(\"y\")) else None,\n",
    "            \"flight_id\": last.get(\"flight_id\", None),\n",
    "            \"callsign\": last.get(\"callsign\", None),\n",
    "            \"icao24\": last.get(\"icao24\", None),\n",
    "        }\n",
    "\n",
    "        return {\"x\": x_ct, \"meta\": meta}"
   ]
  },
  {
   "cell_type": "code",
   "execution_count": 36,
   "id": "44507d1b",
   "metadata": {},
   "outputs": [],
   "source": [
    "def build_tcvae_train_dataset_exact200(\n",
    "    df: pd.DataFrame,\n",
    "    cfg: TCVAEConfig = TCVAEConfig(),\n",
    ") -> Tuple[TCVAEFlights200, MinMaxScaler, int]:\n",
    "    \"\"\"\n",
    "    Build the *training* dataset (no validation) with EXACT 200-point flights.\n",
    "\n",
    "    Steps\n",
    "    - group by `flight_id`\n",
    "    - clean + filter each group via `_clean_and_filter_group`\n",
    "    - fit MinMaxScaler on ALL retained flights (training-only)\n",
    "    - return: (dataset, scaler, n_dropped)\n",
    "    \"\"\"\n",
    "    groups_raw: List[pd.DataFrame] = []\n",
    "    dropped = 0\n",
    "\n",
    "    for _, g in df.groupby(\"flight_id\", sort=False):\n",
    "        g2 = _clean_and_filter_group(g, cfg.T)\n",
    "        if g2 is None:\n",
    "            dropped += 1\n",
    "            continue\n",
    "        groups_raw.append(g2)\n",
    "\n",
    "    if not groups_raw:\n",
    "        raise ValueError(\"No flights with exactly T points were found after cleaning.\")\n",
    "\n",
    "    # Fit scaler on all retained groups (training set only)\n",
    "    X_all = pd.concat([g[FEATURES] for g in groups_raw], axis=0).to_numpy(dtype=np.float32)\n",
    "    scaler = MinMaxScaler(feature_range=cfg.feature_range)\n",
    "    scaler.fit(X_all)\n",
    "\n",
    "    ds = TCVAEFlights200(groups_raw, scaler, cfg)\n",
    "    return ds, scaler, dropped"
   ]
  },
  {
   "cell_type": "code",
   "execution_count": 38,
   "id": "873e331f",
   "metadata": {},
   "outputs": [],
   "source": [
    "def make_train_loader(\n",
    "    ds: Dataset,\n",
    "    batch_size: int = 32,\n",
    "    num_workers: int = 0,\n",
    "    shuffle: bool = True,\n",
    ") -> DataLoader:\n",
    "    \"\"\"Create a DataLoader with a custom collate that returns dicts.\"\"\"\n",
    "\n",
    "    def _collate(batch):\n",
    "        x = torch.stack([b[\"x\"] for b in batch], dim=0)  # (N, 4, 200)\n",
    "        meta = [b[\"meta\"] for b in batch]\n",
    "        return {\"x\": x, \"meta\": meta}\n",
    "\n",
    "    return DataLoader(\n",
    "        ds,\n",
    "        batch_size=batch_size,\n",
    "        shuffle=shuffle,\n",
    "        num_workers=num_workers,\n",
    "        collate_fn=_collate,\n",
    "    )"
   ]
  },
  {
   "cell_type": "code",
   "execution_count": 39,
   "id": "d492dfcc",
   "metadata": {},
   "outputs": [
    {
     "name": "stdout",
     "output_type": "stream",
     "text": [
      "Flights kept: 14000 | Dropped (not exactly 200): 0\n"
     ]
    }
   ],
   "source": [
    "cfg = TCVAEConfig(T=200, feature_range=(-1, 1))\n",
    "train_ds, scaler, dropped = build_tcvae_train_dataset_exact200(df, cfg)\n",
    "print(f\"Flights kept: {len(train_ds)} | Dropped (not exactly {cfg.T}): {dropped}\")"
   ]
  },
  {
   "cell_type": "code",
   "execution_count": 40,
   "id": "ba7f2294",
   "metadata": {},
   "outputs": [
    {
     "name": "stdout",
     "output_type": "stream",
     "text": [
      "x shape (N, C, T): torch.Size([32, 4, 200])\n",
      "first meta: {'latitude': 47.54664016982256, 'longitude': 8.447148249699518, 'x': 458397.8251670391, 'y': 5266163.344985152, 'flight_id': 'AFR35RX_411', 'callsign': 'AFR35RX', 'icao24': '3950c6'}\n"
     ]
    }
   ],
   "source": [
    "train_loader = make_train_loader(train_ds, batch_size=32)\n",
    "batch = next(iter(train_loader))\n",
    "print(\"x shape (N, C, T):\", batch[\"x\"].shape)\n",
    "print(\"first meta:\", batch[\"meta\"][0])"
   ]
  },
  {
   "cell_type": "code",
   "execution_count": null,
   "id": "21c3ee96",
   "metadata": {},
   "outputs": [],
   "source": []
  }
 ],
 "metadata": {
  "kernelspec": {
   "display_name": "vae-paper-venv",
   "language": "python",
   "name": "python3"
  },
  "language_info": {
   "codemirror_mode": {
    "name": "ipython",
    "version": 3
   },
   "file_extension": ".py",
   "mimetype": "text/x-python",
   "name": "python",
   "nbconvert_exporter": "python",
   "pygments_lexer": "ipython3",
   "version": "3.13.5"
  }
 },
 "nbformat": 4,
 "nbformat_minor": 5
}
