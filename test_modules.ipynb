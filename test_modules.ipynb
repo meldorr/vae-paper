{
 "cells": [
  {
   "cell_type": "code",
   "execution_count": 1,
   "id": "8bf60b31",
   "metadata": {},
   "outputs": [
    {
     "name": "stdout",
     "output_type": "stream",
     "text": [
      "<class 'dict'>\n",
      "500\n",
      "['track', 'groundspeed', 'altitude', 'timedelta']\n"
     ]
    }
   ],
   "source": [
    "import yaml\n",
    "from pathlib import Path\n",
    "\n",
    "# Load params.yaml\n",
    "params_path = Path(\"hparams.yaml\")\n",
    "with open(params_path, \"r\") as f:\n",
    "    hparams = yaml.safe_load(f)\n",
    "\n",
    "print(type(hparams))\n",
    "print(hparams[\"batch_size\"])\n",
    "print(hparams[\"features\"])"
   ]
  },
  {
   "cell_type": "code",
   "execution_count": 2,
   "id": "6fc83f79",
   "metadata": {},
   "outputs": [
    {
     "data": {
      "text/plain": [
       "(2, torch.Size([4, 200]), torch.Size([2]))"
      ]
     },
     "execution_count": 2,
     "metadata": {},
     "output_type": "execute_result"
    }
   ],
   "source": [
    "from sklearn.preprocessing import MinMaxScaler\n",
    "from data.dataset import TrafficDataset\n",
    "\n",
    "dataset_tcvae = TrafficDataset.from_file(\n",
    "        \"data/traffic_noga_tilFAF_train.pkl\",\n",
    "        features=[\"track\", \"groundspeed\", \"altitude\", \"timedelta\"],\n",
    "        scaler=MinMaxScaler(feature_range=(-1, 1)),\n",
    "        shape= \"image\",\n",
    "        info_params={\"features\": [\"latitude\", \"longitude\"], \"index\": -1},\n",
    "    )\n",
    "\n",
    "for sample in dataset_tcvae:\n",
    "    break\n",
    "\n",
    "len(sample), sample[0].shape,sample[1].shape"
   ]
  },
  {
   "cell_type": "code",
   "execution_count": 3,
   "id": "9bfb6741",
   "metadata": {},
   "outputs": [
    {
     "data": {
      "text/plain": [
       "(2, torch.Size([500, 4, 200]), torch.Size([500, 2]))"
      ]
     },
     "execution_count": 3,
     "metadata": {},
     "output_type": "execute_result"
    }
   ],
   "source": [
    "from torch.utils.data import DataLoader\n",
    "\n",
    "loader = DataLoader(dataset_tcvae, batch_size=hparams[\"batch_size\"], shuffle=True, num_workers=4)\n",
    "\n",
    "for batch in loader:\n",
    "    break\n",
    "\n",
    "len(batch), batch[0].shape, batch[1].shape"
   ]
  },
  {
   "cell_type": "code",
   "execution_count": 4,
   "id": "4e8090de",
   "metadata": {},
   "outputs": [
    {
     "name": "stderr",
     "output_type": "stream",
     "text": [
      "/Users/meldor/Desktop/vae-paper/.venv/lib/python3.12/site-packages/torch/nn/utils/weight_norm.py:144: FutureWarning: `torch.nn.utils.weight_norm` is deprecated in favor of `torch.nn.utils.parametrizations.weight_norm`.\n",
      "  WeightNorm.apply(module, name, dim)\n"
     ]
    },
    {
     "data": {
      "text/plain": [
       "TemporalBlock(\n",
       "  (conv): Conv1d(4, 64, kernel_size=(16,), stride=(1,), dilation=(2,))\n",
       "  (dropout): Dropout(p=0.2, inplace=False)\n",
       ")"
      ]
     },
     "execution_count": 4,
     "metadata": {},
     "output_type": "execute_result"
    }
   ],
   "source": [
    "from tcn import TemporalBlock\n",
    "\n",
    "t = TemporalBlock(\n",
    "    in_channels=4,\n",
    "    out_channels=hparams[\"h_dims\"][-1],\n",
    "    kernel_size=hparams[\"kernel_size\"],\n",
    "    dilation=hparams[\"dilation_base\"],\n",
    "    out_activ=None,\n",
    "    dropout=0.2,\n",
    ")\n",
    "\n",
    "t"
   ]
  },
  {
   "cell_type": "code",
   "execution_count": 5,
   "id": "f3436fe9",
   "metadata": {},
   "outputs": [
    {
     "data": {
      "text/plain": [
       "torch.Size([500, 64, 200])"
      ]
     },
     "execution_count": 5,
     "metadata": {},
     "output_type": "execute_result"
    }
   ],
   "source": [
    "t(batch[0]).shape"
   ]
  },
  {
   "cell_type": "code",
   "execution_count": 6,
   "id": "504a0799",
   "metadata": {},
   "outputs": [
    {
     "data": {
      "text/plain": [
       "ResidualBlock(\n",
       "  (tmp_block1): TemporalBlock(\n",
       "    (conv): Conv1d(4, 64, kernel_size=(16,), stride=(1,), dilation=(2,))\n",
       "    (dropout): Dropout(p=0.2, inplace=False)\n",
       "  )\n",
       "  (tmp_block2): TemporalBlock(\n",
       "    (conv): Conv1d(64, 64, kernel_size=(16,), stride=(1,), dilation=(2,))\n",
       "    (dropout): Dropout(p=0.2, inplace=False)\n",
       "  )\n",
       "  (downsample): Conv1d(4, 64, kernel_size=(1,), stride=(1,))\n",
       ")"
      ]
     },
     "execution_count": 6,
     "metadata": {},
     "output_type": "execute_result"
    }
   ],
   "source": [
    "from tcn import ResidualBlock\n",
    "\n",
    "r = ResidualBlock(\n",
    "    in_channels=4,\n",
    "    out_channels=hparams[\"h_dims\"][-1],\n",
    "    kernel_size=hparams[\"kernel_size\"],\n",
    "    dilation=hparams[\"dilation_base\"],\n",
    "    h_activ=None,\n",
    "    dropout=0.2,\n",
    ")\n",
    "\n",
    "r"
   ]
  },
  {
   "cell_type": "code",
   "execution_count": 7,
   "id": "928ca331",
   "metadata": {},
   "outputs": [
    {
     "data": {
      "text/plain": [
       "torch.Size([500, 64, 200])"
      ]
     },
     "execution_count": 7,
     "metadata": {},
     "output_type": "execute_result"
    }
   ],
   "source": [
    "r(batch[0]).shape"
   ]
  },
  {
   "cell_type": "code",
   "execution_count": 8,
   "id": "0babf630",
   "metadata": {},
   "outputs": [
    {
     "data": {
      "text/plain": [
       "TCN(\n",
       "  (network): Sequential(\n",
       "    (0): ResidualBlock(\n",
       "      (tmp_block1): TemporalBlock(\n",
       "        (conv): Conv1d(4, 64, kernel_size=(16,), stride=(1,))\n",
       "        (dropout): Dropout(p=0.2, inplace=False)\n",
       "      )\n",
       "      (tmp_block2): TemporalBlock(\n",
       "        (conv): Conv1d(64, 64, kernel_size=(16,), stride=(1,))\n",
       "        (dropout): Dropout(p=0.2, inplace=False)\n",
       "      )\n",
       "      (downsample): Conv1d(4, 64, kernel_size=(1,), stride=(1,))\n",
       "    )\n",
       "    (1): ResidualBlock(\n",
       "      (tmp_block1): TemporalBlock(\n",
       "        (conv): Conv1d(64, 64, kernel_size=(16,), stride=(1,), dilation=(2,))\n",
       "        (dropout): Dropout(p=0.2, inplace=False)\n",
       "      )\n",
       "      (tmp_block2): TemporalBlock(\n",
       "        (conv): Conv1d(64, 64, kernel_size=(16,), stride=(1,), dilation=(2,))\n",
       "        (dropout): Dropout(p=0.2, inplace=False)\n",
       "      )\n",
       "    )\n",
       "    (2): ResidualBlock(\n",
       "      (tmp_block1): TemporalBlock(\n",
       "        (conv): Conv1d(64, 64, kernel_size=(16,), stride=(1,), dilation=(4,))\n",
       "        (dropout): Dropout(p=0.2, inplace=False)\n",
       "      )\n",
       "      (tmp_block2): TemporalBlock(\n",
       "        (conv): Conv1d(64, 64, kernel_size=(16,), stride=(1,), dilation=(4,))\n",
       "        (dropout): Dropout(p=0.2, inplace=False)\n",
       "      )\n",
       "    )\n",
       "    (3): ResidualBlock(\n",
       "      (tmp_block1): TemporalBlock(\n",
       "        (conv): Conv1d(64, 64, kernel_size=(16,), stride=(1,), dilation=(8,))\n",
       "        (dropout): Dropout(p=0.2, inplace=False)\n",
       "      )\n",
       "      (tmp_block2): TemporalBlock(\n",
       "        (conv): Conv1d(64, 64, kernel_size=(16,), stride=(1,), dilation=(8,))\n",
       "        (dropout): Dropout(p=0.2, inplace=False)\n",
       "      )\n",
       "    )\n",
       "  )\n",
       ")"
      ]
     },
     "execution_count": 8,
     "metadata": {},
     "output_type": "execute_result"
    }
   ],
   "source": [
    "from tcn import TCN\n",
    "\n",
    "tn = TCN(\n",
    "    input_dim=4,\n",
    "    out_dim=hparams[\"h_dims\"][-1],\n",
    "    h_dims=hparams[\"h_dims\"],\n",
    "    kernel_size=hparams[\"kernel_size\"],\n",
    "    dilation_base=hparams[\"dilation_base\"],\n",
    "    h_activ=None,\n",
    "    dropout=0.2,)\n",
    "\n",
    "tn"
   ]
  },
  {
   "cell_type": "code",
   "execution_count": 9,
   "id": "2d3c61d3",
   "metadata": {},
   "outputs": [
    {
     "data": {
      "text/plain": [
       "torch.Size([500, 64, 200])"
      ]
     },
     "execution_count": 9,
     "metadata": {},
     "output_type": "execute_result"
    }
   ],
   "source": [
    "tn(batch[0]).shape"
   ]
  },
  {
   "cell_type": "code",
   "execution_count": 10,
   "id": "43df543a",
   "metadata": {},
   "outputs": [
    {
     "data": {
      "text/plain": [
       "Encoder(\n",
       "  (tcn): TCN(\n",
       "    (network): Sequential(\n",
       "      (0): ResidualBlock(\n",
       "        (tmp_block1): TemporalBlock(\n",
       "          (conv): Conv1d(4, 64, kernel_size=(16,), stride=(1,))\n",
       "          (dropout): Dropout(p=0.2, inplace=False)\n",
       "        )\n",
       "        (tmp_block2): TemporalBlock(\n",
       "          (conv): Conv1d(64, 64, kernel_size=(16,), stride=(1,))\n",
       "          (dropout): Dropout(p=0.2, inplace=False)\n",
       "        )\n",
       "        (downsample): Conv1d(4, 64, kernel_size=(1,), stride=(1,))\n",
       "      )\n",
       "      (1): ResidualBlock(\n",
       "        (tmp_block1): TemporalBlock(\n",
       "          (conv): Conv1d(64, 64, kernel_size=(16,), stride=(1,), dilation=(2,))\n",
       "          (dropout): Dropout(p=0.2, inplace=False)\n",
       "        )\n",
       "        (tmp_block2): TemporalBlock(\n",
       "          (conv): Conv1d(64, 64, kernel_size=(16,), stride=(1,), dilation=(2,))\n",
       "          (dropout): Dropout(p=0.2, inplace=False)\n",
       "        )\n",
       "      )\n",
       "      (2): ResidualBlock(\n",
       "        (tmp_block1): TemporalBlock(\n",
       "          (conv): Conv1d(64, 64, kernel_size=(16,), stride=(1,), dilation=(4,))\n",
       "          (dropout): Dropout(p=0.2, inplace=False)\n",
       "        )\n",
       "        (tmp_block2): TemporalBlock(\n",
       "          (conv): Conv1d(64, 64, kernel_size=(16,), stride=(1,), dilation=(4,))\n",
       "          (dropout): Dropout(p=0.2, inplace=False)\n",
       "        )\n",
       "      )\n",
       "    )\n",
       "  )\n",
       ")"
      ]
     },
     "execution_count": 10,
     "metadata": {},
     "output_type": "execute_result"
    }
   ],
   "source": [
    "from encoder import Encoder\n",
    "\n",
    "e = Encoder(\n",
    "    input_dim=4,\n",
    "    out_dim=hparams[\"h_dims\"][-1],\n",
    "    h_dims=hparams[\"h_dims\"][:-1],\n",
    "    kernel_size=hparams[\"kernel_size\"],\n",
    "    dilation_base=hparams[\"dilation_base\"],\n",
    "    sampling_factor=hparams[\"sampling_factor\"],\n",
    "    h_activ=None,\n",
    "    dropout=0.2,\n",
    ")\n",
    "\n",
    "e"
   ]
  },
  {
   "cell_type": "code",
   "execution_count": 11,
   "id": "f196c15b",
   "metadata": {},
   "outputs": [
    {
     "data": {
      "text/plain": [
       "torch.Size([500, 1280])"
      ]
     },
     "execution_count": 11,
     "metadata": {},
     "output_type": "execute_result"
    }
   ],
   "source": [
    "#befoore flatten shape was 500x64x20\n",
    "encoder_output = e(batch[0])\n",
    "encoder_output.shape"
   ]
  },
  {
   "cell_type": "code",
   "execution_count": null,
   "id": "529050be",
   "metadata": {},
   "outputs": [],
   "source": []
  },
  {
   "cell_type": "code",
   "execution_count": 13,
   "id": "b6158c52",
   "metadata": {},
   "outputs": [
    {
     "data": {
      "text/plain": [
       "1280"
      ]
     },
     "execution_count": 13,
     "metadata": {},
     "output_type": "execute_result"
    }
   ],
   "source": [
    "h_dim = hparams[\"h_dims\"][-1] * (\n",
    "            int(batch[0][0].shape[-1] / hparams[\"sampling_factor\"])\n",
    "        )\n",
    "h_dim"
   ]
  },
  {
   "cell_type": "code",
   "execution_count": 14,
   "id": "db780861",
   "metadata": {},
   "outputs": [
    {
     "data": {
      "text/plain": [
       "(64, 200, 10)"
      ]
     },
     "execution_count": 14,
     "metadata": {},
     "output_type": "execute_result"
    }
   ],
   "source": [
    "hparams[\"h_dims\"][-1], batch[0][0].shape[-1], hparams[\"sampling_factor\"]"
   ]
  },
  {
   "cell_type": "code",
   "execution_count": 15,
   "id": "d803591d",
   "metadata": {},
   "outputs": [
    {
     "data": {
      "text/plain": [
       "(Independent(Normal(loc: torch.Size([500, 64]), scale: torch.Size([500, 64])), 1),\n",
       " torch.Size([500, 64]))"
      ]
     },
     "execution_count": 15,
     "metadata": {},
     "output_type": "execute_result"
    }
   ],
   "source": [
    "from lsr import NormalLSR\n",
    "\n",
    "lsr = NormalLSR(\n",
    "    input_dim=h_dim,\n",
    "    out_dim=hparams[\"encoding_dim\"],\n",
    ")\n",
    "\n",
    "lsr(encoder_output), lsr(encoder_output).rsample().shape"
   ]
  },
  {
   "cell_type": "code",
   "execution_count": 16,
   "id": "69d351b8",
   "metadata": {},
   "outputs": [],
   "source": [
    "sampled = lsr(encoder_output).rsample()"
   ]
  },
  {
   "cell_type": "code",
   "execution_count": 17,
   "id": "2ae5ad89",
   "metadata": {},
   "outputs": [
    {
     "data": {
      "text/plain": [
       "4"
      ]
     },
     "execution_count": 17,
     "metadata": {},
     "output_type": "execute_result"
    }
   ],
   "source": [
    "batch[0][0].shape[0]"
   ]
  },
  {
   "cell_type": "code",
   "execution_count": 18,
   "id": "a348a3df",
   "metadata": {},
   "outputs": [
    {
     "data": {
      "text/plain": [
       "(Independent(Normal(loc: torch.Size([500, 64]), scale: torch.Size([500, 64])), 1),\n",
       " torch.Size([500, 64]))"
      ]
     },
     "execution_count": 18,
     "metadata": {},
     "output_type": "execute_result"
    }
   ],
   "source": [
    "from lsr import VampPriorLSR\n",
    "\n",
    "vamplsr = VampPriorLSR(\n",
    "    original_dim=4,\n",
    "    original_seq_len=200,\n",
    "    input_dim=h_dim,\n",
    "    out_dim=hparams[\"encoding_dim\"],\n",
    "    encoder=e,\n",
    "    n_components=hparams[\"n_components\"],  # Number of components in the VampPrior\n",
    ")\n",
    "\n",
    "vamplsr(encoder_output), vamplsr(encoder_output).rsample().shape"
   ]
  },
  {
   "cell_type": "code",
   "execution_count": 19,
   "id": "cda5c770",
   "metadata": {},
   "outputs": [],
   "source": [
    "sampled_vamp = vamplsr(encoder_output).rsample()"
   ]
  },
  {
   "cell_type": "code",
   "execution_count": 20,
   "id": "5caa2d41",
   "metadata": {},
   "outputs": [
    {
     "data": {
      "text/plain": [
       "torch.Size([500, 4, 200])"
      ]
     },
     "execution_count": 20,
     "metadata": {},
     "output_type": "execute_result"
    }
   ],
   "source": [
    "from decoder import TCDecoder\n",
    "from torch import nn\n",
    "\n",
    "d = decoder = TCDecoder(\n",
    "            input_dim=hparams[\"encoding_dim\"],\n",
    "            out_dim=batch[0][0].shape[0],\n",
    "            h_dims=hparams[\"h_dims\"][::-1],\n",
    "            seq_len=batch[0][0].shape[-1],\n",
    "            kernel_size=hparams[\"kernel_size\"],\n",
    "            dilation_base=hparams[\"dilation_base\"],\n",
    "            sampling_factor=hparams[\"sampling_factor\"],\n",
    "            dropout=hparams[\"dropout\"],\n",
    "            h_activ=nn.ReLU(),\n",
    "            # h_activ=None,\n",
    "        )\n",
    "\n",
    "reconstructed = d(sampled)\n",
    "reconstructed.shape"
   ]
  },
  {
   "cell_type": "code",
   "execution_count": 21,
   "id": "a1228e0b",
   "metadata": {},
   "outputs": [
    {
     "data": {
      "text/plain": [
       "torch.Size([500, 4, 200])"
      ]
     },
     "execution_count": 21,
     "metadata": {},
     "output_type": "execute_result"
    }
   ],
   "source": [
    "reconstructed_vamp = d(sampled_vamp)\n",
    "reconstructed_vamp.shape"
   ]
  },
  {
   "cell_type": "code",
   "execution_count": null,
   "id": "ea2316f3",
   "metadata": {},
   "outputs": [],
   "source": []
  },
  {
   "cell_type": "code",
   "execution_count": 22,
   "id": "d408466b",
   "metadata": {},
   "outputs": [],
   "source": [
    "from tcvae import TCVAE\n",
    "\n",
    "tcv = TCVAE(hparams=hparams)\n",
    "lsr_distparams, z, x_hat = tcv(batch[0])"
   ]
  },
  {
   "cell_type": "code",
   "execution_count": 23,
   "id": "091768f7",
   "metadata": {},
   "outputs": [
    {
     "data": {
      "text/plain": [
       "torch.Size([500, 4, 200])"
      ]
     },
     "execution_count": 23,
     "metadata": {},
     "output_type": "execute_result"
    }
   ],
   "source": [
    "x_hat.shape"
   ]
  },
  {
   "cell_type": "code",
   "execution_count": null,
   "id": "d0a8e278",
   "metadata": {},
   "outputs": [],
   "source": []
  },
  {
   "cell_type": "code",
   "execution_count": null,
   "id": "fd516b17",
   "metadata": {},
   "outputs": [],
   "source": []
  },
  {
   "cell_type": "code",
   "execution_count": null,
   "id": "bf0e006c",
   "metadata": {},
   "outputs": [],
   "source": []
  },
  {
   "cell_type": "code",
   "execution_count": 1,
   "id": "5b8bba41",
   "metadata": {},
   "outputs": [
    {
     "name": "stdout",
     "output_type": "stream",
     "text": [
      "Using device: mps\n"
     ]
    }
   ],
   "source": [
    "import torch\n",
    "import torch.nn as nn\n",
    "from torch.utils.data import DataLoader\n",
    "from tqdm.auto import tqdm\n",
    "\n",
    "def get_device():\n",
    "    if torch.backends.mps.is_available():\n",
    "        return torch.device(\"mps\")\n",
    "    if torch.cuda.is_available():\n",
    "        return torch.device(\"cuda\")\n",
    "    return torch.device(\"cpu\")\n",
    "\n",
    "device = get_device()\n",
    "print(\"Using device:\", device)"
   ]
  },
  {
   "cell_type": "code",
   "execution_count": 2,
   "id": "5b6b04e5",
   "metadata": {},
   "outputs": [
    {
     "name": "stdout",
     "output_type": "stream",
     "text": [
      "<class 'dict'>\n",
      "500\n",
      "['track', 'groundspeed', 'altitude', 'timedelta']\n"
     ]
    }
   ],
   "source": [
    "import yaml\n",
    "from pathlib import Path\n",
    "\n",
    "# Load params.yaml\n",
    "params_path = Path(\"hparams.yaml\")\n",
    "with open(params_path, \"r\") as f:\n",
    "    hparams = yaml.safe_load(f)\n",
    "\n",
    "print(type(hparams))\n",
    "print(hparams[\"batch_size\"])\n",
    "print(hparams[\"features\"])"
   ]
  },
  {
   "cell_type": "code",
   "execution_count": 3,
   "id": "bde85c91",
   "metadata": {},
   "outputs": [
    {
     "data": {
      "text/plain": [
       "(2, torch.Size([4, 200]), torch.Size([2]))"
      ]
     },
     "execution_count": 3,
     "metadata": {},
     "output_type": "execute_result"
    }
   ],
   "source": [
    "from sklearn.preprocessing import MinMaxScaler\n",
    "from data.dataset import TrafficDataset\n",
    "\n",
    "dataset_tcvae = TrafficDataset.from_file(\n",
    "        \"data/traffic_noga_tilFAF_train.pkl\",\n",
    "        features=[\"track\", \"groundspeed\", \"altitude\", \"timedelta\"],\n",
    "        scaler=MinMaxScaler(feature_range=(-1, 1)),\n",
    "        shape= \"image\",\n",
    "        info_params={\"features\": [\"latitude\", \"longitude\"], \"index\": -1},\n",
    "    )\n",
    "\n",
    "for sample in dataset_tcvae:\n",
    "    break\n",
    "\n",
    "len(sample), sample[0].shape,sample[1].shape"
   ]
  },
  {
   "cell_type": "code",
   "execution_count": 4,
   "id": "e286fe4c",
   "metadata": {},
   "outputs": [],
   "source": [
    "loader = DataLoader(\n",
    "    dataset_tcvae,\n",
    "    batch_size=hparams[\"batch_size\"],\n",
    "    shuffle=True,\n",
    "    num_workers=4,\n",
    "    pin_memory=(device.type != \"cpu\"),\n",
    ")"
   ]
  },
  {
   "cell_type": "code",
   "execution_count": 5,
   "id": "6148b04a",
   "metadata": {},
   "outputs": [
    {
     "name": "stderr",
     "output_type": "stream",
     "text": [
      "/Users/meldor/Desktop/vae-paper/.venv/lib/python3.12/site-packages/torch/nn/utils/weight_norm.py:144: FutureWarning: `torch.nn.utils.weight_norm` is deprecated in favor of `torch.nn.utils.parametrizations.weight_norm`.\n",
      "  WeightNorm.apply(module, name, dim)\n"
     ]
    }
   ],
   "source": [
    "from tcvae import TCVAE\n",
    "\n",
    "seq_len = dataset_tcvae.seq_len  # should be 200 given your config\n",
    "model = TCVAE(hparams=hparams, inputdim=4, seq_length=seq_len).to(device)"
   ]
  },
  {
   "cell_type": "code",
   "execution_count": 6,
   "id": "0d7dc415",
   "metadata": {},
   "outputs": [],
   "source": [
    "opt = torch.optim.Adam(model.parameters(), lr=hparams[\"lr\"])"
   ]
  },
  {
   "cell_type": "code",
   "execution_count": 7,
   "id": "75fc0b96",
   "metadata": {},
   "outputs": [],
   "source": [
    "def empty_device_cache():\n",
    "    if device.type == \"cuda\":\n",
    "        torch.cuda.empty_cache()\n",
    "        # torch.cuda.ipc_collect()  # optional\n",
    "    elif device.type == \"mps\":\n",
    "        torch.mps.empty_cache()"
   ]
  },
  {
   "cell_type": "code",
   "execution_count": null,
   "id": "5265d51c",
   "metadata": {},
   "outputs": [
    {
     "name": "stderr",
     "output_type": "stream",
     "text": [
      "/Users/meldor/Desktop/vae-paper/.venv/lib/python3.12/site-packages/torch/utils/data/dataloader.py:684: UserWarning: 'pin_memory' argument is set as true but not supported on MPS now, then device pinned memory won't be used.\n",
      "  warnings.warn(warn_msg)\n"
     ]
    },
    {
     "data": {
      "application/vnd.jupyter.widget-view+json": {
       "model_id": "da9eebdf08a84e48981299603fde3ba5",
       "version_major": 2,
       "version_minor": 0
      },
      "text/plain": [
       "Epoch 1/500:   0%|          | 0/28 [00:00<?, ?it/s]"
      ]
     },
     "metadata": {},
     "output_type": "display_data"
    },
    {
     "name": "stdout",
     "output_type": "stream",
     "text": [
      "Epoch 001: train_loss=789.793483, kld_loss=2.213984, llv_loss=787.579590\n"
     ]
    },
    {
     "data": {
      "application/vnd.jupyter.widget-view+json": {
       "model_id": "e00de127fa64411c9edb5ec97a866a5f",
       "version_major": 2,
       "version_minor": 0
      },
      "text/plain": [
       "Epoch 2/500:   0%|          | 0/28 [00:00<?, ?it/s]"
      ]
     },
     "metadata": {},
     "output_type": "display_data"
    },
    {
     "name": "stdout",
     "output_type": "stream",
     "text": [
      "Epoch 002: train_loss=767.447486, kld_loss=4.271811, llv_loss=763.175720\n"
     ]
    },
    {
     "data": {
      "application/vnd.jupyter.widget-view+json": {
       "model_id": "4b1239793ecb4e03ab15c2327daea059",
       "version_major": 2,
       "version_minor": 0
      },
      "text/plain": [
       "Epoch 3/500:   0%|          | 0/28 [00:00<?, ?it/s]"
      ]
     },
     "metadata": {},
     "output_type": "display_data"
    },
    {
     "name": "stdout",
     "output_type": "stream",
     "text": [
      "Epoch 003: train_loss=762.608259, kld_loss=4.826683, llv_loss=757.781616\n"
     ]
    },
    {
     "data": {
      "application/vnd.jupyter.widget-view+json": {
       "model_id": "092e480e42bc4a109d426e646c5714a0",
       "version_major": 2,
       "version_minor": 0
      },
      "text/plain": [
       "Epoch 4/500:   0%|          | 0/28 [00:00<?, ?it/s]"
      ]
     },
     "metadata": {},
     "output_type": "display_data"
    },
    {
     "name": "stdout",
     "output_type": "stream",
     "text": [
      "Epoch 004: train_loss=759.357191, kld_loss=5.284576, llv_loss=754.072571\n"
     ]
    },
    {
     "data": {
      "application/vnd.jupyter.widget-view+json": {
       "model_id": "aba08d30aded4ca2830b608efa74e10f",
       "version_major": 2,
       "version_minor": 0
      },
      "text/plain": [
       "Epoch 5/500:   0%|          | 0/28 [00:00<?, ?it/s]"
      ]
     },
     "metadata": {},
     "output_type": "display_data"
    },
    {
     "name": "stdout",
     "output_type": "stream",
     "text": [
      "Epoch 005: train_loss=756.502947, kld_loss=5.504741, llv_loss=750.998169\n"
     ]
    },
    {
     "data": {
      "application/vnd.jupyter.widget-view+json": {
       "model_id": "876648a758d640bb9bef57004553ed79",
       "version_major": 2,
       "version_minor": 0
      },
      "text/plain": [
       "Epoch 6/500:   0%|          | 0/28 [00:00<?, ?it/s]"
      ]
     },
     "metadata": {},
     "output_type": "display_data"
    },
    {
     "name": "stdout",
     "output_type": "stream",
     "text": [
      "Epoch 006: train_loss=754.807641, kld_loss=5.475673, llv_loss=749.332031\n"
     ]
    },
    {
     "data": {
      "application/vnd.jupyter.widget-view+json": {
       "model_id": "c48e21abf3034e4e9f5c14d6c597f94b",
       "version_major": 2,
       "version_minor": 0
      },
      "text/plain": [
       "Epoch 7/500:   0%|          | 0/28 [00:00<?, ?it/s]"
      ]
     },
     "metadata": {},
     "output_type": "display_data"
    },
    {
     "name": "stdout",
     "output_type": "stream",
     "text": [
      "Epoch 007: train_loss=753.632193, kld_loss=5.358947, llv_loss=748.273315\n"
     ]
    },
    {
     "data": {
      "application/vnd.jupyter.widget-view+json": {
       "model_id": "4a09df260aa44b0c833bf3d64753582d",
       "version_major": 2,
       "version_minor": 0
      },
      "text/plain": [
       "Epoch 8/500:   0%|          | 0/28 [00:00<?, ?it/s]"
      ]
     },
     "metadata": {},
     "output_type": "display_data"
    },
    {
     "name": "stdout",
     "output_type": "stream",
     "text": [
      "Epoch 008: train_loss=753.044231, kld_loss=5.323489, llv_loss=747.720764\n"
     ]
    },
    {
     "data": {
      "application/vnd.jupyter.widget-view+json": {
       "model_id": "63196a78d92a402e9c8b52d19b19c34d",
       "version_major": 2,
       "version_minor": 0
      },
      "text/plain": [
       "Epoch 9/500:   0%|          | 0/28 [00:00<?, ?it/s]"
      ]
     },
     "metadata": {},
     "output_type": "display_data"
    },
    {
     "name": "stdout",
     "output_type": "stream",
     "text": [
      "Epoch 009: train_loss=752.439168, kld_loss=5.349605, llv_loss=747.089478\n"
     ]
    },
    {
     "data": {
      "application/vnd.jupyter.widget-view+json": {
       "model_id": "99e8ae22078e4cd793664a459ba6ea3d",
       "version_major": 2,
       "version_minor": 0
      },
      "text/plain": [
       "Epoch 10/500:   0%|          | 0/28 [00:00<?, ?it/s]"
      ]
     },
     "metadata": {},
     "output_type": "display_data"
    },
    {
     "name": "stdout",
     "output_type": "stream",
     "text": [
      "Epoch 010: train_loss=751.919918, kld_loss=5.355347, llv_loss=746.564636\n"
     ]
    },
    {
     "data": {
      "application/vnd.jupyter.widget-view+json": {
       "model_id": "f238dcb12a1646b994330e63df12d7de",
       "version_major": 2,
       "version_minor": 0
      },
      "text/plain": [
       "Epoch 11/500:   0%|          | 0/28 [00:00<?, ?it/s]"
      ]
     },
     "metadata": {},
     "output_type": "display_data"
    },
    {
     "name": "stdout",
     "output_type": "stream",
     "text": [
      "Epoch 011: train_loss=751.570836, kld_loss=5.367347, llv_loss=746.203552\n"
     ]
    },
    {
     "data": {
      "application/vnd.jupyter.widget-view+json": {
       "model_id": "2523680570354bf686190006d67ae817",
       "version_major": 2,
       "version_minor": 0
      },
      "text/plain": [
       "Epoch 12/500:   0%|          | 0/28 [00:00<?, ?it/s]"
      ]
     },
     "metadata": {},
     "output_type": "display_data"
    },
    {
     "name": "stdout",
     "output_type": "stream",
     "text": [
      "Epoch 012: train_loss=751.225963, kld_loss=5.421280, llv_loss=745.804565\n"
     ]
    },
    {
     "data": {
      "application/vnd.jupyter.widget-view+json": {
       "model_id": "0a1cfe41335343d9a418f7667398ba8b",
       "version_major": 2,
       "version_minor": 0
      },
      "text/plain": [
       "Epoch 13/500:   0%|          | 0/28 [00:00<?, ?it/s]"
      ]
     },
     "metadata": {},
     "output_type": "display_data"
    },
    {
     "name": "stdout",
     "output_type": "stream",
     "text": [
      "Epoch 013: train_loss=750.782937, kld_loss=5.419363, llv_loss=745.363464\n"
     ]
    },
    {
     "data": {
      "application/vnd.jupyter.widget-view+json": {
       "model_id": "f70098dab33d4d028f91173fc9a4c4f6",
       "version_major": 2,
       "version_minor": 0
      },
      "text/plain": [
       "Epoch 14/500:   0%|          | 0/28 [00:00<?, ?it/s]"
      ]
     },
     "metadata": {},
     "output_type": "display_data"
    },
    {
     "name": "stdout",
     "output_type": "stream",
     "text": [
      "Epoch 014: train_loss=750.478186, kld_loss=5.469743, llv_loss=745.008423\n"
     ]
    },
    {
     "data": {
      "application/vnd.jupyter.widget-view+json": {
       "model_id": "403c7282c1184eb880c0fbe383eba31b",
       "version_major": 2,
       "version_minor": 0
      },
      "text/plain": [
       "Epoch 15/500:   0%|          | 0/28 [00:00<?, ?it/s]"
      ]
     },
     "metadata": {},
     "output_type": "display_data"
    },
    {
     "name": "stdout",
     "output_type": "stream",
     "text": [
      "Epoch 015: train_loss=750.113538, kld_loss=5.444224, llv_loss=744.669373\n"
     ]
    },
    {
     "data": {
      "application/vnd.jupyter.widget-view+json": {
       "model_id": "994bf4420412410a810a6d9cccf052fa",
       "version_major": 2,
       "version_minor": 0
      },
      "text/plain": [
       "Epoch 16/500:   0%|          | 0/28 [00:00<?, ?it/s]"
      ]
     },
     "metadata": {},
     "output_type": "display_data"
    },
    {
     "name": "stdout",
     "output_type": "stream",
     "text": [
      "Epoch 016: train_loss=749.949504, kld_loss=5.437018, llv_loss=744.512512\n"
     ]
    },
    {
     "data": {
      "application/vnd.jupyter.widget-view+json": {
       "model_id": "749b31317c9149e294617d0ef2faef7f",
       "version_major": 2,
       "version_minor": 0
      },
      "text/plain": [
       "Epoch 17/500:   0%|          | 0/28 [00:00<?, ?it/s]"
      ]
     },
     "metadata": {},
     "output_type": "display_data"
    },
    {
     "name": "stdout",
     "output_type": "stream",
     "text": [
      "Epoch 017: train_loss=749.790944, kld_loss=5.455531, llv_loss=744.335388\n"
     ]
    },
    {
     "data": {
      "application/vnd.jupyter.widget-view+json": {
       "model_id": "e1c2629c4ce84743889774160e9b36dc",
       "version_major": 2,
       "version_minor": 0
      },
      "text/plain": [
       "Epoch 18/500:   0%|          | 0/28 [00:00<?, ?it/s]"
      ]
     },
     "metadata": {},
     "output_type": "display_data"
    },
    {
     "name": "stdout",
     "output_type": "stream",
     "text": [
      "Epoch 018: train_loss=749.708533, kld_loss=5.414989, llv_loss=744.293457\n"
     ]
    },
    {
     "data": {
      "application/vnd.jupyter.widget-view+json": {
       "model_id": "1b1ec71f49564b298f4964ff4d42f0a7",
       "version_major": 2,
       "version_minor": 0
      },
      "text/plain": [
       "Epoch 19/500:   0%|          | 0/28 [00:00<?, ?it/s]"
      ]
     },
     "metadata": {},
     "output_type": "display_data"
    },
    {
     "name": "stdout",
     "output_type": "stream",
     "text": [
      "Epoch 019: train_loss=749.468416, kld_loss=5.460172, llv_loss=744.008301\n"
     ]
    },
    {
     "data": {
      "application/vnd.jupyter.widget-view+json": {
       "model_id": "731fb2041b9c47d594c329195a94fb61",
       "version_major": 2,
       "version_minor": 0
      },
      "text/plain": [
       "Epoch 20/500:   0%|          | 0/28 [00:00<?, ?it/s]"
      ]
     },
     "metadata": {},
     "output_type": "display_data"
    },
    {
     "name": "stdout",
     "output_type": "stream",
     "text": [
      "Epoch 020: train_loss=749.384103, kld_loss=5.436135, llv_loss=743.948059\n"
     ]
    },
    {
     "data": {
      "application/vnd.jupyter.widget-view+json": {
       "model_id": "d105f205e77c419dbf2ad978cf91af0d",
       "version_major": 2,
       "version_minor": 0
      },
      "text/plain": [
       "Epoch 21/500:   0%|          | 0/28 [00:00<?, ?it/s]"
      ]
     },
     "metadata": {},
     "output_type": "display_data"
    },
    {
     "name": "stdout",
     "output_type": "stream",
     "text": [
      "Epoch 021: train_loss=749.257710, kld_loss=5.448231, llv_loss=743.809509\n"
     ]
    },
    {
     "data": {
      "application/vnd.jupyter.widget-view+json": {
       "model_id": "03b4498126a248e2ba56a9270f6be6a6",
       "version_major": 2,
       "version_minor": 0
      },
      "text/plain": [
       "Epoch 22/500:   0%|          | 0/28 [00:00<?, ?it/s]"
      ]
     },
     "metadata": {},
     "output_type": "display_data"
    },
    {
     "name": "stdout",
     "output_type": "stream",
     "text": [
      "Epoch 022: train_loss=749.227910, kld_loss=5.434752, llv_loss=743.793152\n"
     ]
    },
    {
     "data": {
      "application/vnd.jupyter.widget-view+json": {
       "model_id": "4ddad7acd753402f9060c2317f65a458",
       "version_major": 2,
       "version_minor": 0
      },
      "text/plain": [
       "Epoch 23/500:   0%|          | 0/28 [00:00<?, ?it/s]"
      ]
     },
     "metadata": {},
     "output_type": "display_data"
    },
    {
     "name": "stdout",
     "output_type": "stream",
     "text": [
      "Epoch 023: train_loss=749.180814, kld_loss=5.479869, llv_loss=743.700745\n"
     ]
    },
    {
     "data": {
      "application/vnd.jupyter.widget-view+json": {
       "model_id": "68f1a8225781485694aca724149a3fde",
       "version_major": 2,
       "version_minor": 0
      },
      "text/plain": [
       "Epoch 24/500:   0%|          | 0/28 [00:00<?, ?it/s]"
      ]
     },
     "metadata": {},
     "output_type": "display_data"
    },
    {
     "name": "stdout",
     "output_type": "stream",
     "text": [
      "Epoch 024: train_loss=749.053990, kld_loss=5.455201, llv_loss=743.598816\n"
     ]
    },
    {
     "data": {
      "application/vnd.jupyter.widget-view+json": {
       "model_id": "680edb440114437783b2d3f93870c1ad",
       "version_major": 2,
       "version_minor": 0
      },
      "text/plain": [
       "Epoch 25/500:   0%|          | 0/28 [00:00<?, ?it/s]"
      ]
     },
     "metadata": {},
     "output_type": "display_data"
    },
    {
     "name": "stdout",
     "output_type": "stream",
     "text": [
      "Epoch 025: train_loss=748.947739, kld_loss=5.458354, llv_loss=743.489380\n"
     ]
    },
    {
     "data": {
      "application/vnd.jupyter.widget-view+json": {
       "model_id": "1ac2d8827a0149618cbba57cd0406e8c",
       "version_major": 2,
       "version_minor": 0
      },
      "text/plain": [
       "Epoch 26/500:   0%|          | 0/28 [00:00<?, ?it/s]"
      ]
     },
     "metadata": {},
     "output_type": "display_data"
    },
    {
     "name": "stdout",
     "output_type": "stream",
     "text": [
      "Epoch 026: train_loss=748.903229, kld_loss=5.479332, llv_loss=743.423828\n"
     ]
    },
    {
     "data": {
      "application/vnd.jupyter.widget-view+json": {
       "model_id": "0ab33f60dab04baca70de668bbec4135",
       "version_major": 2,
       "version_minor": 0
      },
      "text/plain": [
       "Epoch 27/500:   0%|          | 0/28 [00:00<?, ?it/s]"
      ]
     },
     "metadata": {},
     "output_type": "display_data"
    },
    {
     "name": "stdout",
     "output_type": "stream",
     "text": [
      "Epoch 027: train_loss=748.811066, kld_loss=5.471159, llv_loss=743.339844\n"
     ]
    },
    {
     "data": {
      "application/vnd.jupyter.widget-view+json": {
       "model_id": "4db6565630e84214ab1fb67e2e9e0749",
       "version_major": 2,
       "version_minor": 0
      },
      "text/plain": [
       "Epoch 28/500:   0%|          | 0/28 [00:00<?, ?it/s]"
      ]
     },
     "metadata": {},
     "output_type": "display_data"
    },
    {
     "name": "stdout",
     "output_type": "stream",
     "text": [
      "Epoch 028: train_loss=748.737248, kld_loss=5.451046, llv_loss=743.286133\n"
     ]
    },
    {
     "data": {
      "application/vnd.jupyter.widget-view+json": {
       "model_id": "3aeb797cad1d436388d4ff0da4ae3aeb",
       "version_major": 2,
       "version_minor": 0
      },
      "text/plain": [
       "Epoch 29/500:   0%|          | 0/28 [00:00<?, ?it/s]"
      ]
     },
     "metadata": {},
     "output_type": "display_data"
    },
    {
     "name": "stdout",
     "output_type": "stream",
     "text": [
      "Epoch 029: train_loss=748.750229, kld_loss=5.474953, llv_loss=743.275269\n"
     ]
    },
    {
     "data": {
      "application/vnd.jupyter.widget-view+json": {
       "model_id": "3175653523e24d46b295df0e3d096878",
       "version_major": 2,
       "version_minor": 0
      },
      "text/plain": [
       "Epoch 30/500:   0%|          | 0/28 [00:00<?, ?it/s]"
      ]
     },
     "metadata": {},
     "output_type": "display_data"
    },
    {
     "name": "stdout",
     "output_type": "stream",
     "text": [
      "Epoch 030: train_loss=748.688725, kld_loss=5.485872, llv_loss=743.202820\n"
     ]
    },
    {
     "data": {
      "application/vnd.jupyter.widget-view+json": {
       "model_id": "43a19ce8e23e4360a882aac8047351a6",
       "version_major": 2,
       "version_minor": 0
      },
      "text/plain": [
       "Epoch 31/500:   0%|          | 0/28 [00:00<?, ?it/s]"
      ]
     },
     "metadata": {},
     "output_type": "display_data"
    },
    {
     "name": "stdout",
     "output_type": "stream",
     "text": [
      "Epoch 031: train_loss=748.610807, kld_loss=5.486404, llv_loss=743.124390\n"
     ]
    },
    {
     "data": {
      "application/vnd.jupyter.widget-view+json": {
       "model_id": "bdab5e5fe6ae4fba994bc5e31843e0a5",
       "version_major": 2,
       "version_minor": 0
      },
      "text/plain": [
       "Epoch 32/500:   0%|          | 0/28 [00:00<?, ?it/s]"
      ]
     },
     "metadata": {},
     "output_type": "display_data"
    },
    {
     "name": "stdout",
     "output_type": "stream",
     "text": [
      "Epoch 032: train_loss=748.584630, kld_loss=5.441709, llv_loss=743.142944\n"
     ]
    },
    {
     "data": {
      "application/vnd.jupyter.widget-view+json": {
       "model_id": "af94e3681a3f4cc0b46f69dbb5fe1a88",
       "version_major": 2,
       "version_minor": 0
      },
      "text/plain": [
       "Epoch 33/500:   0%|          | 0/28 [00:00<?, ?it/s]"
      ]
     },
     "metadata": {},
     "output_type": "display_data"
    },
    {
     "name": "stdout",
     "output_type": "stream",
     "text": [
      "Epoch 033: train_loss=748.557273, kld_loss=5.463021, llv_loss=743.094238\n"
     ]
    },
    {
     "data": {
      "application/vnd.jupyter.widget-view+json": {
       "model_id": "1883272aa09348ee9964a727df34d5b2",
       "version_major": 2,
       "version_minor": 0
      },
      "text/plain": [
       "Epoch 34/500:   0%|          | 0/28 [00:00<?, ?it/s]"
      ]
     },
     "metadata": {},
     "output_type": "display_data"
    },
    {
     "name": "stdout",
     "output_type": "stream",
     "text": [
      "Epoch 034: train_loss=748.559915, kld_loss=5.492224, llv_loss=743.067749\n"
     ]
    },
    {
     "data": {
      "application/vnd.jupyter.widget-view+json": {
       "model_id": "e13d13085ed248c0994595964d41191b",
       "version_major": 2,
       "version_minor": 0
      },
      "text/plain": [
       "Epoch 35/500:   0%|          | 0/28 [00:00<?, ?it/s]"
      ]
     },
     "metadata": {},
     "output_type": "display_data"
    },
    {
     "name": "stdout",
     "output_type": "stream",
     "text": [
      "Epoch 035: train_loss=748.444007, kld_loss=5.469955, llv_loss=742.974060\n"
     ]
    },
    {
     "data": {
      "application/vnd.jupyter.widget-view+json": {
       "model_id": "e12b655e46694cc8bb14cf81738e6d5c",
       "version_major": 2,
       "version_minor": 0
      },
      "text/plain": [
       "Epoch 36/500:   0%|          | 0/28 [00:00<?, ?it/s]"
      ]
     },
     "metadata": {},
     "output_type": "display_data"
    },
    {
     "name": "stdout",
     "output_type": "stream",
     "text": [
      "Epoch 036: train_loss=748.452595, kld_loss=5.487327, llv_loss=742.965332\n"
     ]
    },
    {
     "data": {
      "application/vnd.jupyter.widget-view+json": {
       "model_id": "6ccaab38c56a454db92f3ea22c882f53",
       "version_major": 2,
       "version_minor": 0
      },
      "text/plain": [
       "Epoch 37/500:   0%|          | 0/28 [00:00<?, ?it/s]"
      ]
     },
     "metadata": {},
     "output_type": "display_data"
    },
    {
     "name": "stdout",
     "output_type": "stream",
     "text": [
      "Epoch 037: train_loss=748.435604, kld_loss=5.461471, llv_loss=742.974182\n"
     ]
    },
    {
     "data": {
      "application/vnd.jupyter.widget-view+json": {
       "model_id": "59234d8427fc4f20b933de3ab449b1b2",
       "version_major": 2,
       "version_minor": 0
      },
      "text/plain": [
       "Epoch 38/500:   0%|          | 0/28 [00:00<?, ?it/s]"
      ]
     },
     "metadata": {},
     "output_type": "display_data"
    },
    {
     "name": "stdout",
     "output_type": "stream",
     "text": [
      "Epoch 038: train_loss=748.417779, kld_loss=5.451975, llv_loss=742.965698\n"
     ]
    },
    {
     "data": {
      "application/vnd.jupyter.widget-view+json": {
       "model_id": "04464cf64eb2453a8e585be3ab24c72b",
       "version_major": 2,
       "version_minor": 0
      },
      "text/plain": [
       "Epoch 39/500:   0%|          | 0/28 [00:00<?, ?it/s]"
      ]
     },
     "metadata": {},
     "output_type": "display_data"
    },
    {
     "name": "stdout",
     "output_type": "stream",
     "text": [
      "Epoch 039: train_loss=748.339724, kld_loss=5.458650, llv_loss=742.881042\n"
     ]
    },
    {
     "data": {
      "application/vnd.jupyter.widget-view+json": {
       "model_id": "a9d4d927a6304aeeb509ac052effb074",
       "version_major": 2,
       "version_minor": 0
      },
      "text/plain": [
       "Epoch 40/500:   0%|          | 0/28 [00:00<?, ?it/s]"
      ]
     },
     "metadata": {},
     "output_type": "display_data"
    },
    {
     "name": "stdout",
     "output_type": "stream",
     "text": [
      "Epoch 040: train_loss=748.308910, kld_loss=5.461600, llv_loss=742.847229\n"
     ]
    },
    {
     "data": {
      "application/vnd.jupyter.widget-view+json": {
       "model_id": "b45ddd219f574cf78fc262be5dca0cea",
       "version_major": 2,
       "version_minor": 0
      },
      "text/plain": [
       "Epoch 41/500:   0%|          | 0/28 [00:00<?, ?it/s]"
      ]
     },
     "metadata": {},
     "output_type": "display_data"
    },
    {
     "name": "stdout",
     "output_type": "stream",
     "text": [
      "Epoch 041: train_loss=748.267829, kld_loss=5.451199, llv_loss=742.816589\n"
     ]
    },
    {
     "data": {
      "application/vnd.jupyter.widget-view+json": {
       "model_id": "35fd6f1c535948578e3811424f997a73",
       "version_major": 2,
       "version_minor": 0
      },
      "text/plain": [
       "Epoch 42/500:   0%|          | 0/28 [00:00<?, ?it/s]"
      ]
     },
     "metadata": {},
     "output_type": "display_data"
    },
    {
     "name": "stdout",
     "output_type": "stream",
     "text": [
      "Epoch 042: train_loss=748.305073, kld_loss=5.495147, llv_loss=742.809998\n"
     ]
    },
    {
     "data": {
      "application/vnd.jupyter.widget-view+json": {
       "model_id": "35ae7d8da9f64e47b344466372270d13",
       "version_major": 2,
       "version_minor": 0
      },
      "text/plain": [
       "Epoch 43/500:   0%|          | 0/28 [00:00<?, ?it/s]"
      ]
     },
     "metadata": {},
     "output_type": "display_data"
    },
    {
     "name": "stdout",
     "output_type": "stream",
     "text": [
      "Epoch 043: train_loss=748.258214, kld_loss=5.469005, llv_loss=742.789185\n"
     ]
    },
    {
     "data": {
      "application/vnd.jupyter.widget-view+json": {
       "model_id": "555756bf25cd4b3f96aba294420e47ae",
       "version_major": 2,
       "version_minor": 0
      },
      "text/plain": [
       "Epoch 44/500:   0%|          | 0/28 [00:00<?, ?it/s]"
      ]
     },
     "metadata": {},
     "output_type": "display_data"
    },
    {
     "name": "stdout",
     "output_type": "stream",
     "text": [
      "Epoch 044: train_loss=748.224625, kld_loss=5.470803, llv_loss=742.753784\n"
     ]
    },
    {
     "data": {
      "application/vnd.jupyter.widget-view+json": {
       "model_id": "069aaba49e014b31aa9ece07af7891a2",
       "version_major": 2,
       "version_minor": 0
      },
      "text/plain": [
       "Epoch 45/500:   0%|          | 0/28 [00:00<?, ?it/s]"
      ]
     },
     "metadata": {},
     "output_type": "display_data"
    },
    {
     "name": "stdout",
     "output_type": "stream",
     "text": [
      "Epoch 045: train_loss=748.207535, kld_loss=5.498902, llv_loss=742.708557\n"
     ]
    },
    {
     "data": {
      "application/vnd.jupyter.widget-view+json": {
       "model_id": "36a0f085cac24d7791dd481fb5f4501b",
       "version_major": 2,
       "version_minor": 0
      },
      "text/plain": [
       "Epoch 46/500:   0%|          | 0/28 [00:00<?, ?it/s]"
      ]
     },
     "metadata": {},
     "output_type": "display_data"
    },
    {
     "data": {
      "application/vnd.jupyter.widget-view+json": {
       "model_id": "c2e0ba3e494845b180589d83d2930047",
       "version_major": 2,
       "version_minor": 0
      },
      "text/plain": [
       "Epoch 47/500:   0%|          | 0/28 [01:20<?, ?it/s]"
      ]
     },
     "metadata": {},
     "output_type": "display_data"
    },
    {
     "name": "stdout",
     "output_type": "stream",
     "text": [
      "Epoch 046: train_loss=748.179367, kld_loss=5.466260, llv_loss=742.713074\n"
     ]
    },
    {
     "name": "stderr",
     "output_type": "stream",
     "text": [
      "IOStream.flush timed out\n",
      "IOStream.flush timed out\n",
      "IOStream.flush timed out\n",
      "IOStream.flush timed out\n",
      "IOStream.flush timed out\n",
      "IOStream.flush timed out\n",
      "IOStream.flush timed out\n",
      "IOStream.flush timed out\n",
      "IOStream.flush timed out\n",
      "IOStream.flush timed out\n",
      "IOStream.flush timed out\n",
      "IOStream.flush timed out\n",
      "IOStream.flush timed out\n",
      "IOStream.flush timed out\n",
      "IOStream.flush timed out\n",
      "IOStream.flush timed out\n",
      "IOStream.flush timed out\n",
      "IOStream.flush timed out\n",
      "IOStream.flush timed out\n",
      "IOStream.flush timed out\n",
      "IOStream.flush timed out\n"
     ]
    },
    {
     "name": "stdout",
     "output_type": "stream",
     "text": [
      "Epoch 047: train_loss=748.179753, kld_loss=5.480611, llv_loss=742.699219\n"
     ]
    },
    {
     "data": {
      "application/vnd.jupyter.widget-view+json": {
       "model_id": "da22da87074d4e6dbea4526a99d67c26",
       "version_major": 2,
       "version_minor": 0
      },
      "text/plain": [
       "Epoch 48/500:   0%|          | 0/28 [00:00<?, ?it/s]"
      ]
     },
     "metadata": {},
     "output_type": "display_data"
    },
    {
     "name": "stdout",
     "output_type": "stream",
     "text": [
      "Epoch 048: train_loss=748.164540, kld_loss=5.469508, llv_loss=742.694946\n"
     ]
    },
    {
     "data": {
      "application/vnd.jupyter.widget-view+json": {
       "model_id": "28d3df9219f341ceb572ed167ecc1373",
       "version_major": 2,
       "version_minor": 0
      },
      "text/plain": [
       "Epoch 49/500:   0%|          | 0/28 [00:00<?, ?it/s]"
      ]
     },
     "metadata": {},
     "output_type": "display_data"
    },
    {
     "name": "stdout",
     "output_type": "stream",
     "text": [
      "Epoch 049: train_loss=748.142953, kld_loss=5.521706, llv_loss=742.621216\n"
     ]
    },
    {
     "data": {
      "application/vnd.jupyter.widget-view+json": {
       "model_id": "2dd6a260678840febfce4d51d31ee86e",
       "version_major": 2,
       "version_minor": 0
      },
      "text/plain": [
       "Epoch 50/500:   0%|          | 0/28 [00:00<?, ?it/s]"
      ]
     },
     "metadata": {},
     "output_type": "display_data"
    },
    {
     "name": "stdout",
     "output_type": "stream",
     "text": [
      "Epoch 050: train_loss=748.153013, kld_loss=5.512982, llv_loss=742.640015\n"
     ]
    },
    {
     "data": {
      "application/vnd.jupyter.widget-view+json": {
       "model_id": "bbba7481904e4f128fe8d774d9054ddb",
       "version_major": 2,
       "version_minor": 0
      },
      "text/plain": [
       "Epoch 51/500:   0%|          | 0/28 [00:00<?, ?it/s]"
      ]
     },
     "metadata": {},
     "output_type": "display_data"
    },
    {
     "name": "stdout",
     "output_type": "stream",
     "text": [
      "Epoch 051: train_loss=748.123389, kld_loss=5.498786, llv_loss=742.624634\n"
     ]
    },
    {
     "data": {
      "application/vnd.jupyter.widget-view+json": {
       "model_id": "47bfa0ffe14a480aa25f06bf2c50e733",
       "version_major": 2,
       "version_minor": 0
      },
      "text/plain": [
       "Epoch 52/500:   0%|          | 0/28 [00:00<?, ?it/s]"
      ]
     },
     "metadata": {},
     "output_type": "display_data"
    },
    {
     "name": "stdout",
     "output_type": "stream",
     "text": [
      "Epoch 052: train_loss=748.097933, kld_loss=5.483574, llv_loss=742.614319\n"
     ]
    },
    {
     "data": {
      "application/vnd.jupyter.widget-view+json": {
       "model_id": "8224ae15ff5645cbb093c391f8f7f1e3",
       "version_major": 2,
       "version_minor": 0
      },
      "text/plain": [
       "Epoch 53/500:   0%|          | 0/28 [00:00<?, ?it/s]"
      ]
     },
     "metadata": {},
     "output_type": "display_data"
    },
    {
     "name": "stdout",
     "output_type": "stream",
     "text": [
      "Epoch 053: train_loss=748.066341, kld_loss=5.487374, llv_loss=742.579102\n"
     ]
    },
    {
     "data": {
      "application/vnd.jupyter.widget-view+json": {
       "model_id": "1895457d9ec440d4a61f55434b77c47a",
       "version_major": 2,
       "version_minor": 0
      },
      "text/plain": [
       "Epoch 54/500:   0%|          | 0/28 [00:00<?, ?it/s]"
      ]
     },
     "metadata": {},
     "output_type": "display_data"
    },
    {
     "name": "stdout",
     "output_type": "stream",
     "text": [
      "Epoch 054: train_loss=748.077645, kld_loss=5.475915, llv_loss=742.601685\n"
     ]
    },
    {
     "data": {
      "application/vnd.jupyter.widget-view+json": {
       "model_id": "9206f80553d84a2e87eefcc4cd019781",
       "version_major": 2,
       "version_minor": 0
      },
      "text/plain": [
       "Epoch 55/500:   0%|          | 0/28 [00:00<?, ?it/s]"
      ]
     },
     "metadata": {},
     "output_type": "display_data"
    },
    {
     "name": "stdout",
     "output_type": "stream",
     "text": [
      "Epoch 055: train_loss=748.123252, kld_loss=5.467258, llv_loss=742.656067\n"
     ]
    },
    {
     "data": {
      "application/vnd.jupyter.widget-view+json": {
       "model_id": "1086fb54ea5342f58200b3f62cca2ff6",
       "version_major": 2,
       "version_minor": 0
      },
      "text/plain": [
       "Epoch 56/500:   0%|          | 0/28 [00:00<?, ?it/s]"
      ]
     },
     "metadata": {},
     "output_type": "display_data"
    },
    {
     "name": "stdout",
     "output_type": "stream",
     "text": [
      "Epoch 056: train_loss=748.081979, kld_loss=5.498965, llv_loss=742.583008\n"
     ]
    },
    {
     "data": {
      "application/vnd.jupyter.widget-view+json": {
       "model_id": "fcf81cdb97e24a46a88729b5bf5914e3",
       "version_major": 2,
       "version_minor": 0
      },
      "text/plain": [
       "Epoch 57/500:   0%|          | 0/28 [00:00<?, ?it/s]"
      ]
     },
     "metadata": {},
     "output_type": "display_data"
    },
    {
     "name": "stdout",
     "output_type": "stream",
     "text": [
      "Epoch 057: train_loss=748.032469, kld_loss=5.512986, llv_loss=742.519531\n"
     ]
    },
    {
     "data": {
      "application/vnd.jupyter.widget-view+json": {
       "model_id": "a8a87f90c8df4b0b88c1d6d8fe39b851",
       "version_major": 2,
       "version_minor": 0
      },
      "text/plain": [
       "Epoch 58/500:   0%|          | 0/28 [00:00<?, ?it/s]"
      ]
     },
     "metadata": {},
     "output_type": "display_data"
    },
    {
     "name": "stdout",
     "output_type": "stream",
     "text": [
      "Epoch 058: train_loss=748.099418, kld_loss=5.466068, llv_loss=742.633240\n"
     ]
    },
    {
     "data": {
      "application/vnd.jupyter.widget-view+json": {
       "model_id": "3103f0f973a3431d853d31827d91abb0",
       "version_major": 2,
       "version_minor": 0
      },
      "text/plain": [
       "Epoch 59/500:   0%|          | 0/28 [00:00<?, ?it/s]"
      ]
     },
     "metadata": {},
     "output_type": "display_data"
    },
    {
     "name": "stderr",
     "output_type": "stream",
     "text": [
      "/Users/meldor/.local/share/uv/python/cpython-3.12.11-macos-aarch64-none/lib/python3.12/multiprocessing/resource_tracker.py:213: UserWarning: ResourceTracker called reentrantly for resource cleanup, which is unsupported. The semaphore object '/loky-85692-zkhnrzhj' might leak.\n",
      "  warnings.warn(\n",
      "/Users/meldor/.local/share/uv/python/cpython-3.12.11-macos-aarch64-none/lib/python3.12/multiprocessing/resource_tracker.py:213: UserWarning: ResourceTracker called reentrantly for resource cleanup, which is unsupported. The semaphore object '/loky-85692-jrsvy8ve' might leak.\n",
      "  warnings.warn(\n",
      "/Users/meldor/.local/share/uv/python/cpython-3.12.11-macos-aarch64-none/lib/python3.12/multiprocessing/resource_tracker.py:213: UserWarning: ResourceTracker called reentrantly for resource cleanup, which is unsupported. The semaphore object '/loky-85692-rgtbwrv0' might leak.\n",
      "  warnings.warn(\n",
      "/Users/meldor/.local/share/uv/python/cpython-3.12.11-macos-aarch64-none/lib/python3.12/multiprocessing/resource_tracker.py:213: UserWarning: ResourceTracker called reentrantly for resource cleanup, which is unsupported. The semaphore object '/loky-85692-kgrp4ts0' might leak.\n",
      "  warnings.warn(\n",
      "/Users/meldor/.local/share/uv/python/cpython-3.12.11-macos-aarch64-none/lib/python3.12/multiprocessing/resource_tracker.py:213: UserWarning: ResourceTracker called reentrantly for resource cleanup, which is unsupported. The semaphore object '/loky-85692-7y5kds59' might leak.\n",
      "  warnings.warn(\n",
      "/Users/meldor/.local/share/uv/python/cpython-3.12.11-macos-aarch64-none/lib/python3.12/multiprocessing/resource_tracker.py:213: UserWarning: ResourceTracker called reentrantly for resource cleanup, which is unsupported. The semaphore object '/loky-85692-nnbmazuh' might leak.\n",
      "  warnings.warn(\n",
      "/Users/meldor/.local/share/uv/python/cpython-3.12.11-macos-aarch64-none/lib/python3.12/multiprocessing/resource_tracker.py:213: UserWarning: ResourceTracker called reentrantly for resource cleanup, which is unsupported. The semaphore object '/loky-85692-k7ic9bnc' might leak.\n",
      "  warnings.warn(\n",
      "/Users/meldor/.local/share/uv/python/cpython-3.12.11-macos-aarch64-none/lib/python3.12/multiprocessing/resource_tracker.py:213: UserWarning: ResourceTracker called reentrantly for resource cleanup, which is unsupported. The semaphore object '/loky-85692-2o3rcc6x' might leak.\n",
      "  warnings.warn(\n",
      "/Users/meldor/.local/share/uv/python/cpython-3.12.11-macos-aarch64-none/lib/python3.12/multiprocessing/resource_tracker.py:213: UserWarning: ResourceTracker called reentrantly for resource cleanup, which is unsupported. The semaphore object '/loky-85692-0dbjktwz' might leak.\n",
      "  warnings.warn(\n",
      "/Users/meldor/.local/share/uv/python/cpython-3.12.11-macos-aarch64-none/lib/python3.12/multiprocessing/resource_tracker.py:213: UserWarning: ResourceTracker called reentrantly for resource cleanup, which is unsupported. The semaphore object '/loky-85692-032dtyqo' might leak.\n",
      "  warnings.warn(\n",
      "/Users/meldor/.local/share/uv/python/cpython-3.12.11-macos-aarch64-none/lib/python3.12/multiprocessing/resource_tracker.py:213: UserWarning: ResourceTracker called reentrantly for resource cleanup, which is unsupported. The semaphore object '/loky-85692-r10sholm' might leak.\n",
      "  warnings.warn(\n",
      "/Users/meldor/.local/share/uv/python/cpython-3.12.11-macos-aarch64-none/lib/python3.12/multiprocessing/resource_tracker.py:213: UserWarning: ResourceTracker called reentrantly for resource cleanup, which is unsupported. The semaphore object '/loky-85692-4yopb3x7' might leak.\n",
      "  warnings.warn(\n",
      "/Users/meldor/.local/share/uv/python/cpython-3.12.11-macos-aarch64-none/lib/python3.12/multiprocessing/resource_tracker.py:213: UserWarning: ResourceTracker called reentrantly for resource cleanup, which is unsupported. The semaphore object '/loky-85692-k5ppdx39' might leak.\n",
      "  warnings.warn(\n",
      "/Users/meldor/.local/share/uv/python/cpython-3.12.11-macos-aarch64-none/lib/python3.12/multiprocessing/resource_tracker.py:213: UserWarning: ResourceTracker called reentrantly for resource cleanup, which is unsupported. The semaphore object '/loky-85692-y44r80pc' might leak.\n",
      "  warnings.warn(\n",
      "/Users/meldor/.local/share/uv/python/cpython-3.12.11-macos-aarch64-none/lib/python3.12/multiprocessing/resource_tracker.py:213: UserWarning: ResourceTracker called reentrantly for resource cleanup, which is unsupported. The semaphore object '/loky-85692-o0l72qtt' might leak.\n",
      "  warnings.warn(\n",
      "/Users/meldor/.local/share/uv/python/cpython-3.12.11-macos-aarch64-none/lib/python3.12/multiprocessing/resource_tracker.py:213: UserWarning: ResourceTracker called reentrantly for resource cleanup, which is unsupported. The semaphore object '/loky-85692-_s0ic366' might leak.\n",
      "  warnings.warn(\n",
      "/Users/meldor/.local/share/uv/python/cpython-3.12.11-macos-aarch64-none/lib/python3.12/multiprocessing/resource_tracker.py:213: UserWarning: ResourceTracker called reentrantly for resource cleanup, which is unsupported. The semaphore object '/loky-85692-f8wd6noz' might leak.\n",
      "  warnings.warn(\n",
      "/Users/meldor/.local/share/uv/python/cpython-3.12.11-macos-aarch64-none/lib/python3.12/multiprocessing/resource_tracker.py:213: UserWarning: ResourceTracker called reentrantly for resource cleanup, which is unsupported. The semaphore object '/loky-85692-7bt4_x_s' might leak.\n",
      "  warnings.warn(\n",
      "/Users/meldor/.local/share/uv/python/cpython-3.12.11-macos-aarch64-none/lib/python3.12/multiprocessing/resource_tracker.py:213: UserWarning: ResourceTracker called reentrantly for resource cleanup, which is unsupported. The semaphore object '/loky-85692-91om_k6m' might leak.\n",
      "  warnings.warn(\n",
      "/Users/meldor/.local/share/uv/python/cpython-3.12.11-macos-aarch64-none/lib/python3.12/multiprocessing/resource_tracker.py:213: UserWarning: ResourceTracker called reentrantly for resource cleanup, which is unsupported. The semaphore object '/loky-85692-wwkcnug8' might leak.\n",
      "  warnings.warn(\n",
      "/Users/meldor/.local/share/uv/python/cpython-3.12.11-macos-aarch64-none/lib/python3.12/multiprocessing/resource_tracker.py:213: UserWarning: ResourceTracker called reentrantly for resource cleanup, which is unsupported. The semaphore object '/loky-85692-w9c4ozq5' might leak.\n",
      "  warnings.warn(\n",
      "/Users/meldor/.local/share/uv/python/cpython-3.12.11-macos-aarch64-none/lib/python3.12/multiprocessing/resource_tracker.py:213: UserWarning: ResourceTracker called reentrantly for resource cleanup, which is unsupported. The semaphore object '/loky-85692-lsymfe_k' might leak.\n",
      "  warnings.warn(\n",
      "/Users/meldor/.local/share/uv/python/cpython-3.12.11-macos-aarch64-none/lib/python3.12/multiprocessing/resource_tracker.py:213: UserWarning: ResourceTracker called reentrantly for resource cleanup, which is unsupported. The semaphore object '/loky-85692-okjx9i04' might leak.\n",
      "  warnings.warn(\n",
      "/Users/meldor/.local/share/uv/python/cpython-3.12.11-macos-aarch64-none/lib/python3.12/multiprocessing/resource_tracker.py:213: UserWarning: ResourceTracker called reentrantly for resource cleanup, which is unsupported. The semaphore object '/loky-85692-zsyajm8v' might leak.\n",
      "  warnings.warn(\n",
      "/Users/meldor/.local/share/uv/python/cpython-3.12.11-macos-aarch64-none/lib/python3.12/multiprocessing/resource_tracker.py:213: UserWarning: ResourceTracker called reentrantly for resource cleanup, which is unsupported. The semaphore object '/loky-85692-dx_18ia0' might leak.\n",
      "  warnings.warn(\n",
      "/Users/meldor/.local/share/uv/python/cpython-3.12.11-macos-aarch64-none/lib/python3.12/multiprocessing/resource_tracker.py:213: UserWarning: ResourceTracker called reentrantly for resource cleanup, which is unsupported. The semaphore object '/loky-85692-0824rye3' might leak.\n",
      "  warnings.warn(\n",
      "/Users/meldor/.local/share/uv/python/cpython-3.12.11-macos-aarch64-none/lib/python3.12/multiprocessing/resource_tracker.py:213: UserWarning: ResourceTracker called reentrantly for resource cleanup, which is unsupported. The semaphore object '/loky-85692-pvzq6fh7' might leak.\n",
      "  warnings.warn(\n",
      "/Users/meldor/.local/share/uv/python/cpython-3.12.11-macos-aarch64-none/lib/python3.12/multiprocessing/resource_tracker.py:213: UserWarning: ResourceTracker called reentrantly for resource cleanup, which is unsupported. The semaphore object '/loky-85692-ozmmhr4h' might leak.\n",
      "  warnings.warn(\n",
      "/Users/meldor/.local/share/uv/python/cpython-3.12.11-macos-aarch64-none/lib/python3.12/multiprocessing/resource_tracker.py:213: UserWarning: ResourceTracker called reentrantly for resource cleanup, which is unsupported. The semaphore object '/loky-85692-1_r_scnb' might leak.\n",
      "  warnings.warn(\n",
      "/Users/meldor/.local/share/uv/python/cpython-3.12.11-macos-aarch64-none/lib/python3.12/multiprocessing/resource_tracker.py:213: UserWarning: ResourceTracker called reentrantly for resource cleanup, which is unsupported. The semaphore object '/loky-85692-q086fa2h' might leak.\n",
      "  warnings.warn(\n",
      "/Users/meldor/.local/share/uv/python/cpython-3.12.11-macos-aarch64-none/lib/python3.12/multiprocessing/resource_tracker.py:213: UserWarning: ResourceTracker called reentrantly for resource cleanup, which is unsupported. The semaphore object '/loky-85692-f3s3owdb' might leak.\n",
      "  warnings.warn(\n",
      "/Users/meldor/.local/share/uv/python/cpython-3.12.11-macos-aarch64-none/lib/python3.12/multiprocessing/resource_tracker.py:213: UserWarning: ResourceTracker called reentrantly for resource cleanup, which is unsupported. The semaphore object '/loky-85692-0_464ggh' might leak.\n",
      "  warnings.warn(\n",
      "/Users/meldor/.local/share/uv/python/cpython-3.12.11-macos-aarch64-none/lib/python3.12/multiprocessing/resource_tracker.py:213: UserWarning: ResourceTracker called reentrantly for resource cleanup, which is unsupported. The semaphore object '/loky-85692-8vrm3s2g' might leak.\n",
      "  warnings.warn(\n",
      "/Users/meldor/.local/share/uv/python/cpython-3.12.11-macos-aarch64-none/lib/python3.12/multiprocessing/resource_tracker.py:213: UserWarning: ResourceTracker called reentrantly for resource cleanup, which is unsupported. The semaphore object '/loky-85692-qr2ojbcx' might leak.\n",
      "  warnings.warn(\n",
      "/Users/meldor/.local/share/uv/python/cpython-3.12.11-macos-aarch64-none/lib/python3.12/multiprocessing/resource_tracker.py:213: UserWarning: ResourceTracker called reentrantly for resource cleanup, which is unsupported. The semaphore object '/loky-85692-vb7_hvp5' might leak.\n",
      "  warnings.warn(\n",
      "/Users/meldor/.local/share/uv/python/cpython-3.12.11-macos-aarch64-none/lib/python3.12/multiprocessing/resource_tracker.py:213: UserWarning: ResourceTracker called reentrantly for resource cleanup, which is unsupported. The semaphore object '/loky-85692-0_hdr4yu' might leak.\n",
      "  warnings.warn(\n",
      "/Users/meldor/.local/share/uv/python/cpython-3.12.11-macos-aarch64-none/lib/python3.12/multiprocessing/resource_tracker.py:213: UserWarning: ResourceTracker called reentrantly for resource cleanup, which is unsupported. The semaphore object '/loky-85692-9a68qbbb' might leak.\n",
      "  warnings.warn(\n",
      "/Users/meldor/.local/share/uv/python/cpython-3.12.11-macos-aarch64-none/lib/python3.12/multiprocessing/resource_tracker.py:213: UserWarning: ResourceTracker called reentrantly for resource cleanup, which is unsupported. The semaphore object '/loky-85692-igueidsw' might leak.\n",
      "  warnings.warn(\n",
      "/Users/meldor/.local/share/uv/python/cpython-3.12.11-macos-aarch64-none/lib/python3.12/multiprocessing/resource_tracker.py:213: UserWarning: ResourceTracker called reentrantly for resource cleanup, which is unsupported. The semaphore object '/loky-85692-3h5q6qn9' might leak.\n",
      "  warnings.warn(\n",
      "/Users/meldor/.local/share/uv/python/cpython-3.12.11-macos-aarch64-none/lib/python3.12/multiprocessing/resource_tracker.py:213: UserWarning: ResourceTracker called reentrantly for resource cleanup, which is unsupported. The semaphore object '/loky-85692-zgvt_19m' might leak.\n",
      "  warnings.warn(\n",
      "/Users/meldor/.local/share/uv/python/cpython-3.12.11-macos-aarch64-none/lib/python3.12/multiprocessing/resource_tracker.py:213: UserWarning: ResourceTracker called reentrantly for resource cleanup, which is unsupported. The semaphore object '/loky-85692-r3ivjcz1' might leak.\n",
      "  warnings.warn(\n",
      "/Users/meldor/.local/share/uv/python/cpython-3.12.11-macos-aarch64-none/lib/python3.12/multiprocessing/resource_tracker.py:213: UserWarning: ResourceTracker called reentrantly for resource cleanup, which is unsupported. The semaphore object '/loky-85692-2scmt2o9' might leak.\n",
      "  warnings.warn(\n",
      "/Users/meldor/.local/share/uv/python/cpython-3.12.11-macos-aarch64-none/lib/python3.12/multiprocessing/resource_tracker.py:213: UserWarning: ResourceTracker called reentrantly for resource cleanup, which is unsupported. The semaphore object '/loky-85692-30sfknnt' might leak.\n",
      "  warnings.warn(\n",
      "/Users/meldor/.local/share/uv/python/cpython-3.12.11-macos-aarch64-none/lib/python3.12/multiprocessing/resource_tracker.py:213: UserWarning: ResourceTracker called reentrantly for resource cleanup, which is unsupported. The semaphore object '/loky-85692-tev6wxp4' might leak.\n",
      "  warnings.warn(\n",
      "/Users/meldor/.local/share/uv/python/cpython-3.12.11-macos-aarch64-none/lib/python3.12/multiprocessing/resource_tracker.py:213: UserWarning: ResourceTracker called reentrantly for resource cleanup, which is unsupported. The semaphore object '/loky-85692-drp63fmv' might leak.\n",
      "  warnings.warn(\n",
      "/Users/meldor/.local/share/uv/python/cpython-3.12.11-macos-aarch64-none/lib/python3.12/multiprocessing/resource_tracker.py:213: UserWarning: ResourceTracker called reentrantly for resource cleanup, which is unsupported. The semaphore object '/loky-85692-v9mfdcno' might leak.\n",
      "  warnings.warn(\n",
      "/Users/meldor/.local/share/uv/python/cpython-3.12.11-macos-aarch64-none/lib/python3.12/multiprocessing/resource_tracker.py:213: UserWarning: ResourceTracker called reentrantly for resource cleanup, which is unsupported. The semaphore object '/loky-85692-9pzlvodb' might leak.\n",
      "  warnings.warn(\n",
      "/Users/meldor/.local/share/uv/python/cpython-3.12.11-macos-aarch64-none/lib/python3.12/multiprocessing/resource_tracker.py:213: UserWarning: ResourceTracker called reentrantly for resource cleanup, which is unsupported. The semaphore object '/loky-85692-i3bzr4ml' might leak.\n",
      "  warnings.warn(\n",
      "/Users/meldor/.local/share/uv/python/cpython-3.12.11-macos-aarch64-none/lib/python3.12/multiprocessing/resource_tracker.py:213: UserWarning: ResourceTracker called reentrantly for resource cleanup, which is unsupported. The semaphore object '/loky-85692-4squ3ayd' might leak.\n",
      "  warnings.warn(\n",
      "/Users/meldor/.local/share/uv/python/cpython-3.12.11-macos-aarch64-none/lib/python3.12/multiprocessing/resource_tracker.py:213: UserWarning: ResourceTracker called reentrantly for resource cleanup, which is unsupported. The semaphore object '/loky-85692-nivsm8z7' might leak.\n",
      "  warnings.warn(\n",
      "/Users/meldor/.local/share/uv/python/cpython-3.12.11-macos-aarch64-none/lib/python3.12/multiprocessing/resource_tracker.py:213: UserWarning: ResourceTracker called reentrantly for resource cleanup, which is unsupported. The semaphore object '/loky-85692-q16fz5mf' might leak.\n",
      "  warnings.warn(\n",
      "/Users/meldor/.local/share/uv/python/cpython-3.12.11-macos-aarch64-none/lib/python3.12/multiprocessing/resource_tracker.py:213: UserWarning: ResourceTracker called reentrantly for resource cleanup, which is unsupported. The semaphore object '/loky-85692-9uv7_qf4' might leak.\n",
      "  warnings.warn(\n",
      "/Users/meldor/.local/share/uv/python/cpython-3.12.11-macos-aarch64-none/lib/python3.12/multiprocessing/resource_tracker.py:213: UserWarning: ResourceTracker called reentrantly for resource cleanup, which is unsupported. The semaphore object '/loky-85692-asnj6oyi' might leak.\n",
      "  warnings.warn(\n",
      "/Users/meldor/.local/share/uv/python/cpython-3.12.11-macos-aarch64-none/lib/python3.12/multiprocessing/resource_tracker.py:213: UserWarning: ResourceTracker called reentrantly for resource cleanup, which is unsupported. The semaphore object '/loky-85692-jgbmernf' might leak.\n",
      "  warnings.warn(\n",
      "/Users/meldor/.local/share/uv/python/cpython-3.12.11-macos-aarch64-none/lib/python3.12/multiprocessing/resource_tracker.py:213: UserWarning: ResourceTracker called reentrantly for resource cleanup, which is unsupported. The semaphore object '/loky-85692-it4im6wi' might leak.\n",
      "  warnings.warn(\n",
      "/Users/meldor/.local/share/uv/python/cpython-3.12.11-macos-aarch64-none/lib/python3.12/multiprocessing/resource_tracker.py:213: UserWarning: ResourceTracker called reentrantly for resource cleanup, which is unsupported. The semaphore object '/loky-85692-_8yig13j' might leak.\n",
      "  warnings.warn(\n",
      "/Users/meldor/.local/share/uv/python/cpython-3.12.11-macos-aarch64-none/lib/python3.12/multiprocessing/resource_tracker.py:213: UserWarning: ResourceTracker called reentrantly for resource cleanup, which is unsupported. The semaphore object '/loky-85692-vxgduzby' might leak.\n",
      "  warnings.warn(\n",
      "/Users/meldor/.local/share/uv/python/cpython-3.12.11-macos-aarch64-none/lib/python3.12/multiprocessing/resource_tracker.py:213: UserWarning: ResourceTracker called reentrantly for resource cleanup, which is unsupported. The semaphore object '/loky-85692-w38c49z5' might leak.\n",
      "  warnings.warn(\n",
      "/Users/meldor/.local/share/uv/python/cpython-3.12.11-macos-aarch64-none/lib/python3.12/multiprocessing/resource_tracker.py:213: UserWarning: ResourceTracker called reentrantly for resource cleanup, which is unsupported. The semaphore object '/loky-85692-danw_son' might leak.\n",
      "  warnings.warn(\n",
      "/Users/meldor/.local/share/uv/python/cpython-3.12.11-macos-aarch64-none/lib/python3.12/multiprocessing/resource_tracker.py:213: UserWarning: ResourceTracker called reentrantly for resource cleanup, which is unsupported. The semaphore object '/loky-85692-k9jfmgrx' might leak.\n",
      "  warnings.warn(\n",
      "/Users/meldor/.local/share/uv/python/cpython-3.12.11-macos-aarch64-none/lib/python3.12/multiprocessing/resource_tracker.py:213: UserWarning: ResourceTracker called reentrantly for resource cleanup, which is unsupported. The semaphore object '/loky-85692-6r69g_o_' might leak.\n",
      "  warnings.warn(\n",
      "/Users/meldor/.local/share/uv/python/cpython-3.12.11-macos-aarch64-none/lib/python3.12/multiprocessing/resource_tracker.py:213: UserWarning: ResourceTracker called reentrantly for resource cleanup, which is unsupported. The semaphore object '/loky-85692-dwqjoxdo' might leak.\n",
      "  warnings.warn(\n",
      "/Users/meldor/.local/share/uv/python/cpython-3.12.11-macos-aarch64-none/lib/python3.12/multiprocessing/resource_tracker.py:213: UserWarning: ResourceTracker called reentrantly for resource cleanup, which is unsupported. The semaphore object '/loky-85692-vyfclclj' might leak.\n",
      "  warnings.warn(\n",
      "/Users/meldor/.local/share/uv/python/cpython-3.12.11-macos-aarch64-none/lib/python3.12/multiprocessing/resource_tracker.py:213: UserWarning: ResourceTracker called reentrantly for resource cleanup, which is unsupported. The semaphore object '/loky-85692-2c9oywup' might leak.\n",
      "  warnings.warn(\n",
      "/Users/meldor/.local/share/uv/python/cpython-3.12.11-macos-aarch64-none/lib/python3.12/multiprocessing/resource_tracker.py:213: UserWarning: ResourceTracker called reentrantly for resource cleanup, which is unsupported. The semaphore object '/loky-85692-vvbsi1xb' might leak.\n",
      "  warnings.warn(\n",
      "/Users/meldor/.local/share/uv/python/cpython-3.12.11-macos-aarch64-none/lib/python3.12/multiprocessing/resource_tracker.py:213: UserWarning: ResourceTracker called reentrantly for resource cleanup, which is unsupported. The semaphore object '/loky-85692-l2wv92_x' might leak.\n",
      "  warnings.warn(\n",
      "/Users/meldor/.local/share/uv/python/cpython-3.12.11-macos-aarch64-none/lib/python3.12/multiprocessing/resource_tracker.py:213: UserWarning: ResourceTracker called reentrantly for resource cleanup, which is unsupported. The semaphore object '/loky-85692-2l_b5aw6' might leak.\n",
      "  warnings.warn(\n",
      "/Users/meldor/.local/share/uv/python/cpython-3.12.11-macos-aarch64-none/lib/python3.12/multiprocessing/resource_tracker.py:213: UserWarning: ResourceTracker called reentrantly for resource cleanup, which is unsupported. The semaphore object '/loky-85692-j3lbo6qe' might leak.\n",
      "  warnings.warn(\n",
      "/Users/meldor/.local/share/uv/python/cpython-3.12.11-macos-aarch64-none/lib/python3.12/multiprocessing/resource_tracker.py:213: UserWarning: ResourceTracker called reentrantly for resource cleanup, which is unsupported. The semaphore object '/loky-85692-qnfuxtxx' might leak.\n",
      "  warnings.warn(\n",
      "/Users/meldor/.local/share/uv/python/cpython-3.12.11-macos-aarch64-none/lib/python3.12/multiprocessing/resource_tracker.py:213: UserWarning: ResourceTracker called reentrantly for resource cleanup, which is unsupported. The semaphore object '/loky-85692-fvbh0j3s' might leak.\n",
      "  warnings.warn(\n",
      "/Users/meldor/.local/share/uv/python/cpython-3.12.11-macos-aarch64-none/lib/python3.12/multiprocessing/resource_tracker.py:213: UserWarning: ResourceTracker called reentrantly for resource cleanup, which is unsupported. The semaphore object '/loky-85692-wfwmv0fy' might leak.\n",
      "  warnings.warn(\n",
      "/Users/meldor/.local/share/uv/python/cpython-3.12.11-macos-aarch64-none/lib/python3.12/multiprocessing/resource_tracker.py:213: UserWarning: ResourceTracker called reentrantly for resource cleanup, which is unsupported. The semaphore object '/loky-85692-0lze3m2r' might leak.\n",
      "  warnings.warn(\n",
      "/Users/meldor/.local/share/uv/python/cpython-3.12.11-macos-aarch64-none/lib/python3.12/multiprocessing/resource_tracker.py:213: UserWarning: ResourceTracker called reentrantly for resource cleanup, which is unsupported. The semaphore object '/loky-85692-y5_bb9uj' might leak.\n",
      "  warnings.warn(\n",
      "/Users/meldor/.local/share/uv/python/cpython-3.12.11-macos-aarch64-none/lib/python3.12/multiprocessing/resource_tracker.py:213: UserWarning: ResourceTracker called reentrantly for resource cleanup, which is unsupported. The semaphore object '/loky-85692-v__d4f18' might leak.\n",
      "  warnings.warn(\n",
      "/Users/meldor/.local/share/uv/python/cpython-3.12.11-macos-aarch64-none/lib/python3.12/multiprocessing/resource_tracker.py:213: UserWarning: ResourceTracker called reentrantly for resource cleanup, which is unsupported. The semaphore object '/loky-85692-_6vxiu6c' might leak.\n",
      "  warnings.warn(\n",
      "/Users/meldor/.local/share/uv/python/cpython-3.12.11-macos-aarch64-none/lib/python3.12/multiprocessing/resource_tracker.py:213: UserWarning: ResourceTracker called reentrantly for resource cleanup, which is unsupported. The semaphore object '/loky-85692-3t1su35z' might leak.\n",
      "  warnings.warn(\n",
      "/Users/meldor/.local/share/uv/python/cpython-3.12.11-macos-aarch64-none/lib/python3.12/multiprocessing/resource_tracker.py:213: UserWarning: ResourceTracker called reentrantly for resource cleanup, which is unsupported. The semaphore object '/loky-85692-h4bq4qpw' might leak.\n",
      "  warnings.warn(\n",
      "/Users/meldor/.local/share/uv/python/cpython-3.12.11-macos-aarch64-none/lib/python3.12/multiprocessing/resource_tracker.py:213: UserWarning: ResourceTracker called reentrantly for resource cleanup, which is unsupported. The semaphore object '/loky-85692-wcv3egsi' might leak.\n",
      "  warnings.warn(\n",
      "/Users/meldor/.local/share/uv/python/cpython-3.12.11-macos-aarch64-none/lib/python3.12/multiprocessing/resource_tracker.py:213: UserWarning: ResourceTracker called reentrantly for resource cleanup, which is unsupported. The semaphore object '/loky-85692-mf5zc6az' might leak.\n",
      "  warnings.warn(\n",
      "/Users/meldor/.local/share/uv/python/cpython-3.12.11-macos-aarch64-none/lib/python3.12/multiprocessing/resource_tracker.py:213: UserWarning: ResourceTracker called reentrantly for resource cleanup, which is unsupported. The semaphore object '/loky-85692-1p4u3win' might leak.\n",
      "  warnings.warn(\n",
      "/Users/meldor/.local/share/uv/python/cpython-3.12.11-macos-aarch64-none/lib/python3.12/multiprocessing/resource_tracker.py:213: UserWarning: ResourceTracker called reentrantly for resource cleanup, which is unsupported. The semaphore object '/loky-85692-cgbvp4s2' might leak.\n",
      "  warnings.warn(\n",
      "/Users/meldor/.local/share/uv/python/cpython-3.12.11-macos-aarch64-none/lib/python3.12/multiprocessing/resource_tracker.py:213: UserWarning: ResourceTracker called reentrantly for resource cleanup, which is unsupported. The semaphore object '/loky-85692-q3ossoon' might leak.\n",
      "  warnings.warn(\n",
      "/Users/meldor/.local/share/uv/python/cpython-3.12.11-macos-aarch64-none/lib/python3.12/multiprocessing/resource_tracker.py:213: UserWarning: ResourceTracker called reentrantly for resource cleanup, which is unsupported. The semaphore object '/loky-85692-dpoit3uv' might leak.\n",
      "  warnings.warn(\n",
      "/Users/meldor/.local/share/uv/python/cpython-3.12.11-macos-aarch64-none/lib/python3.12/multiprocessing/resource_tracker.py:213: UserWarning: ResourceTracker called reentrantly for resource cleanup, which is unsupported. The semaphore object '/loky-85692-ezukw5cq' might leak.\n",
      "  warnings.warn(\n",
      "/Users/meldor/.local/share/uv/python/cpython-3.12.11-macos-aarch64-none/lib/python3.12/multiprocessing/resource_tracker.py:213: UserWarning: ResourceTracker called reentrantly for resource cleanup, which is unsupported. The semaphore object '/loky-85692-vb_vwyvl' might leak.\n",
      "  warnings.warn(\n",
      "/Users/meldor/.local/share/uv/python/cpython-3.12.11-macos-aarch64-none/lib/python3.12/multiprocessing/resource_tracker.py:213: UserWarning: ResourceTracker called reentrantly for resource cleanup, which is unsupported. The semaphore object '/loky-85692-70dj410y' might leak.\n",
      "  warnings.warn(\n",
      "/Users/meldor/.local/share/uv/python/cpython-3.12.11-macos-aarch64-none/lib/python3.12/multiprocessing/resource_tracker.py:213: UserWarning: ResourceTracker called reentrantly for resource cleanup, which is unsupported. The semaphore object '/loky-85692-kojfn5a_' might leak.\n",
      "  warnings.warn(\n",
      "/Users/meldor/.local/share/uv/python/cpython-3.12.11-macos-aarch64-none/lib/python3.12/multiprocessing/resource_tracker.py:213: UserWarning: ResourceTracker called reentrantly for resource cleanup, which is unsupported. The semaphore object '/loky-85692-aluq3j2x' might leak.\n",
      "  warnings.warn(\n",
      "/Users/meldor/.local/share/uv/python/cpython-3.12.11-macos-aarch64-none/lib/python3.12/multiprocessing/resource_tracker.py:213: UserWarning: ResourceTracker called reentrantly for resource cleanup, which is unsupported. The semaphore object '/loky-85692-52iih9_0' might leak.\n",
      "  warnings.warn(\n",
      "/Users/meldor/.local/share/uv/python/cpython-3.12.11-macos-aarch64-none/lib/python3.12/multiprocessing/resource_tracker.py:213: UserWarning: ResourceTracker called reentrantly for resource cleanup, which is unsupported. The semaphore object '/loky-85692-k0qsx0iy' might leak.\n",
      "  warnings.warn(\n",
      "/Users/meldor/.local/share/uv/python/cpython-3.12.11-macos-aarch64-none/lib/python3.12/multiprocessing/resource_tracker.py:213: UserWarning: ResourceTracker called reentrantly for resource cleanup, which is unsupported. The semaphore object '/loky-85692-_r2ammpu' might leak.\n",
      "  warnings.warn(\n",
      "/Users/meldor/.local/share/uv/python/cpython-3.12.11-macos-aarch64-none/lib/python3.12/multiprocessing/resource_tracker.py:213: UserWarning: ResourceTracker called reentrantly for resource cleanup, which is unsupported. The semaphore object '/loky-85692-yy6kd5wb' might leak.\n",
      "  warnings.warn(\n",
      "/Users/meldor/.local/share/uv/python/cpython-3.12.11-macos-aarch64-none/lib/python3.12/multiprocessing/resource_tracker.py:213: UserWarning: ResourceTracker called reentrantly for resource cleanup, which is unsupported. The semaphore object '/loky-85692-t6lr5nkg' might leak.\n",
      "  warnings.warn(\n",
      "/Users/meldor/.local/share/uv/python/cpython-3.12.11-macos-aarch64-none/lib/python3.12/multiprocessing/resource_tracker.py:213: UserWarning: ResourceTracker called reentrantly for resource cleanup, which is unsupported. The semaphore object '/loky-85692-7b8snpbx' might leak.\n",
      "  warnings.warn(\n",
      "/Users/meldor/.local/share/uv/python/cpython-3.12.11-macos-aarch64-none/lib/python3.12/multiprocessing/resource_tracker.py:213: UserWarning: ResourceTracker called reentrantly for resource cleanup, which is unsupported. The semaphore object '/loky-85692-d5xa528z' might leak.\n",
      "  warnings.warn(\n",
      "/Users/meldor/.local/share/uv/python/cpython-3.12.11-macos-aarch64-none/lib/python3.12/multiprocessing/resource_tracker.py:213: UserWarning: ResourceTracker called reentrantly for resource cleanup, which is unsupported. The semaphore object '/loky-85692-w6u8dvtj' might leak.\n",
      "  warnings.warn(\n",
      "/Users/meldor/.local/share/uv/python/cpython-3.12.11-macos-aarch64-none/lib/python3.12/multiprocessing/resource_tracker.py:213: UserWarning: ResourceTracker called reentrantly for resource cleanup, which is unsupported. The semaphore object '/loky-85692-rc1iyurg' might leak.\n",
      "  warnings.warn(\n",
      "/Users/meldor/.local/share/uv/python/cpython-3.12.11-macos-aarch64-none/lib/python3.12/multiprocessing/resource_tracker.py:213: UserWarning: ResourceTracker called reentrantly for resource cleanup, which is unsupported. The semaphore object '/loky-85692-bflp2dc0' might leak.\n",
      "  warnings.warn(\n",
      "/Users/meldor/.local/share/uv/python/cpython-3.12.11-macos-aarch64-none/lib/python3.12/multiprocessing/resource_tracker.py:213: UserWarning: ResourceTracker called reentrantly for resource cleanup, which is unsupported. The semaphore object '/loky-85692-z9i94y7d' might leak.\n",
      "  warnings.warn(\n",
      "/Users/meldor/.local/share/uv/python/cpython-3.12.11-macos-aarch64-none/lib/python3.12/multiprocessing/resource_tracker.py:213: UserWarning: ResourceTracker called reentrantly for resource cleanup, which is unsupported. The semaphore object '/loky-85692-_pa_b5b7' might leak.\n",
      "  warnings.warn(\n",
      "/Users/meldor/.local/share/uv/python/cpython-3.12.11-macos-aarch64-none/lib/python3.12/multiprocessing/resource_tracker.py:213: UserWarning: ResourceTracker called reentrantly for resource cleanup, which is unsupported. The semaphore object '/loky-85692-phvlsi4_' might leak.\n",
      "  warnings.warn(\n",
      "/Users/meldor/.local/share/uv/python/cpython-3.12.11-macos-aarch64-none/lib/python3.12/multiprocessing/resource_tracker.py:213: UserWarning: ResourceTracker called reentrantly for resource cleanup, which is unsupported. The semaphore object '/loky-85692-xgb80pli' might leak.\n",
      "  warnings.warn(\n",
      "/Users/meldor/.local/share/uv/python/cpython-3.12.11-macos-aarch64-none/lib/python3.12/multiprocessing/resource_tracker.py:213: UserWarning: ResourceTracker called reentrantly for resource cleanup, which is unsupported. The semaphore object '/loky-85692-5lgyz1j_' might leak.\n",
      "  warnings.warn(\n",
      "/Users/meldor/.local/share/uv/python/cpython-3.12.11-macos-aarch64-none/lib/python3.12/multiprocessing/resource_tracker.py:213: UserWarning: ResourceTracker called reentrantly for resource cleanup, which is unsupported. The semaphore object '/loky-85692-swh_wg67' might leak.\n",
      "  warnings.warn(\n",
      "/Users/meldor/.local/share/uv/python/cpython-3.12.11-macos-aarch64-none/lib/python3.12/multiprocessing/resource_tracker.py:213: UserWarning: ResourceTracker called reentrantly for resource cleanup, which is unsupported. The semaphore object '/loky-85692-f9fo04o4' might leak.\n",
      "  warnings.warn(\n",
      "/Users/meldor/.local/share/uv/python/cpython-3.12.11-macos-aarch64-none/lib/python3.12/multiprocessing/resource_tracker.py:213: UserWarning: ResourceTracker called reentrantly for resource cleanup, which is unsupported. The semaphore object '/loky-85692-onxoj_yj' might leak.\n",
      "  warnings.warn(\n",
      "/Users/meldor/.local/share/uv/python/cpython-3.12.11-macos-aarch64-none/lib/python3.12/multiprocessing/resource_tracker.py:213: UserWarning: ResourceTracker called reentrantly for resource cleanup, which is unsupported. The semaphore object '/loky-85692-cdc7uj7x' might leak.\n",
      "  warnings.warn(\n",
      "/Users/meldor/.local/share/uv/python/cpython-3.12.11-macos-aarch64-none/lib/python3.12/multiprocessing/resource_tracker.py:213: UserWarning: ResourceTracker called reentrantly for resource cleanup, which is unsupported. The semaphore object '/loky-85692-rd2vx9ik' might leak.\n",
      "  warnings.warn(\n",
      "/Users/meldor/.local/share/uv/python/cpython-3.12.11-macos-aarch64-none/lib/python3.12/multiprocessing/resource_tracker.py:213: UserWarning: ResourceTracker called reentrantly for resource cleanup, which is unsupported. The semaphore object '/loky-85692-qgcwrghw' might leak.\n",
      "  warnings.warn(\n",
      "/Users/meldor/.local/share/uv/python/cpython-3.12.11-macos-aarch64-none/lib/python3.12/multiprocessing/resource_tracker.py:213: UserWarning: ResourceTracker called reentrantly for resource cleanup, which is unsupported. The semaphore object '/loky-85692-fj53ijen' might leak.\n",
      "  warnings.warn(\n",
      "/Users/meldor/.local/share/uv/python/cpython-3.12.11-macos-aarch64-none/lib/python3.12/multiprocessing/resource_tracker.py:213: UserWarning: ResourceTracker called reentrantly for resource cleanup, which is unsupported. The semaphore object '/loky-85692-qkh18oro' might leak.\n",
      "  warnings.warn(\n",
      "/Users/meldor/.local/share/uv/python/cpython-3.12.11-macos-aarch64-none/lib/python3.12/multiprocessing/resource_tracker.py:213: UserWarning: ResourceTracker called reentrantly for resource cleanup, which is unsupported. The semaphore object '/loky-85692-we7pa0qj' might leak.\n",
      "  warnings.warn(\n",
      "/Users/meldor/.local/share/uv/python/cpython-3.12.11-macos-aarch64-none/lib/python3.12/multiprocessing/resource_tracker.py:213: UserWarning: ResourceTracker called reentrantly for resource cleanup, which is unsupported. The semaphore object '/loky-85692-5rkmpk55' might leak.\n",
      "  warnings.warn(\n",
      "/Users/meldor/.local/share/uv/python/cpython-3.12.11-macos-aarch64-none/lib/python3.12/multiprocessing/resource_tracker.py:213: UserWarning: ResourceTracker called reentrantly for resource cleanup, which is unsupported. The semaphore object '/loky-85692-44290p5y' might leak.\n",
      "  warnings.warn(\n",
      "/Users/meldor/.local/share/uv/python/cpython-3.12.11-macos-aarch64-none/lib/python3.12/multiprocessing/resource_tracker.py:213: UserWarning: ResourceTracker called reentrantly for resource cleanup, which is unsupported. The semaphore object '/loky-85692-ghf7ufr7' might leak.\n",
      "  warnings.warn(\n",
      "/Users/meldor/.local/share/uv/python/cpython-3.12.11-macos-aarch64-none/lib/python3.12/multiprocessing/resource_tracker.py:213: UserWarning: ResourceTracker called reentrantly for resource cleanup, which is unsupported. The semaphore object '/loky-85692-uvn0sv4d' might leak.\n",
      "  warnings.warn(\n",
      "/Users/meldor/.local/share/uv/python/cpython-3.12.11-macos-aarch64-none/lib/python3.12/multiprocessing/resource_tracker.py:213: UserWarning: ResourceTracker called reentrantly for resource cleanup, which is unsupported. The semaphore object '/loky-85692-4xk5zra_' might leak.\n",
      "  warnings.warn(\n",
      "/Users/meldor/.local/share/uv/python/cpython-3.12.11-macos-aarch64-none/lib/python3.12/multiprocessing/resource_tracker.py:213: UserWarning: ResourceTracker called reentrantly for resource cleanup, which is unsupported. The semaphore object '/loky-85692-daqtlemy' might leak.\n",
      "  warnings.warn(\n",
      "/Users/meldor/.local/share/uv/python/cpython-3.12.11-macos-aarch64-none/lib/python3.12/multiprocessing/resource_tracker.py:213: UserWarning: ResourceTracker called reentrantly for resource cleanup, which is unsupported. The semaphore object '/loky-85692-6af1s_gt' might leak.\n",
      "  warnings.warn(\n",
      "/Users/meldor/.local/share/uv/python/cpython-3.12.11-macos-aarch64-none/lib/python3.12/multiprocessing/resource_tracker.py:213: UserWarning: ResourceTracker called reentrantly for resource cleanup, which is unsupported. The semaphore object '/loky-85692-lj2xc7ep' might leak.\n",
      "  warnings.warn(\n",
      "/Users/meldor/.local/share/uv/python/cpython-3.12.11-macos-aarch64-none/lib/python3.12/multiprocessing/resource_tracker.py:213: UserWarning: ResourceTracker called reentrantly for resource cleanup, which is unsupported. The semaphore object '/loky-85692-qsu3mxti' might leak.\n",
      "  warnings.warn(\n",
      "/Users/meldor/.local/share/uv/python/cpython-3.12.11-macos-aarch64-none/lib/python3.12/multiprocessing/resource_tracker.py:213: UserWarning: ResourceTracker called reentrantly for resource cleanup, which is unsupported. The semaphore object '/loky-85692-kux03lyk' might leak.\n",
      "  warnings.warn(\n",
      "/Users/meldor/.local/share/uv/python/cpython-3.12.11-macos-aarch64-none/lib/python3.12/multiprocessing/resource_tracker.py:213: UserWarning: ResourceTracker called reentrantly for resource cleanup, which is unsupported. The semaphore object '/loky-85692-28_hizon' might leak.\n",
      "  warnings.warn(\n",
      "/Users/meldor/.local/share/uv/python/cpython-3.12.11-macos-aarch64-none/lib/python3.12/multiprocessing/resource_tracker.py:213: UserWarning: ResourceTracker called reentrantly for resource cleanup, which is unsupported. The semaphore object '/loky-85692-uwc812lw' might leak.\n",
      "  warnings.warn(\n",
      "/Users/meldor/.local/share/uv/python/cpython-3.12.11-macos-aarch64-none/lib/python3.12/multiprocessing/resource_tracker.py:213: UserWarning: ResourceTracker called reentrantly for resource cleanup, which is unsupported. The semaphore object '/loky-85692-rprxqc5k' might leak.\n",
      "  warnings.warn(\n",
      "/Users/meldor/.local/share/uv/python/cpython-3.12.11-macos-aarch64-none/lib/python3.12/multiprocessing/resource_tracker.py:213: UserWarning: ResourceTracker called reentrantly for resource cleanup, which is unsupported. The semaphore object '/loky-85692-8kagkhrp' might leak.\n",
      "  warnings.warn(\n",
      "/Users/meldor/.local/share/uv/python/cpython-3.12.11-macos-aarch64-none/lib/python3.12/multiprocessing/resource_tracker.py:213: UserWarning: ResourceTracker called reentrantly for resource cleanup, which is unsupported. The semaphore object '/loky-85692-rni9vg9d' might leak.\n",
      "  warnings.warn(\n",
      "/Users/meldor/.local/share/uv/python/cpython-3.12.11-macos-aarch64-none/lib/python3.12/multiprocessing/resource_tracker.py:213: UserWarning: ResourceTracker called reentrantly for resource cleanup, which is unsupported. The semaphore object '/loky-85692-_6lxzwus' might leak.\n",
      "  warnings.warn(\n",
      "/Users/meldor/.local/share/uv/python/cpython-3.12.11-macos-aarch64-none/lib/python3.12/multiprocessing/resource_tracker.py:213: UserWarning: ResourceTracker called reentrantly for resource cleanup, which is unsupported. The semaphore object '/loky-85692-89gc5co7' might leak.\n",
      "  warnings.warn(\n",
      "/Users/meldor/.local/share/uv/python/cpython-3.12.11-macos-aarch64-none/lib/python3.12/multiprocessing/resource_tracker.py:213: UserWarning: ResourceTracker called reentrantly for resource cleanup, which is unsupported. The semaphore object '/loky-85692-mrl9czvp' might leak.\n",
      "  warnings.warn(\n",
      "/Users/meldor/.local/share/uv/python/cpython-3.12.11-macos-aarch64-none/lib/python3.12/multiprocessing/resource_tracker.py:213: UserWarning: ResourceTracker called reentrantly for resource cleanup, which is unsupported. The semaphore object '/loky-85692-_jd5b3wo' might leak.\n",
      "  warnings.warn(\n",
      "/Users/meldor/.local/share/uv/python/cpython-3.12.11-macos-aarch64-none/lib/python3.12/multiprocessing/resource_tracker.py:213: UserWarning: ResourceTracker called reentrantly for resource cleanup, which is unsupported. The semaphore object '/loky-85692-ot7b0unt' might leak.\n",
      "  warnings.warn(\n",
      "Exception ignored in: <function _MultiProcessingDataLoaderIter.__del__ at 0x10e67f7e0>\n",
      "Traceback (most recent call last):\n",
      "  File \"/Users/meldor/Desktop/vae-paper/.venv/lib/python3.12/site-packages/torch/utils/data/dataloader.py\", line 1664, in __del__\n",
      "    self._shutdown_workers()\n",
      "  File \"/Users/meldor/Desktop/vae-paper/.venv/lib/python3.12/site-packages/torch/utils/data/dataloader.py\", line 1628, in _shutdown_workers\n",
      "    w.join(timeout=_utils.MP_STATUS_CHECK_INTERVAL)\n",
      "  File \"/Users/meldor/.local/share/uv/python/cpython-3.12.11-macos-aarch64-none/lib/python3.12/multiprocessing/process.py\", line 149, in join\n",
      "    res = self._popen.wait(timeout)\n",
      "          ^^^^^^^^^^^^^^^^^^^^^^^^^\n",
      "  File \"/Users/meldor/.local/share/uv/python/cpython-3.12.11-macos-aarch64-none/lib/python3.12/multiprocessing/popen_fork.py\", line 40, in wait\n",
      "    if not wait([self.sentinel], timeout):\n",
      "           ^^^^^^^^^^^^^^^^^^^^^^^^^^^^^^\n",
      "  File \"/Users/meldor/.local/share/uv/python/cpython-3.12.11-macos-aarch64-none/lib/python3.12/multiprocessing/connection.py\", line 1136, in wait\n",
      "    ready = selector.select(timeout)\n",
      "            ^^^^^^^^^^^^^^^^^^^^^^^^\n",
      "  File \"/Users/meldor/.local/share/uv/python/cpython-3.12.11-macos-aarch64-none/lib/python3.12/selectors.py\", line 415, in select\n",
      "    fd_event_list = self._selector.poll(timeout)\n",
      "                    ^^^^^^^^^^^^^^^^^^^^^^^^^^^^\n",
      "KeyboardInterrupt: \n"
     ]
    }
   ],
   "source": [
    "from tqdm.auto import tqdm\n",
    "\n",
    "model.train()\n",
    "\n",
    "for epoch in range(500):\n",
    "    pbar = tqdm(loader, desc=f\"Epoch {epoch+1}/500\", leave=False)\n",
    "    running_loss = 0.0\n",
    "    running_kld_loss = 0.0\n",
    "    running_llv_loss = 0.0\n",
    "    n_batches = 0\n",
    "\n",
    "    for batch_idx, batch in enumerate(pbar):\n",
    "        # Move batch to device\n",
    "        x, y = batch\n",
    "        x = x.to(device, non_blocking=True)\n",
    "        # y is unused by the model, but keep it in the tuple structure\n",
    "        batch = (x, y)\n",
    "\n",
    "        opt.zero_grad(set_to_none=True)\n",
    "\n",
    "        # Use the model's predefined training_step to compute ELBO loss\n",
    "        elbo, kld_loss, llv_loss = model.training_step(batch, batch_idx)\n",
    "\n",
    "        # Backprop + step\n",
    "        elbo.backward()\n",
    "        opt.step()\n",
    "\n",
    "        # Track progress\n",
    "        n_batches += 1\n",
    "        running_loss += elbo.item()\n",
    "        running_kld_loss += kld_loss\n",
    "        running_llv_loss += llv_loss\n",
    "        pbar.set_postfix({\"train_loss\": f\"{running_loss / n_batches:.4f}\"})\n",
    "\n",
    "    # Optional: free device cache each epoch\n",
    "    empty_device_cache()\n",
    "\n",
    "    # Simple epoch print\n",
    "    avg_loss = running_loss / max(1, n_batches)\n",
    "    avg_kld_loss = running_kld_loss / max(1, n_batches)\n",
    "    avg_llv_loss = running_llv_loss / max(1, n_batches)\n",
    "    print(f\"Epoch {epoch+1:03d}: train_loss={avg_loss:.6f}, kld_loss={avg_kld_loss:.6f}, llv_loss={avg_llv_loss:.6f}\")"
   ]
  },
  {
   "cell_type": "code",
   "execution_count": null,
   "id": "3d6cdbf2",
   "metadata": {},
   "outputs": [],
   "source": []
  },
  {
   "cell_type": "code",
   "execution_count": null,
   "id": "dd1d7501",
   "metadata": {},
   "outputs": [],
   "source": []
  },
  {
   "cell_type": "code",
   "execution_count": null,
   "id": "3086c442",
   "metadata": {},
   "outputs": [],
   "source": []
  },
  {
   "cell_type": "code",
   "execution_count": null,
   "id": "7719b13d",
   "metadata": {},
   "outputs": [],
   "source": []
  },
  {
   "cell_type": "code",
   "execution_count": null,
   "id": "dd303a13",
   "metadata": {},
   "outputs": [],
   "source": []
  },
  {
   "cell_type": "code",
   "execution_count": 50,
   "id": "c373c5b8",
   "metadata": {},
   "outputs": [],
   "source": [
    "import torch\n",
    "from torch.distributions import Normal, Independent\n",
    "\n",
    "loc   = torch.tensor([[0., 0., 0.],    # sample 1 mean vector\n",
    "                      [1., 1., 1.]])   # sample 2 mean vector\n",
    "scale = torch.ones_like(loc)       # std = 1 everywhere"
   ]
  },
  {
   "cell_type": "code",
   "execution_count": 51,
   "id": "ef03223a",
   "metadata": {},
   "outputs": [
    {
     "data": {
      "text/plain": [
       "(tensor([[0., 0., 0.],\n",
       "         [1., 1., 1.]]),\n",
       " tensor([[1., 1., 1.],\n",
       "         [1., 1., 1.]]))"
      ]
     },
     "execution_count": 51,
     "metadata": {},
     "output_type": "execute_result"
    }
   ],
   "source": [
    "loc, scale"
   ]
  },
  {
   "cell_type": "code",
   "execution_count": 52,
   "id": "c1ad85c2",
   "metadata": {},
   "outputs": [
    {
     "name": "stdout",
     "output_type": "stream",
     "text": [
      "tensor([[-0.9189, -0.9189, -0.9189],\n",
      "        [-0.9189, -1.4189, -2.9189]])\n"
     ]
    }
   ],
   "source": [
    "base = Normal(loc, scale)\n",
    "z = torch.tensor([[0., 0., 0.],\n",
    "                  [1., 2., 3.]])   # two latent vectors\n",
    "logp = base.log_prob(z)\n",
    "print(logp)"
   ]
  },
  {
   "cell_type": "code",
   "execution_count": 53,
   "id": "abbfb3c6",
   "metadata": {},
   "outputs": [
    {
     "data": {
      "text/plain": [
       "tensor([-2.7568, -5.2568])"
      ]
     },
     "execution_count": 53,
     "metadata": {},
     "output_type": "execute_result"
    }
   ],
   "source": [
    "logp.sum(dim=-1)   # [2]"
   ]
  },
  {
   "cell_type": "code",
   "execution_count": 48,
   "id": "43bfa4f4",
   "metadata": {},
   "outputs": [
    {
     "name": "stdout",
     "output_type": "stream",
     "text": [
      "tensor([-2.7568, -5.2568])\n"
     ]
    }
   ],
   "source": [
    "diag_gauss = Independent(Normal(loc, scale), 1)\n",
    "logp_indep = diag_gauss.log_prob(z)\n",
    "print(logp_indep)"
   ]
  },
  {
   "cell_type": "code",
   "execution_count": 49,
   "id": "47d6b024",
   "metadata": {},
   "outputs": [
    {
     "data": {
      "text/plain": [
       "tensor([[ 0.6864,  0.4128, -0.5349],\n",
       "        [ 1.6668,  1.8176,  1.6142]])"
      ]
     },
     "execution_count": 49,
     "metadata": {},
     "output_type": "execute_result"
    }
   ],
   "source": [
    "diag_gauss.rsample()"
   ]
  },
  {
   "cell_type": "code",
   "execution_count": null,
   "id": "734d99c4",
   "metadata": {},
   "outputs": [],
   "source": []
  }
 ],
 "metadata": {
  "kernelspec": {
   "display_name": "vae-paper",
   "language": "python",
   "name": "python3"
  },
  "language_info": {
   "codemirror_mode": {
    "name": "ipython",
    "version": 3
   },
   "file_extension": ".py",
   "mimetype": "text/x-python",
   "name": "python",
   "nbconvert_exporter": "python",
   "pygments_lexer": "ipython3",
   "version": "3.12.11"
  }
 },
 "nbformat": 4,
 "nbformat_minor": 5
}
