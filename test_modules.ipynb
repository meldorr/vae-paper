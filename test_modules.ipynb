{
 "cells": [
  {
   "cell_type": "code",
   "execution_count": 1,
   "id": "8bf60b31",
   "metadata": {},
   "outputs": [
    {
     "name": "stdout",
     "output_type": "stream",
     "text": [
      "<class 'dict'>\n",
      "500\n",
      "['track', 'groundspeed', 'altitude', 'timedelta']\n"
     ]
    }
   ],
   "source": [
    "import yaml\n",
    "from pathlib import Path\n",
    "\n",
    "# Load params.yaml\n",
    "params_path = Path(\"hparams.yaml\")\n",
    "with open(params_path, \"r\") as f:\n",
    "    hparams = yaml.safe_load(f)\n",
    "\n",
    "print(type(hparams))\n",
    "print(hparams[\"batch_size\"])\n",
    "print(hparams[\"features\"])"
   ]
  },
  {
   "cell_type": "code",
   "execution_count": 2,
   "id": "6fc83f79",
   "metadata": {},
   "outputs": [
    {
     "data": {
      "text/plain": [
       "(2, torch.Size([4, 200]), torch.Size([2]))"
      ]
     },
     "execution_count": 2,
     "metadata": {},
     "output_type": "execute_result"
    }
   ],
   "source": [
    "from sklearn.preprocessing import MinMaxScaler\n",
    "from data.dataset import TrafficDataset\n",
    "\n",
    "dataset_tcvae = TrafficDataset.from_file(\n",
    "        \"data/traffic_noga_tilFAF_train.pkl\",\n",
    "        features=[\"track\", \"groundspeed\", \"altitude\", \"timedelta\"],\n",
    "        scaler=MinMaxScaler(feature_range=(-1, 1)),\n",
    "        shape= \"image\",\n",
    "        info_params={\"features\": [\"latitude\", \"longitude\"], \"index\": -1},\n",
    "    )\n",
    "\n",
    "for sample in dataset_tcvae:\n",
    "    break\n",
    "\n",
    "len(sample), sample[0].shape,sample[1].shape"
   ]
  },
  {
   "cell_type": "code",
   "execution_count": 5,
   "id": "9bfb6741",
   "metadata": {},
   "outputs": [
    {
     "data": {
      "text/plain": [
       "(2, torch.Size([500, 4, 200]), torch.Size([500, 2]))"
      ]
     },
     "execution_count": 5,
     "metadata": {},
     "output_type": "execute_result"
    }
   ],
   "source": [
    "from torch.utils.data import DataLoader\n",
    "\n",
    "loader = DataLoader(dataset_tcvae, batch_size=hparams[\"batch_size\"], shuffle=True, num_workers=4)\n",
    "\n",
    "for batch in loader:\n",
    "    break\n",
    "\n",
    "len(batch), batch[0].shape, batch[1].shape"
   ]
  },
  {
   "cell_type": "code",
   "execution_count": 6,
   "id": "4e8090de",
   "metadata": {},
   "outputs": [
    {
     "name": "stderr",
     "output_type": "stream",
     "text": [
      "/Users/meldor/Desktop/vae-paper/.venv/lib/python3.12/site-packages/torch/nn/utils/weight_norm.py:144: FutureWarning: `torch.nn.utils.weight_norm` is deprecated in favor of `torch.nn.utils.parametrizations.weight_norm`.\n",
      "  WeightNorm.apply(module, name, dim)\n"
     ]
    },
    {
     "data": {
      "text/plain": [
       "TemporalBlock(\n",
       "  (conv): Conv1d(4, 64, kernel_size=(16,), stride=(1,), dilation=(2,))\n",
       "  (dropout): Dropout(p=0.2, inplace=False)\n",
       ")"
      ]
     },
     "execution_count": 6,
     "metadata": {},
     "output_type": "execute_result"
    }
   ],
   "source": [
    "from tcn import TemporalBlock\n",
    "\n",
    "t = TemporalBlock(\n",
    "    in_channels=4,\n",
    "    out_channels=hparams[\"h_dims\"][-1],\n",
    "    kernel_size=hparams[\"kernel_size\"],\n",
    "    dilation=hparams[\"dilation_base\"],\n",
    "    out_activ=None,\n",
    "    dropout=0.2,\n",
    ")\n",
    "\n",
    "t"
   ]
  },
  {
   "cell_type": "code",
   "execution_count": 7,
   "id": "f3436fe9",
   "metadata": {},
   "outputs": [
    {
     "data": {
      "text/plain": [
       "torch.Size([500, 64, 200])"
      ]
     },
     "execution_count": 7,
     "metadata": {},
     "output_type": "execute_result"
    }
   ],
   "source": [
    "t(batch[0]).shape"
   ]
  },
  {
   "cell_type": "code",
   "execution_count": 8,
   "id": "504a0799",
   "metadata": {},
   "outputs": [
    {
     "data": {
      "text/plain": [
       "ResidualBlock(\n",
       "  (tmp_block1): TemporalBlock(\n",
       "    (conv): Conv1d(4, 64, kernel_size=(16,), stride=(1,), dilation=(2,))\n",
       "    (dropout): Dropout(p=0.2, inplace=False)\n",
       "  )\n",
       "  (tmp_block2): TemporalBlock(\n",
       "    (conv): Conv1d(64, 64, kernel_size=(16,), stride=(1,), dilation=(2,))\n",
       "    (dropout): Dropout(p=0.2, inplace=False)\n",
       "  )\n",
       "  (downsample): Conv1d(4, 64, kernel_size=(1,), stride=(1,))\n",
       ")"
      ]
     },
     "execution_count": 8,
     "metadata": {},
     "output_type": "execute_result"
    }
   ],
   "source": [
    "from tcn import ResidualBlock\n",
    "\n",
    "r = ResidualBlock(\n",
    "    in_channels=4,\n",
    "    out_channels=hparams[\"h_dims\"][-1],\n",
    "    kernel_size=hparams[\"kernel_size\"],\n",
    "    dilation=hparams[\"dilation_base\"],\n",
    "    h_activ=None,\n",
    "    dropout=0.2,\n",
    ")\n",
    "\n",
    "r"
   ]
  },
  {
   "cell_type": "code",
   "execution_count": 9,
   "id": "928ca331",
   "metadata": {},
   "outputs": [
    {
     "data": {
      "text/plain": [
       "torch.Size([500, 64, 200])"
      ]
     },
     "execution_count": 9,
     "metadata": {},
     "output_type": "execute_result"
    }
   ],
   "source": [
    "r(batch[0]).shape"
   ]
  },
  {
   "cell_type": "code",
   "execution_count": 10,
   "id": "0babf630",
   "metadata": {},
   "outputs": [
    {
     "data": {
      "text/plain": [
       "TCN(\n",
       "  (network): Sequential(\n",
       "    (0): ResidualBlock(\n",
       "      (tmp_block1): TemporalBlock(\n",
       "        (conv): Conv1d(4, 64, kernel_size=(16,), stride=(1,))\n",
       "        (dropout): Dropout(p=0.2, inplace=False)\n",
       "      )\n",
       "      (tmp_block2): TemporalBlock(\n",
       "        (conv): Conv1d(64, 64, kernel_size=(16,), stride=(1,))\n",
       "        (dropout): Dropout(p=0.2, inplace=False)\n",
       "      )\n",
       "      (downsample): Conv1d(4, 64, kernel_size=(1,), stride=(1,))\n",
       "    )\n",
       "    (1): ResidualBlock(\n",
       "      (tmp_block1): TemporalBlock(\n",
       "        (conv): Conv1d(64, 64, kernel_size=(16,), stride=(1,), dilation=(2,))\n",
       "        (dropout): Dropout(p=0.2, inplace=False)\n",
       "      )\n",
       "      (tmp_block2): TemporalBlock(\n",
       "        (conv): Conv1d(64, 64, kernel_size=(16,), stride=(1,), dilation=(2,))\n",
       "        (dropout): Dropout(p=0.2, inplace=False)\n",
       "      )\n",
       "    )\n",
       "    (2): ResidualBlock(\n",
       "      (tmp_block1): TemporalBlock(\n",
       "        (conv): Conv1d(64, 64, kernel_size=(16,), stride=(1,), dilation=(4,))\n",
       "        (dropout): Dropout(p=0.2, inplace=False)\n",
       "      )\n",
       "      (tmp_block2): TemporalBlock(\n",
       "        (conv): Conv1d(64, 64, kernel_size=(16,), stride=(1,), dilation=(4,))\n",
       "        (dropout): Dropout(p=0.2, inplace=False)\n",
       "      )\n",
       "    )\n",
       "    (3): ResidualBlock(\n",
       "      (tmp_block1): TemporalBlock(\n",
       "        (conv): Conv1d(64, 64, kernel_size=(16,), stride=(1,), dilation=(8,))\n",
       "        (dropout): Dropout(p=0.2, inplace=False)\n",
       "      )\n",
       "      (tmp_block2): TemporalBlock(\n",
       "        (conv): Conv1d(64, 64, kernel_size=(16,), stride=(1,), dilation=(8,))\n",
       "        (dropout): Dropout(p=0.2, inplace=False)\n",
       "      )\n",
       "    )\n",
       "  )\n",
       ")"
      ]
     },
     "execution_count": 10,
     "metadata": {},
     "output_type": "execute_result"
    }
   ],
   "source": [
    "from tcn import TCN\n",
    "\n",
    "tn = TCN(\n",
    "    input_dim=4,\n",
    "    out_dim=hparams[\"h_dims\"][-1],\n",
    "    h_dims=hparams[\"h_dims\"],\n",
    "    kernel_size=hparams[\"kernel_size\"],\n",
    "    dilation_base=hparams[\"dilation_base\"],\n",
    "    h_activ=None,\n",
    "    dropout=0.2,)\n",
    "\n",
    "tn"
   ]
  },
  {
   "cell_type": "code",
   "execution_count": 11,
   "id": "2d3c61d3",
   "metadata": {},
   "outputs": [
    {
     "data": {
      "text/plain": [
       "torch.Size([500, 64, 200])"
      ]
     },
     "execution_count": 11,
     "metadata": {},
     "output_type": "execute_result"
    }
   ],
   "source": [
    "tn(batch[0]).shape"
   ]
  },
  {
   "cell_type": "code",
   "execution_count": 12,
   "id": "43df543a",
   "metadata": {},
   "outputs": [
    {
     "data": {
      "text/plain": [
       "Encoder(\n",
       "  (tcn): TCN(\n",
       "    (network): Sequential(\n",
       "      (0): ResidualBlock(\n",
       "        (tmp_block1): TemporalBlock(\n",
       "          (conv): Conv1d(4, 64, kernel_size=(16,), stride=(1,))\n",
       "          (dropout): Dropout(p=0.2, inplace=False)\n",
       "        )\n",
       "        (tmp_block2): TemporalBlock(\n",
       "          (conv): Conv1d(64, 64, kernel_size=(16,), stride=(1,))\n",
       "          (dropout): Dropout(p=0.2, inplace=False)\n",
       "        )\n",
       "        (downsample): Conv1d(4, 64, kernel_size=(1,), stride=(1,))\n",
       "      )\n",
       "      (1): ResidualBlock(\n",
       "        (tmp_block1): TemporalBlock(\n",
       "          (conv): Conv1d(64, 64, kernel_size=(16,), stride=(1,), dilation=(2,))\n",
       "          (dropout): Dropout(p=0.2, inplace=False)\n",
       "        )\n",
       "        (tmp_block2): TemporalBlock(\n",
       "          (conv): Conv1d(64, 64, kernel_size=(16,), stride=(1,), dilation=(2,))\n",
       "          (dropout): Dropout(p=0.2, inplace=False)\n",
       "        )\n",
       "      )\n",
       "      (2): ResidualBlock(\n",
       "        (tmp_block1): TemporalBlock(\n",
       "          (conv): Conv1d(64, 64, kernel_size=(16,), stride=(1,), dilation=(4,))\n",
       "          (dropout): Dropout(p=0.2, inplace=False)\n",
       "        )\n",
       "        (tmp_block2): TemporalBlock(\n",
       "          (conv): Conv1d(64, 64, kernel_size=(16,), stride=(1,), dilation=(4,))\n",
       "          (dropout): Dropout(p=0.2, inplace=False)\n",
       "        )\n",
       "      )\n",
       "      (3): ResidualBlock(\n",
       "        (tmp_block1): TemporalBlock(\n",
       "          (conv): Conv1d(64, 64, kernel_size=(16,), stride=(1,), dilation=(8,))\n",
       "          (dropout): Dropout(p=0.2, inplace=False)\n",
       "        )\n",
       "        (tmp_block2): TemporalBlock(\n",
       "          (conv): Conv1d(64, 64, kernel_size=(16,), stride=(1,), dilation=(8,))\n",
       "          (dropout): Dropout(p=0.2, inplace=False)\n",
       "        )\n",
       "      )\n",
       "    )\n",
       "  )\n",
       ")"
      ]
     },
     "execution_count": 12,
     "metadata": {},
     "output_type": "execute_result"
    }
   ],
   "source": [
    "from encoder import Encoder\n",
    "\n",
    "e = Encoder(\n",
    "    input_dim=4,\n",
    "    out_dim=hparams[\"h_dims\"][-1],\n",
    "    h_dims=hparams[\"h_dims\"],\n",
    "    kernel_size=hparams[\"kernel_size\"],\n",
    "    dilation_base=hparams[\"dilation_base\"],\n",
    "    sampling_factor=hparams[\"sampling_factor\"],\n",
    "    h_activ=None,\n",
    "    dropout=0.2,\n",
    ")\n",
    "\n",
    "e"
   ]
  },
  {
   "cell_type": "code",
   "execution_count": 26,
   "id": "f196c15b",
   "metadata": {},
   "outputs": [
    {
     "data": {
      "text/plain": [
       "torch.Size([500, 1280])"
      ]
     },
     "execution_count": 26,
     "metadata": {},
     "output_type": "execute_result"
    }
   ],
   "source": [
    "#befoore flatten shape was 500x64x20\n",
    "encoder_output = e(batch[0])\n",
    "encoder_output.shape"
   ]
  },
  {
   "cell_type": "code",
   "execution_count": null,
   "id": "529050be",
   "metadata": {},
   "outputs": [],
   "source": []
  },
  {
   "cell_type": "code",
   "execution_count": 24,
   "id": "b6158c52",
   "metadata": {},
   "outputs": [
    {
     "data": {
      "text/plain": [
       "1280"
      ]
     },
     "execution_count": 24,
     "metadata": {},
     "output_type": "execute_result"
    }
   ],
   "source": [
    "h_dim = hparams[\"h_dims\"][-1] * (\n",
    "            int(batch[0][0].shape[-1] / hparams[\"sampling_factor\"])\n",
    "        )\n",
    "h_dim"
   ]
  },
  {
   "cell_type": "code",
   "execution_count": 30,
   "id": "d803591d",
   "metadata": {},
   "outputs": [
    {
     "data": {
      "text/plain": [
       "(Independent(Normal(loc: torch.Size([500, 64]), scale: torch.Size([500, 64])), 1),\n",
       " torch.Size([500, 64]))"
      ]
     },
     "execution_count": 30,
     "metadata": {},
     "output_type": "execute_result"
    }
   ],
   "source": [
    "from lsr import NormalLSR\n",
    "\n",
    "lsr = NormalLSR(\n",
    "    input_dim=h_dim,\n",
    "    out_dim=hparams[\"encoding_dim\"],\n",
    ")\n",
    "\n",
    "lsr(encoder_output), lsr(encoder_output).rsample().shape"
   ]
  },
  {
   "cell_type": "code",
   "execution_count": 31,
   "id": "69d351b8",
   "metadata": {},
   "outputs": [],
   "source": [
    "sampled = lsr(encoder_output).rsample()"
   ]
  },
  {
   "cell_type": "code",
   "execution_count": 35,
   "id": "2ae5ad89",
   "metadata": {},
   "outputs": [
    {
     "data": {
      "text/plain": [
       "4"
      ]
     },
     "execution_count": 35,
     "metadata": {},
     "output_type": "execute_result"
    }
   ],
   "source": [
    "batch[0][0].shape[0]"
   ]
  },
  {
   "cell_type": "code",
   "execution_count": 36,
   "id": "5caa2d41",
   "metadata": {},
   "outputs": [
    {
     "name": "stderr",
     "output_type": "stream",
     "text": [
      "/Users/meldor/Desktop/vae-paper/.venv/lib/python3.12/site-packages/torch/nn/utils/weight_norm.py:144: FutureWarning: `torch.nn.utils.weight_norm` is deprecated in favor of `torch.nn.utils.parametrizations.weight_norm`.\n",
      "  WeightNorm.apply(module, name, dim)\n"
     ]
    },
    {
     "data": {
      "text/plain": [
       "torch.Size([500, 4, 200])"
      ]
     },
     "execution_count": 36,
     "metadata": {},
     "output_type": "execute_result"
    }
   ],
   "source": [
    "from decoder import TCDecoder\n",
    "from torch import nn\n",
    "\n",
    "d = decoder = TCDecoder(\n",
    "            input_dim=hparams[\"encoding_dim\"],\n",
    "            out_dim=batch[0][0].shape[0],\n",
    "            h_dims=hparams[\"h_dims\"][::-1],\n",
    "            seq_len=batch[0][0].shape[-1],\n",
    "            kernel_size=hparams[\"kernel_size\"],\n",
    "            dilation_base=hparams[\"dilation_base\"],\n",
    "            sampling_factor=hparams[\"sampling_factor\"],\n",
    "            dropout=hparams[\"dropout\"],\n",
    "            h_activ=nn.ReLU(),\n",
    "            # h_activ=None,\n",
    "        )\n",
    "\n",
    "reconstructed = d(sampled)\n",
    "reconstructed.shape"
   ]
  },
  {
   "cell_type": "code",
   "execution_count": null,
   "id": "a1228e0b",
   "metadata": {},
   "outputs": [],
   "source": []
  }
 ],
 "metadata": {
  "kernelspec": {
   "display_name": "vae-paper",
   "language": "python",
   "name": "python3"
  },
  "language_info": {
   "codemirror_mode": {
    "name": "ipython",
    "version": 3
   },
   "file_extension": ".py",
   "mimetype": "text/x-python",
   "name": "python",
   "nbconvert_exporter": "python",
   "pygments_lexer": "ipython3",
   "version": "3.12.11"
  }
 },
 "nbformat": 4,
 "nbformat_minor": 5
}
