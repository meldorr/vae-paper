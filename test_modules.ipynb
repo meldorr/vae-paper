{
 "cells": [
  {
   "cell_type": "code",
   "execution_count": 1,
   "id": "8bf60b31",
   "metadata": {},
   "outputs": [
    {
     "name": "stdout",
     "output_type": "stream",
     "text": [
      "<class 'dict'>\n",
      "500\n",
      "['track', 'groundspeed', 'altitude', 'timedelta']\n"
     ]
    }
   ],
   "source": [
    "import yaml\n",
    "from pathlib import Path\n",
    "\n",
    "# Load params.yaml\n",
    "params_path = Path(\"hparams.yaml\")\n",
    "with open(params_path, \"r\") as f:\n",
    "    hparams = yaml.safe_load(f)\n",
    "\n",
    "print(type(hparams))\n",
    "print(hparams[\"batch_size\"])\n",
    "print(hparams[\"features\"])"
   ]
  },
  {
   "cell_type": "code",
   "execution_count": 2,
   "id": "6fc83f79",
   "metadata": {},
   "outputs": [
    {
     "data": {
      "text/plain": [
       "(2, torch.Size([4, 200]), torch.Size([2]))"
      ]
     },
     "execution_count": 2,
     "metadata": {},
     "output_type": "execute_result"
    }
   ],
   "source": [
    "from sklearn.preprocessing import MinMaxScaler\n",
    "from data.dataset import TrafficDataset\n",
    "\n",
    "dataset_tcvae = TrafficDataset.from_file(\n",
    "        \"data/traffic_noga_tilFAF_train.pkl\",\n",
    "        features=[\"track\", \"groundspeed\", \"altitude\", \"timedelta\"],\n",
    "        scaler=MinMaxScaler(feature_range=(-1, 1)),\n",
    "        shape= \"image\",\n",
    "        info_params={\"features\": [\"latitude\", \"longitude\"], \"index\": -1},\n",
    "    )\n",
    "\n",
    "for sample in dataset_tcvae:\n",
    "    break\n",
    "\n",
    "len(sample), sample[0].shape,sample[1].shape"
   ]
  },
  {
   "cell_type": "code",
   "execution_count": null,
   "id": "9bfb6741",
   "metadata": {},
   "outputs": [
    {
     "data": {
      "text/plain": [
       "(2, torch.Size([500, 4, 200]), torch.Size([500, 2]))"
      ]
     },
     "execution_count": 12,
     "metadata": {},
     "output_type": "execute_result"
    }
   ],
   "source": [
    "from torch.utils.data import DataLoader\n",
    "\n",
    "loader = DataLoader(dataset_tcvae, batch_size=hparams[\"batch_size\"], shuffle=True, num_workers=4)\n",
    "\n",
    "for batch in loader:\n",
    "    break\n",
    "\n",
    "len(batch), batch[0].shape, batch[1].shape"
   ]
  },
  {
   "cell_type": "code",
   "execution_count": 13,
   "id": "4e8090de",
   "metadata": {},
   "outputs": [
    {
     "name": "stderr",
     "output_type": "stream",
     "text": [
      "/Users/meldor/Desktop/vae-paper/.venv/lib/python3.12/site-packages/torch/nn/utils/weight_norm.py:144: FutureWarning: `torch.nn.utils.weight_norm` is deprecated in favor of `torch.nn.utils.parametrizations.weight_norm`.\n",
      "  WeightNorm.apply(module, name, dim)\n"
     ]
    },
    {
     "data": {
      "text/plain": [
       "TemporalBlock(\n",
       "  (conv): Conv1d(4, 64, kernel_size=(16,), stride=(1,), dilation=(2,))\n",
       "  (dropout): Dropout(p=0.2, inplace=False)\n",
       ")"
      ]
     },
     "execution_count": 13,
     "metadata": {},
     "output_type": "execute_result"
    }
   ],
   "source": [
    "from tcn import TemporalBlock\n",
    "\n",
    "t = TemporalBlock(\n",
    "    in_channels=4,\n",
    "    out_channels=hparams[\"h_dims\"][-1],\n",
    "    kernel_size=hparams[\"kernel_size\"],\n",
    "    dilation=hparams[\"dilation_base\"],\n",
    "    out_activ=None,\n",
    "    dropout=0.2,\n",
    ")\n",
    "\n",
    "t"
   ]
  },
  {
   "cell_type": "code",
   "execution_count": 7,
   "id": "f3436fe9",
   "metadata": {},
   "outputs": [
    {
     "data": {
      "text/plain": [
       "torch.Size([500, 64, 200])"
      ]
     },
     "execution_count": 7,
     "metadata": {},
     "output_type": "execute_result"
    }
   ],
   "source": [
    "t(batch[0]).shape"
   ]
  },
  {
   "cell_type": "code",
   "execution_count": 8,
   "id": "504a0799",
   "metadata": {},
   "outputs": [
    {
     "data": {
      "text/plain": [
       "ResidualBlock(\n",
       "  (tmp_block1): TemporalBlock(\n",
       "    (conv): Conv1d(4, 64, kernel_size=(16,), stride=(1,), dilation=(2,))\n",
       "    (dropout): Dropout(p=0.2, inplace=False)\n",
       "  )\n",
       "  (tmp_block2): TemporalBlock(\n",
       "    (conv): Conv1d(64, 64, kernel_size=(16,), stride=(1,), dilation=(2,))\n",
       "    (dropout): Dropout(p=0.2, inplace=False)\n",
       "  )\n",
       "  (downsample): Conv1d(4, 64, kernel_size=(1,), stride=(1,))\n",
       ")"
      ]
     },
     "execution_count": 8,
     "metadata": {},
     "output_type": "execute_result"
    }
   ],
   "source": [
    "from tcn import ResidualBlock\n",
    "\n",
    "r = ResidualBlock(\n",
    "    in_channels=4,\n",
    "    out_channels=hparams[\"h_dims\"][-1],\n",
    "    kernel_size=hparams[\"kernel_size\"],\n",
    "    dilation=hparams[\"dilation_base\"],\n",
    "    h_activ=None,\n",
    "    dropout=0.2,\n",
    ")\n",
    "\n",
    "r"
   ]
  },
  {
   "cell_type": "code",
   "execution_count": 9,
   "id": "928ca331",
   "metadata": {},
   "outputs": [
    {
     "data": {
      "text/plain": [
       "torch.Size([500, 64, 200])"
      ]
     },
     "execution_count": 9,
     "metadata": {},
     "output_type": "execute_result"
    }
   ],
   "source": [
    "r(batch[0]).shape"
   ]
  },
  {
   "cell_type": "code",
   "execution_count": 10,
   "id": "0babf630",
   "metadata": {},
   "outputs": [
    {
     "data": {
      "text/plain": [
       "TCN(\n",
       "  (network): Sequential(\n",
       "    (0): ResidualBlock(\n",
       "      (tmp_block1): TemporalBlock(\n",
       "        (conv): Conv1d(4, 64, kernel_size=(16,), stride=(1,))\n",
       "        (dropout): Dropout(p=0.2, inplace=False)\n",
       "      )\n",
       "      (tmp_block2): TemporalBlock(\n",
       "        (conv): Conv1d(64, 64, kernel_size=(16,), stride=(1,))\n",
       "        (dropout): Dropout(p=0.2, inplace=False)\n",
       "      )\n",
       "      (downsample): Conv1d(4, 64, kernel_size=(1,), stride=(1,))\n",
       "    )\n",
       "    (1): ResidualBlock(\n",
       "      (tmp_block1): TemporalBlock(\n",
       "        (conv): Conv1d(64, 64, kernel_size=(16,), stride=(1,), dilation=(2,))\n",
       "        (dropout): Dropout(p=0.2, inplace=False)\n",
       "      )\n",
       "      (tmp_block2): TemporalBlock(\n",
       "        (conv): Conv1d(64, 64, kernel_size=(16,), stride=(1,), dilation=(2,))\n",
       "        (dropout): Dropout(p=0.2, inplace=False)\n",
       "      )\n",
       "    )\n",
       "    (2): ResidualBlock(\n",
       "      (tmp_block1): TemporalBlock(\n",
       "        (conv): Conv1d(64, 64, kernel_size=(16,), stride=(1,), dilation=(4,))\n",
       "        (dropout): Dropout(p=0.2, inplace=False)\n",
       "      )\n",
       "      (tmp_block2): TemporalBlock(\n",
       "        (conv): Conv1d(64, 64, kernel_size=(16,), stride=(1,), dilation=(4,))\n",
       "        (dropout): Dropout(p=0.2, inplace=False)\n",
       "      )\n",
       "    )\n",
       "    (3): ResidualBlock(\n",
       "      (tmp_block1): TemporalBlock(\n",
       "        (conv): Conv1d(64, 64, kernel_size=(16,), stride=(1,), dilation=(8,))\n",
       "        (dropout): Dropout(p=0.2, inplace=False)\n",
       "      )\n",
       "      (tmp_block2): TemporalBlock(\n",
       "        (conv): Conv1d(64, 64, kernel_size=(16,), stride=(1,), dilation=(8,))\n",
       "        (dropout): Dropout(p=0.2, inplace=False)\n",
       "      )\n",
       "    )\n",
       "  )\n",
       ")"
      ]
     },
     "execution_count": 10,
     "metadata": {},
     "output_type": "execute_result"
    }
   ],
   "source": [
    "from tcn import TCN\n",
    "\n",
    "tn = TCN(\n",
    "    input_dim=4,\n",
    "    out_dim=hparams[\"h_dims\"][-1],\n",
    "    h_dims=hparams[\"h_dims\"],\n",
    "    kernel_size=hparams[\"kernel_size\"],\n",
    "    dilation_base=hparams[\"dilation_base\"],\n",
    "    h_activ=None,\n",
    "    dropout=0.2,)\n",
    "\n",
    "tn"
   ]
  },
  {
   "cell_type": "code",
   "execution_count": 11,
   "id": "2d3c61d3",
   "metadata": {},
   "outputs": [
    {
     "data": {
      "text/plain": [
       "torch.Size([500, 64, 200])"
      ]
     },
     "execution_count": 11,
     "metadata": {},
     "output_type": "execute_result"
    }
   ],
   "source": [
    "tn(batch[0]).shape"
   ]
  },
  {
   "cell_type": "code",
   "execution_count": 37,
   "id": "43df543a",
   "metadata": {},
   "outputs": [
    {
     "data": {
      "text/plain": [
       "Encoder(\n",
       "  (tcn): TCN(\n",
       "    (network): Sequential(\n",
       "      (0): ResidualBlock(\n",
       "        (tmp_block1): TemporalBlock(\n",
       "          (conv): Conv1d(4, 64, kernel_size=(16,), stride=(1,))\n",
       "          (dropout): Dropout(p=0.2, inplace=False)\n",
       "        )\n",
       "        (tmp_block2): TemporalBlock(\n",
       "          (conv): Conv1d(64, 64, kernel_size=(16,), stride=(1,))\n",
       "          (dropout): Dropout(p=0.2, inplace=False)\n",
       "        )\n",
       "        (downsample): Conv1d(4, 64, kernel_size=(1,), stride=(1,))\n",
       "      )\n",
       "      (1): ResidualBlock(\n",
       "        (tmp_block1): TemporalBlock(\n",
       "          (conv): Conv1d(64, 64, kernel_size=(16,), stride=(1,), dilation=(2,))\n",
       "          (dropout): Dropout(p=0.2, inplace=False)\n",
       "        )\n",
       "        (tmp_block2): TemporalBlock(\n",
       "          (conv): Conv1d(64, 64, kernel_size=(16,), stride=(1,), dilation=(2,))\n",
       "          (dropout): Dropout(p=0.2, inplace=False)\n",
       "        )\n",
       "      )\n",
       "      (2): ResidualBlock(\n",
       "        (tmp_block1): TemporalBlock(\n",
       "          (conv): Conv1d(64, 64, kernel_size=(16,), stride=(1,), dilation=(4,))\n",
       "          (dropout): Dropout(p=0.2, inplace=False)\n",
       "        )\n",
       "        (tmp_block2): TemporalBlock(\n",
       "          (conv): Conv1d(64, 64, kernel_size=(16,), stride=(1,), dilation=(4,))\n",
       "          (dropout): Dropout(p=0.2, inplace=False)\n",
       "        )\n",
       "      )\n",
       "    )\n",
       "  )\n",
       ")"
      ]
     },
     "execution_count": 37,
     "metadata": {},
     "output_type": "execute_result"
    }
   ],
   "source": [
    "from encoder import Encoder\n",
    "\n",
    "e = Encoder(\n",
    "    input_dim=4,\n",
    "    out_dim=hparams[\"h_dims\"][-1],\n",
    "    h_dims=hparams[\"h_dims\"][:-1],\n",
    "    kernel_size=hparams[\"kernel_size\"],\n",
    "    dilation_base=hparams[\"dilation_base\"],\n",
    "    sampling_factor=hparams[\"sampling_factor\"],\n",
    "    h_activ=None,\n",
    "    dropout=0.2,\n",
    ")\n",
    "\n",
    "e"
   ]
  },
  {
   "cell_type": "code",
   "execution_count": 26,
   "id": "f196c15b",
   "metadata": {},
   "outputs": [
    {
     "data": {
      "text/plain": [
       "torch.Size([500, 1280])"
      ]
     },
     "execution_count": 26,
     "metadata": {},
     "output_type": "execute_result"
    }
   ],
   "source": [
    "#befoore flatten shape was 500x64x20\n",
    "encoder_output = e(batch[0])\n",
    "encoder_output.shape"
   ]
  },
  {
   "cell_type": "code",
   "execution_count": null,
   "id": "529050be",
   "metadata": {},
   "outputs": [],
   "source": []
  },
  {
   "cell_type": "code",
   "execution_count": 24,
   "id": "b6158c52",
   "metadata": {},
   "outputs": [
    {
     "data": {
      "text/plain": [
       "1280"
      ]
     },
     "execution_count": 24,
     "metadata": {},
     "output_type": "execute_result"
    }
   ],
   "source": [
    "h_dim = hparams[\"h_dims\"][-1] * (\n",
    "            int(batch[0][0].shape[-1] / hparams[\"sampling_factor\"])\n",
    "        )\n",
    "h_dim"
   ]
  },
  {
   "cell_type": "code",
   "execution_count": 40,
   "id": "db780861",
   "metadata": {},
   "outputs": [
    {
     "data": {
      "text/plain": [
       "(64, 200, 10)"
      ]
     },
     "execution_count": 40,
     "metadata": {},
     "output_type": "execute_result"
    }
   ],
   "source": [
    "hparams[\"h_dims\"][-1], batch[0][0].shape[-1], hparams[\"sampling_factor\"]"
   ]
  },
  {
   "cell_type": "code",
   "execution_count": 30,
   "id": "d803591d",
   "metadata": {},
   "outputs": [
    {
     "data": {
      "text/plain": [
       "(Independent(Normal(loc: torch.Size([500, 64]), scale: torch.Size([500, 64])), 1),\n",
       " torch.Size([500, 64]))"
      ]
     },
     "execution_count": 30,
     "metadata": {},
     "output_type": "execute_result"
    }
   ],
   "source": [
    "from lsr import NormalLSR\n",
    "\n",
    "lsr = NormalLSR(\n",
    "    input_dim=h_dim,\n",
    "    out_dim=hparams[\"encoding_dim\"],\n",
    ")\n",
    "\n",
    "lsr(encoder_output), lsr(encoder_output).rsample().shape"
   ]
  },
  {
   "cell_type": "code",
   "execution_count": 31,
   "id": "69d351b8",
   "metadata": {},
   "outputs": [],
   "source": [
    "sampled = lsr(encoder_output).rsample()"
   ]
  },
  {
   "cell_type": "code",
   "execution_count": 35,
   "id": "2ae5ad89",
   "metadata": {},
   "outputs": [
    {
     "data": {
      "text/plain": [
       "4"
      ]
     },
     "execution_count": 35,
     "metadata": {},
     "output_type": "execute_result"
    }
   ],
   "source": [
    "batch[0][0].shape[0]"
   ]
  },
  {
   "cell_type": "code",
   "execution_count": 42,
   "id": "a348a3df",
   "metadata": {},
   "outputs": [
    {
     "data": {
      "text/plain": [
       "(Independent(Normal(loc: torch.Size([500, 64]), scale: torch.Size([500, 64])), 1),\n",
       " torch.Size([500, 64]))"
      ]
     },
     "execution_count": 42,
     "metadata": {},
     "output_type": "execute_result"
    }
   ],
   "source": [
    "from lsr import VampPriorLSR\n",
    "\n",
    "vamplsr = VampPriorLSR(\n",
    "    original_dim=4,\n",
    "    original_seq_len=200,\n",
    "    input_dim=h_dim,\n",
    "    out_dim=hparams[\"encoding_dim\"],\n",
    "    encoder=e,\n",
    "    n_components=hparams[\"n_components\"],  # Number of components in the VampPrior\n",
    ")\n",
    "\n",
    "vamplsr(encoder_output), vamplsr(encoder_output).rsample().shape"
   ]
  },
  {
   "cell_type": "code",
   "execution_count": 44,
   "id": "cda5c770",
   "metadata": {},
   "outputs": [],
   "source": [
    "sampled_vamp = vamplsr(encoder_output).rsample()"
   ]
  },
  {
   "cell_type": "code",
   "execution_count": 36,
   "id": "5caa2d41",
   "metadata": {},
   "outputs": [
    {
     "name": "stderr",
     "output_type": "stream",
     "text": [
      "/Users/meldor/Desktop/vae-paper/.venv/lib/python3.12/site-packages/torch/nn/utils/weight_norm.py:144: FutureWarning: `torch.nn.utils.weight_norm` is deprecated in favor of `torch.nn.utils.parametrizations.weight_norm`.\n",
      "  WeightNorm.apply(module, name, dim)\n"
     ]
    },
    {
     "data": {
      "text/plain": [
       "torch.Size([500, 4, 200])"
      ]
     },
     "execution_count": 36,
     "metadata": {},
     "output_type": "execute_result"
    }
   ],
   "source": [
    "from decoder import TCDecoder\n",
    "from torch import nn\n",
    "\n",
    "d = decoder = TCDecoder(\n",
    "            input_dim=hparams[\"encoding_dim\"],\n",
    "            out_dim=batch[0][0].shape[0],\n",
    "            h_dims=hparams[\"h_dims\"][::-1],\n",
    "            seq_len=batch[0][0].shape[-1],\n",
    "            kernel_size=hparams[\"kernel_size\"],\n",
    "            dilation_base=hparams[\"dilation_base\"],\n",
    "            sampling_factor=hparams[\"sampling_factor\"],\n",
    "            dropout=hparams[\"dropout\"],\n",
    "            h_activ=nn.ReLU(),\n",
    "            # h_activ=None,\n",
    "        )\n",
    "\n",
    "reconstructed = d(sampled)\n",
    "reconstructed.shape"
   ]
  },
  {
   "cell_type": "code",
   "execution_count": 45,
   "id": "a1228e0b",
   "metadata": {},
   "outputs": [
    {
     "data": {
      "text/plain": [
       "torch.Size([500, 4, 200])"
      ]
     },
     "execution_count": 45,
     "metadata": {},
     "output_type": "execute_result"
    }
   ],
   "source": [
    "reconstructed_vamp = d(sampled_vamp)\n",
    "reconstructed_vamp.shape"
   ]
  },
  {
   "cell_type": "code",
   "execution_count": null,
   "id": "ea2316f3",
   "metadata": {},
   "outputs": [],
   "source": []
  },
  {
   "cell_type": "code",
   "execution_count": 5,
   "id": "d408466b",
   "metadata": {},
   "outputs": [],
   "source": [
    "from tcvae import TCVAE\n",
    "\n",
    "tcv = TCVAE(hparams=hparams)\n",
    "rebuilt = tcv(batch[0])"
   ]
  },
  {
   "cell_type": "code",
   "execution_count": 10,
   "id": "0ba1b62c",
   "metadata": {},
   "outputs": [
    {
     "data": {
      "text/plain": [
       "3"
      ]
     },
     "execution_count": 10,
     "metadata": {},
     "output_type": "execute_result"
    }
   ],
   "source": [
    "len(rebuilt)"
   ]
  },
  {
   "cell_type": "code",
   "execution_count": 11,
   "id": "091768f7",
   "metadata": {},
   "outputs": [
    {
     "data": {
      "text/plain": [
       "torch.Size([500, 4, 200])"
      ]
     },
     "execution_count": 11,
     "metadata": {},
     "output_type": "execute_result"
    }
   ],
   "source": [
    "rebuilt[-1].shape"
   ]
  },
  {
   "cell_type": "code",
   "execution_count": null,
   "id": "d0a8e278",
   "metadata": {},
   "outputs": [],
   "source": []
  },
  {
   "cell_type": "code",
   "execution_count": null,
   "id": "fd516b17",
   "metadata": {},
   "outputs": [],
   "source": []
  },
  {
   "cell_type": "code",
   "execution_count": null,
   "id": "bf0e006c",
   "metadata": {},
   "outputs": [],
   "source": []
  },
  {
   "cell_type": "code",
   "execution_count": 1,
   "id": "5b8bba41",
   "metadata": {},
   "outputs": [
    {
     "name": "stdout",
     "output_type": "stream",
     "text": [
      "Using device: mps\n"
     ]
    }
   ],
   "source": [
    "import torch\n",
    "import torch.nn as nn\n",
    "from torch.utils.data import DataLoader\n",
    "from tqdm.auto import tqdm\n",
    "\n",
    "def get_device():\n",
    "    if torch.backends.mps.is_available():\n",
    "        return torch.device(\"mps\")\n",
    "    if torch.cuda.is_available():\n",
    "        return torch.device(\"cuda\")\n",
    "    return torch.device(\"cpu\")\n",
    "\n",
    "device = get_device()\n",
    "print(\"Using device:\", device)"
   ]
  },
  {
   "cell_type": "code",
   "execution_count": 2,
   "id": "5b6b04e5",
   "metadata": {},
   "outputs": [
    {
     "name": "stdout",
     "output_type": "stream",
     "text": [
      "<class 'dict'>\n",
      "500\n",
      "['track', 'groundspeed', 'altitude', 'timedelta']\n"
     ]
    }
   ],
   "source": [
    "import yaml\n",
    "from pathlib import Path\n",
    "\n",
    "# Load params.yaml\n",
    "params_path = Path(\"hparams.yaml\")\n",
    "with open(params_path, \"r\") as f:\n",
    "    hparams = yaml.safe_load(f)\n",
    "\n",
    "print(type(hparams))\n",
    "print(hparams[\"batch_size\"])\n",
    "print(hparams[\"features\"])"
   ]
  },
  {
   "cell_type": "code",
   "execution_count": 3,
   "id": "bde85c91",
   "metadata": {},
   "outputs": [
    {
     "data": {
      "text/plain": [
       "(2, torch.Size([4, 200]), torch.Size([2]))"
      ]
     },
     "execution_count": 3,
     "metadata": {},
     "output_type": "execute_result"
    }
   ],
   "source": [
    "from sklearn.preprocessing import MinMaxScaler\n",
    "from data.dataset import TrafficDataset\n",
    "\n",
    "dataset_tcvae = TrafficDataset.from_file(\n",
    "        \"data/traffic_noga_tilFAF_train.pkl\",\n",
    "        features=[\"track\", \"groundspeed\", \"altitude\", \"timedelta\"],\n",
    "        scaler=MinMaxScaler(feature_range=(-1, 1)),\n",
    "        shape= \"image\",\n",
    "        info_params={\"features\": [\"latitude\", \"longitude\"], \"index\": -1},\n",
    "    )\n",
    "\n",
    "for sample in dataset_tcvae:\n",
    "    break\n",
    "\n",
    "len(sample), sample[0].shape,sample[1].shape"
   ]
  },
  {
   "cell_type": "code",
   "execution_count": 4,
   "id": "e286fe4c",
   "metadata": {},
   "outputs": [],
   "source": [
    "loader = DataLoader(\n",
    "    dataset_tcvae,\n",
    "    batch_size=hparams[\"batch_size\"],\n",
    "    shuffle=True,\n",
    "    num_workers=4,\n",
    "    pin_memory=(device.type != \"cpu\"),\n",
    ")"
   ]
  },
  {
   "cell_type": "code",
   "execution_count": 5,
   "id": "6148b04a",
   "metadata": {},
   "outputs": [
    {
     "name": "stderr",
     "output_type": "stream",
     "text": [
      "/Users/meldor/Desktop/vae-paper/.venv/lib/python3.12/site-packages/torch/nn/utils/weight_norm.py:144: FutureWarning: `torch.nn.utils.weight_norm` is deprecated in favor of `torch.nn.utils.parametrizations.weight_norm`.\n",
      "  WeightNorm.apply(module, name, dim)\n"
     ]
    }
   ],
   "source": [
    "from tcvae import TCVAE\n",
    "\n",
    "seq_len = dataset_tcvae.seq_len  # should be 200 given your config\n",
    "model = TCVAE(hparams=hparams, inputdim=4, seq_length=seq_len).to(device)"
   ]
  },
  {
   "cell_type": "code",
   "execution_count": 6,
   "id": "0d7dc415",
   "metadata": {},
   "outputs": [],
   "source": [
    "opt = torch.optim.Adam(model.parameters(), lr=hparams[\"lr\"])"
   ]
  },
  {
   "cell_type": "code",
   "execution_count": 7,
   "id": "75fc0b96",
   "metadata": {},
   "outputs": [],
   "source": [
    "def empty_device_cache():\n",
    "    if device.type == \"cuda\":\n",
    "        torch.cuda.empty_cache()\n",
    "        # torch.cuda.ipc_collect()  # optional\n",
    "    elif device.type == \"mps\":\n",
    "        torch.mps.empty_cache()"
   ]
  },
  {
   "cell_type": "code",
   "execution_count": null,
   "id": "5265d51c",
   "metadata": {},
   "outputs": [
    {
     "data": {
      "application/vnd.jupyter.widget-view+json": {
       "model_id": "c54187a32f534485b7b47e5ef6ad5fc3",
       "version_major": 2,
       "version_minor": 0
      },
      "text/plain": [
       "Epoch 1/500:   0%|          | 0/28 [00:00<?, ?it/s]"
      ]
     },
     "metadata": {},
     "output_type": "display_data"
    },
    {
     "name": "stdout",
     "output_type": "stream",
     "text": [
      "Epoch 001: train_loss=773.400796, kld_loss=1.897652, llv_loss=771.503113\n"
     ]
    },
    {
     "data": {
      "application/vnd.jupyter.widget-view+json": {
       "model_id": "565a29638e9a41ae88cf5472b3e3946f",
       "version_major": 2,
       "version_minor": 0
      },
      "text/plain": [
       "Epoch 2/500:   0%|          | 0/28 [00:00<?, ?it/s]"
      ]
     },
     "metadata": {},
     "output_type": "display_data"
    },
    {
     "name": "stdout",
     "output_type": "stream",
     "text": [
      "Epoch 002: train_loss=733.959558, kld_loss=4.774056, llv_loss=729.185486\n"
     ]
    },
    {
     "data": {
      "application/vnd.jupyter.widget-view+json": {
       "model_id": "653a0d1ff4374c2da492a04e2ef671aa",
       "version_major": 2,
       "version_minor": 0
      },
      "text/plain": [
       "Epoch 3/500:   0%|          | 0/28 [00:00<?, ?it/s]"
      ]
     },
     "metadata": {},
     "output_type": "display_data"
    },
    {
     "name": "stdout",
     "output_type": "stream",
     "text": [
      "Epoch 003: train_loss=704.441956, kld_loss=5.848205, llv_loss=698.593628\n"
     ]
    },
    {
     "data": {
      "application/vnd.jupyter.widget-view+json": {
       "model_id": "ef61addedae348d68c82830e6543c202",
       "version_major": 2,
       "version_minor": 0
      },
      "text/plain": [
       "Epoch 4/500:   0%|          | 0/28 [00:00<?, ?it/s]"
      ]
     },
     "metadata": {},
     "output_type": "display_data"
    },
    {
     "name": "stdout",
     "output_type": "stream",
     "text": [
      "Epoch 004: train_loss=675.307537, kld_loss=6.671826, llv_loss=668.635742\n"
     ]
    },
    {
     "data": {
      "application/vnd.jupyter.widget-view+json": {
       "model_id": "27f125cf8833421bbde0b8db6910cc6d",
       "version_major": 2,
       "version_minor": 0
      },
      "text/plain": [
       "Epoch 5/500:   0%|          | 0/28 [00:00<?, ?it/s]"
      ]
     },
     "metadata": {},
     "output_type": "display_data"
    },
    {
     "name": "stdout",
     "output_type": "stream",
     "text": [
      "Epoch 005: train_loss=645.748217, kld_loss=6.597014, llv_loss=639.151184\n"
     ]
    },
    {
     "data": {
      "application/vnd.jupyter.widget-view+json": {
       "model_id": "b9a13d555c53441e8d28ff3791efeeb7",
       "version_major": 2,
       "version_minor": 0
      },
      "text/plain": [
       "Epoch 6/500:   0%|          | 0/28 [00:00<?, ?it/s]"
      ]
     },
     "metadata": {},
     "output_type": "display_data"
    },
    {
     "name": "stdout",
     "output_type": "stream",
     "text": [
      "Epoch 006: train_loss=615.792234, kld_loss=6.791328, llv_loss=609.000916\n"
     ]
    },
    {
     "data": {
      "application/vnd.jupyter.widget-view+json": {
       "model_id": "8f1f7230e5a04ccf8d2e5b38152f959a",
       "version_major": 2,
       "version_minor": 0
      },
      "text/plain": [
       "Epoch 7/500:   0%|          | 0/28 [00:00<?, ?it/s]"
      ]
     },
     "metadata": {},
     "output_type": "display_data"
    },
    {
     "name": "stdout",
     "output_type": "stream",
     "text": [
      "Epoch 007: train_loss=585.346608, kld_loss=7.121823, llv_loss=578.224792\n"
     ]
    },
    {
     "data": {
      "application/vnd.jupyter.widget-view+json": {
       "model_id": "b598220d1bbb4028b5dcad95a737dada",
       "version_major": 2,
       "version_minor": 0
      },
      "text/plain": [
       "Epoch 8/500:   0%|          | 0/28 [00:00<?, ?it/s]"
      ]
     },
     "metadata": {},
     "output_type": "display_data"
    },
    {
     "name": "stdout",
     "output_type": "stream",
     "text": [
      "Epoch 008: train_loss=553.389550, kld_loss=7.491145, llv_loss=545.898438\n"
     ]
    },
    {
     "data": {
      "application/vnd.jupyter.widget-view+json": {
       "model_id": "1819d9e41e60455ebdebc5174c60195c",
       "version_major": 2,
       "version_minor": 0
      },
      "text/plain": [
       "Epoch 9/500:   0%|          | 0/28 [00:00<?, ?it/s]"
      ]
     },
     "metadata": {},
     "output_type": "display_data"
    },
    {
     "name": "stdout",
     "output_type": "stream",
     "text": [
      "Epoch 009: train_loss=519.693260, kld_loss=7.833515, llv_loss=511.859711\n"
     ]
    },
    {
     "data": {
      "application/vnd.jupyter.widget-view+json": {
       "model_id": "dc829e1010cf4a2a944f75d272604203",
       "version_major": 2,
       "version_minor": 0
      },
      "text/plain": [
       "Epoch 10/500:   0%|          | 0/28 [00:00<?, ?it/s]"
      ]
     },
     "metadata": {},
     "output_type": "display_data"
    },
    {
     "name": "stdout",
     "output_type": "stream",
     "text": [
      "Epoch 010: train_loss=483.825415, kld_loss=8.285417, llv_loss=475.540039\n"
     ]
    },
    {
     "data": {
      "application/vnd.jupyter.widget-view+json": {
       "model_id": "cd124592e5f54ac78ad94a7d6f6139ad",
       "version_major": 2,
       "version_minor": 0
      },
      "text/plain": [
       "Epoch 11/500:   0%|          | 0/28 [00:00<?, ?it/s]"
      ]
     },
     "metadata": {},
     "output_type": "display_data"
    },
    {
     "name": "stdout",
     "output_type": "stream",
     "text": [
      "Epoch 011: train_loss=445.838542, kld_loss=8.715195, llv_loss=437.123352\n"
     ]
    },
    {
     "data": {
      "application/vnd.jupyter.widget-view+json": {
       "model_id": "7b7fbbf73cec4ea19d753d7fbf312b7b",
       "version_major": 2,
       "version_minor": 0
      },
      "text/plain": [
       "Epoch 12/500:   0%|          | 0/28 [00:00<?, ?it/s]"
      ]
     },
     "metadata": {},
     "output_type": "display_data"
    },
    {
     "name": "stdout",
     "output_type": "stream",
     "text": [
      "Epoch 012: train_loss=405.414779, kld_loss=9.192568, llv_loss=396.222168\n"
     ]
    },
    {
     "data": {
      "application/vnd.jupyter.widget-view+json": {
       "model_id": "7351715857ee4b4883be7a8e7732821e",
       "version_major": 2,
       "version_minor": 0
      },
      "text/plain": [
       "Epoch 13/500:   0%|          | 0/28 [00:00<?, ?it/s]"
      ]
     },
     "metadata": {},
     "output_type": "display_data"
    },
    {
     "name": "stdout",
     "output_type": "stream",
     "text": [
      "Epoch 013: train_loss=362.082567, kld_loss=9.801116, llv_loss=352.281464\n"
     ]
    },
    {
     "data": {
      "application/vnd.jupyter.widget-view+json": {
       "model_id": "fe5287dabc4048b7bd3a640c2e68b52a",
       "version_major": 2,
       "version_minor": 0
      },
      "text/plain": [
       "Epoch 14/500:   0%|          | 0/28 [00:00<?, ?it/s]"
      ]
     },
     "metadata": {},
     "output_type": "display_data"
    },
    {
     "name": "stdout",
     "output_type": "stream",
     "text": [
      "Epoch 014: train_loss=314.776851, kld_loss=10.415311, llv_loss=304.361572\n"
     ]
    },
    {
     "data": {
      "application/vnd.jupyter.widget-view+json": {
       "model_id": "c4cfde36f79343c591ffef3df71817f3",
       "version_major": 2,
       "version_minor": 0
      },
      "text/plain": [
       "Epoch 15/500:   0%|          | 0/28 [00:00<?, ?it/s]"
      ]
     },
     "metadata": {},
     "output_type": "display_data"
    },
    {
     "name": "stdout",
     "output_type": "stream",
     "text": [
      "Epoch 015: train_loss=263.677580, kld_loss=11.196975, llv_loss=252.480591\n"
     ]
    },
    {
     "data": {
      "application/vnd.jupyter.widget-view+json": {
       "model_id": "f6339603d27b4a6e9ed1df6bea82b2f7",
       "version_major": 2,
       "version_minor": 0
      },
      "text/plain": [
       "Epoch 16/500:   0%|          | 0/28 [00:00<?, ?it/s]"
      ]
     },
     "metadata": {},
     "output_type": "display_data"
    },
    {
     "name": "stdout",
     "output_type": "stream",
     "text": [
      "Epoch 016: train_loss=207.185485, kld_loss=12.033170, llv_loss=195.152328\n"
     ]
    },
    {
     "data": {
      "application/vnd.jupyter.widget-view+json": {
       "model_id": "72b795ed5d7048288c5067ce4f358ea5",
       "version_major": 2,
       "version_minor": 0
      },
      "text/plain": [
       "Epoch 17/500:   0%|          | 0/28 [00:00<?, ?it/s]"
      ]
     },
     "metadata": {},
     "output_type": "display_data"
    },
    {
     "name": "stdout",
     "output_type": "stream",
     "text": [
      "Epoch 017: train_loss=145.424917, kld_loss=13.035581, llv_loss=132.389343\n"
     ]
    },
    {
     "data": {
      "application/vnd.jupyter.widget-view+json": {
       "model_id": "43f00fbd5e354e9295ad9e3a40fead44",
       "version_major": 2,
       "version_minor": 0
      },
      "text/plain": [
       "Epoch 18/500:   0%|          | 0/28 [00:00<?, ?it/s]"
      ]
     },
     "metadata": {},
     "output_type": "display_data"
    },
    {
     "name": "stdout",
     "output_type": "stream",
     "text": [
      "Epoch 018: train_loss=74.188703, kld_loss=14.372531, llv_loss=59.816174\n"
     ]
    },
    {
     "data": {
      "application/vnd.jupyter.widget-view+json": {
       "model_id": "aea317ee0ff1471fb28b8096b46eaa9f",
       "version_major": 2,
       "version_minor": 0
      },
      "text/plain": [
       "Epoch 19/500:   0%|          | 0/28 [00:00<?, ?it/s]"
      ]
     },
     "metadata": {},
     "output_type": "display_data"
    },
    {
     "name": "stdout",
     "output_type": "stream",
     "text": [
      "Epoch 019: train_loss=-5.488967, kld_loss=16.010706, llv_loss=-21.499674\n"
     ]
    },
    {
     "data": {
      "application/vnd.jupyter.widget-view+json": {
       "model_id": "0339331ae0774f6d8bf8ff86faa233f1",
       "version_major": 2,
       "version_minor": 0
      },
      "text/plain": [
       "Epoch 20/500:   0%|          | 0/28 [00:00<?, ?it/s]"
      ]
     },
     "metadata": {},
     "output_type": "display_data"
    },
    {
     "name": "stdout",
     "output_type": "stream",
     "text": [
      "Epoch 020: train_loss=-99.579615, kld_loss=18.279213, llv_loss=-117.858818\n"
     ]
    },
    {
     "data": {
      "application/vnd.jupyter.widget-view+json": {
       "model_id": "87b10a4eb87f4ea590590e4493b8366a",
       "version_major": 2,
       "version_minor": 0
      },
      "text/plain": [
       "Epoch 21/500:   0%|          | 0/28 [00:00<?, ?it/s]"
      ]
     },
     "metadata": {},
     "output_type": "display_data"
    },
    {
     "name": "stdout",
     "output_type": "stream",
     "text": [
      "Epoch 021: train_loss=-207.592559, kld_loss=21.392752, llv_loss=-228.985321\n"
     ]
    },
    {
     "data": {
      "application/vnd.jupyter.widget-view+json": {
       "model_id": "071fe1093f604f4b944bc8e9b99b2ff4",
       "version_major": 2,
       "version_minor": 0
      },
      "text/plain": [
       "Epoch 22/500:   0%|          | 0/28 [00:00<?, ?it/s]"
      ]
     },
     "metadata": {},
     "output_type": "display_data"
    },
    {
     "name": "stdout",
     "output_type": "stream",
     "text": [
      "Epoch 022: train_loss=-345.635713, kld_loss=25.385279, llv_loss=-371.020996\n"
     ]
    },
    {
     "data": {
      "application/vnd.jupyter.widget-view+json": {
       "model_id": "55ca22805f2641ff9e865ac22e32bfa1",
       "version_major": 2,
       "version_minor": 0
      },
      "text/plain": [
       "Epoch 23/500:   0%|          | 0/28 [00:00<?, ?it/s]"
      ]
     },
     "metadata": {},
     "output_type": "display_data"
    },
    {
     "name": "stdout",
     "output_type": "stream",
     "text": [
      "Epoch 023: train_loss=-527.074342, kld_loss=32.035297, llv_loss=-559.109619\n"
     ]
    },
    {
     "data": {
      "application/vnd.jupyter.widget-view+json": {
       "model_id": "18a4302f3e9f42d297bb164197a957bc",
       "version_major": 2,
       "version_minor": 0
      },
      "text/plain": [
       "Epoch 24/500:   0%|          | 0/28 [00:00<?, ?it/s]"
      ]
     },
     "metadata": {},
     "output_type": "display_data"
    },
    {
     "name": "stdout",
     "output_type": "stream",
     "text": [
      "Epoch 024: train_loss=-700.010289, kld_loss=43.343433, llv_loss=-743.353577\n"
     ]
    },
    {
     "data": {
      "application/vnd.jupyter.widget-view+json": {
       "model_id": "4470d36cfa534426b5c3ec6137bdbe8a",
       "version_major": 2,
       "version_minor": 0
      },
      "text/plain": [
       "Epoch 25/500:   0%|          | 0/28 [00:00<?, ?it/s]"
      ]
     },
     "metadata": {},
     "output_type": "display_data"
    },
    {
     "name": "stdout",
     "output_type": "stream",
     "text": [
      "Epoch 025: train_loss=-909.606203, kld_loss=66.138588, llv_loss=-975.744934\n"
     ]
    },
    {
     "data": {
      "application/vnd.jupyter.widget-view+json": {
       "model_id": "03ea6dcc389e456b8c87629adc7a775f",
       "version_major": 2,
       "version_minor": 0
      },
      "text/plain": [
       "Epoch 26/500:   0%|          | 0/28 [00:00<?, ?it/s]"
      ]
     },
     "metadata": {},
     "output_type": "display_data"
    },
    {
     "name": "stdout",
     "output_type": "stream",
     "text": [
      "Epoch 026: train_loss=-1075.720149, kld_loss=82.221680, llv_loss=-1157.941895\n"
     ]
    },
    {
     "data": {
      "application/vnd.jupyter.widget-view+json": {
       "model_id": "2bc4ef7d229b4f4ab225e6ea283e3670",
       "version_major": 2,
       "version_minor": 0
      },
      "text/plain": [
       "Epoch 27/500:   0%|          | 0/28 [00:00<?, ?it/s]"
      ]
     },
     "metadata": {},
     "output_type": "display_data"
    },
    {
     "name": "stdout",
     "output_type": "stream",
     "text": [
      "Epoch 027: train_loss=-1122.824958, kld_loss=90.264732, llv_loss=-1213.089722\n"
     ]
    },
    {
     "data": {
      "application/vnd.jupyter.widget-view+json": {
       "model_id": "6c07f915bd054cbfb5bddf887299c6b9",
       "version_major": 2,
       "version_minor": 0
      },
      "text/plain": [
       "Epoch 28/500:   0%|          | 0/28 [00:00<?, ?it/s]"
      ]
     },
     "metadata": {},
     "output_type": "display_data"
    },
    {
     "name": "stdout",
     "output_type": "stream",
     "text": [
      "Epoch 028: train_loss=-1184.938875, kld_loss=96.117226, llv_loss=-1281.056030\n"
     ]
    },
    {
     "data": {
      "application/vnd.jupyter.widget-view+json": {
       "model_id": "e531bf70f2654ef2b83d7c78cce3a49d",
       "version_major": 2,
       "version_minor": 0
      },
      "text/plain": [
       "Epoch 29/500:   0%|          | 0/28 [00:00<?, ?it/s]"
      ]
     },
     "metadata": {},
     "output_type": "display_data"
    },
    {
     "name": "stdout",
     "output_type": "stream",
     "text": [
      "Epoch 029: train_loss=-1277.170384, kld_loss=105.808754, llv_loss=-1382.979126\n"
     ]
    },
    {
     "data": {
      "application/vnd.jupyter.widget-view+json": {
       "model_id": "7de5e095d2cc4c29b31074ceab1df8e8",
       "version_major": 2,
       "version_minor": 0
      },
      "text/plain": [
       "Epoch 30/500:   0%|          | 0/28 [00:00<?, ?it/s]"
      ]
     },
     "metadata": {},
     "output_type": "display_data"
    },
    {
     "name": "stdout",
     "output_type": "stream",
     "text": [
      "Epoch 030: train_loss=-1314.317522, kld_loss=110.711601, llv_loss=-1425.029297\n"
     ]
    },
    {
     "data": {
      "application/vnd.jupyter.widget-view+json": {
       "model_id": "078c29c7592d45fe8fe7933b658088ef",
       "version_major": 2,
       "version_minor": 0
      },
      "text/plain": [
       "Epoch 31/500:   0%|          | 0/28 [00:00<?, ?it/s]"
      ]
     },
     "metadata": {},
     "output_type": "display_data"
    }
   ],
   "source": [
    "from tqdm.auto import tqdm\n",
    "\n",
    "model.train()\n",
    "\n",
    "for epoch in range(500):\n",
    "    pbar = tqdm(loader, desc=f\"Epoch {epoch+1}/500\", leave=False)\n",
    "    running_loss = 0.0\n",
    "    running_kld_loss = 0.0\n",
    "    running_llv_loss = 0.0\n",
    "    n_batches = 0\n",
    "\n",
    "    for batch_idx, batch in enumerate(pbar):\n",
    "        # Move batch to device\n",
    "        x, y = batch\n",
    "        x = x.to(device, non_blocking=True)\n",
    "        # y is unused by the model, but keep it in the tuple structure\n",
    "        batch = (x, y)\n",
    "\n",
    "        opt.zero_grad(set_to_none=True)\n",
    "\n",
    "        # Use the model's predefined training_step to compute ELBO loss\n",
    "        elbo, kld_loss, llv_loss = model.training_step(batch, batch_idx)\n",
    "\n",
    "        # Backprop + step\n",
    "        elbo.backward()\n",
    "        opt.step()\n",
    "\n",
    "        # Track progress\n",
    "        n_batches += 1\n",
    "        running_loss += elbo.item()\n",
    "        running_kld_loss += kld_loss\n",
    "        running_llv_loss += llv_loss\n",
    "        pbar.set_postfix({\"train_loss\": f\"{running_loss / n_batches:.4f}\"})\n",
    "\n",
    "    # Optional: free device cache each epoch\n",
    "    empty_device_cache()\n",
    "\n",
    "    # Simple epoch print\n",
    "    avg_loss = running_loss / max(1, n_batches)\n",
    "    avg_kld_loss = running_kld_loss / max(1, n_batches)\n",
    "    avg_llv_loss = running_llv_loss / max(1, n_batches)\n",
    "    print(f\"Epoch {epoch+1:03d}: train_loss={avg_loss:.6f}, kld_loss={avg_kld_loss:.6f}, llv_loss={avg_llv_loss:.6f}\")"
   ]
  },
  {
   "cell_type": "code",
   "execution_count": null,
   "id": "3d6cdbf2",
   "metadata": {},
   "outputs": [],
   "source": []
  },
  {
   "cell_type": "code",
   "execution_count": null,
   "id": "dd1d7501",
   "metadata": {},
   "outputs": [],
   "source": []
  }
 ],
 "metadata": {
  "kernelspec": {
   "display_name": "vae-paper",
   "language": "python",
   "name": "python3"
  },
  "language_info": {
   "codemirror_mode": {
    "name": "ipython",
    "version": 3
   },
   "file_extension": ".py",
   "mimetype": "text/x-python",
   "name": "python",
   "nbconvert_exporter": "python",
   "pygments_lexer": "ipython3",
   "version": "3.12.11"
  }
 },
 "nbformat": 4,
 "nbformat_minor": 5
}
