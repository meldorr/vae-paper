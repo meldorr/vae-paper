{
 "cells": [
  {
   "cell_type": "code",
   "execution_count": 3,
   "id": "6fc83f79",
   "metadata": {},
   "outputs": [
    {
     "data": {
      "text/plain": [
       "(2, torch.Size([4, 200]), torch.Size([2]))"
      ]
     },
     "execution_count": 3,
     "metadata": {},
     "output_type": "execute_result"
    }
   ],
   "source": [
    "from sklearn.preprocessing import MinMaxScaler\n",
    "from data.dataset import TrafficDataset\n",
    "\n",
    "dataset_tcvae = TrafficDataset.from_file(\n",
    "        \"data/traffic_noga_tilFAF_train.pkl\",\n",
    "        features=[\"track\", \"groundspeed\", \"altitude\", \"timedelta\"],\n",
    "        scaler=MinMaxScaler(feature_range=(-1, 1)),\n",
    "        shape= \"image\",\n",
    "        info_params={\"features\": [\"latitude\", \"longitude\"], \"index\": -1},\n",
    "    )\n",
    "\n",
    "for batch in dataset_tcvae:\n",
    "    break\n",
    "\n",
    "len(batch), batch[0].shape,batch[1].shape"
   ]
  },
  {
   "cell_type": "code",
   "execution_count": 7,
   "id": "4e8090de",
   "metadata": {},
   "outputs": [
    {
     "name": "stderr",
     "output_type": "stream",
     "text": [
      "/Users/meldor/Desktop/vae-paper/.venv/lib/python3.12/site-packages/torch/nn/utils/weight_norm.py:144: FutureWarning: `torch.nn.utils.weight_norm` is deprecated in favor of `torch.nn.utils.parametrizations.weight_norm`.\n",
      "  WeightNorm.apply(module, name, dim)\n"
     ]
    },
    {
     "data": {
      "text/plain": [
       "TemporalBlock(\n",
       "  (conv): Conv1d(4, 16, kernel_size=(3,), stride=(1,), dilation=(2,))\n",
       "  (dropout): Dropout(p=0.1, inplace=False)\n",
       ")"
      ]
     },
     "execution_count": 7,
     "metadata": {},
     "output_type": "execute_result"
    }
   ],
   "source": [
    "from tcn import TemporalBlock\n",
    "\n",
    "t = TemporalBlock(\n",
    "    in_channels=4,\n",
    "    out_channels=16,\n",
    "    kernel_size=3,\n",
    "    dilation=2,\n",
    "    dropout=0.1\n",
    ")\n",
    "\n",
    "t"
   ]
  },
  {
   "cell_type": "code",
   "execution_count": 5,
   "id": "f3436fe9",
   "metadata": {},
   "outputs": [
    {
     "data": {
      "text/plain": [
       "torch.Size([16, 200])"
      ]
     },
     "execution_count": 5,
     "metadata": {},
     "output_type": "execute_result"
    }
   ],
   "source": [
    "t(batch[0]).shape"
   ]
  },
  {
   "cell_type": "code",
   "execution_count": 8,
   "id": "504a0799",
   "metadata": {},
   "outputs": [
    {
     "name": "stderr",
     "output_type": "stream",
     "text": [
      "/Users/meldor/Desktop/vae-paper/.venv/lib/python3.12/site-packages/torch/nn/utils/weight_norm.py:144: FutureWarning: `torch.nn.utils.weight_norm` is deprecated in favor of `torch.nn.utils.parametrizations.weight_norm`.\n",
      "  WeightNorm.apply(module, name, dim)\n"
     ]
    },
    {
     "data": {
      "text/plain": [
       "ResidualBlock(\n",
       "  (tmp_block1): TemporalBlock(\n",
       "    (conv): Conv1d(4, 16, kernel_size=(3,), stride=(1,), dilation=(2,))\n",
       "    (dropout): Dropout(p=0.1, inplace=False)\n",
       "  )\n",
       "  (tmp_block2): TemporalBlock(\n",
       "    (conv): Conv1d(16, 16, kernel_size=(3,), stride=(1,), dilation=(2,))\n",
       "    (dropout): Dropout(p=0.1, inplace=False)\n",
       "  )\n",
       "  (downsample): Conv1d(4, 16, kernel_size=(1,), stride=(1,))\n",
       ")"
      ]
     },
     "execution_count": 8,
     "metadata": {},
     "output_type": "execute_result"
    }
   ],
   "source": [
    "from tcn import ResidualBlock\n",
    "\n",
    "r = ResidualBlock(\n",
    "    in_channels=4,\n",
    "    out_channels=16,\n",
    "    kernel_size=3,\n",
    "    dilation=2,\n",
    "    dropout=0.1\n",
    ")\n",
    "\n",
    "r"
   ]
  },
  {
   "cell_type": "code",
   "execution_count": 9,
   "id": "928ca331",
   "metadata": {},
   "outputs": [
    {
     "data": {
      "text/plain": [
       "torch.Size([16, 200])"
      ]
     },
     "execution_count": 9,
     "metadata": {},
     "output_type": "execute_result"
    }
   ],
   "source": [
    "r(batch[0]).shape"
   ]
  },
  {
   "cell_type": "code",
   "execution_count": 10,
   "id": "0babf630",
   "metadata": {},
   "outputs": [
    {
     "name": "stderr",
     "output_type": "stream",
     "text": [
      "/Users/meldor/Desktop/vae-paper/.venv/lib/python3.12/site-packages/torch/nn/utils/weight_norm.py:144: FutureWarning: `torch.nn.utils.weight_norm` is deprecated in favor of `torch.nn.utils.parametrizations.weight_norm`.\n",
      "  WeightNorm.apply(module, name, dim)\n"
     ]
    },
    {
     "data": {
      "text/plain": [
       "TCN(\n",
       "  (network): Sequential(\n",
       "    (0): ResidualBlock(\n",
       "      (tmp_block1): TemporalBlock(\n",
       "        (conv): Conv1d(4, 32, kernel_size=(3,), stride=(1,))\n",
       "        (dropout): Dropout(p=0.2, inplace=False)\n",
       "      )\n",
       "      (tmp_block2): TemporalBlock(\n",
       "        (conv): Conv1d(32, 32, kernel_size=(3,), stride=(1,))\n",
       "        (dropout): Dropout(p=0.2, inplace=False)\n",
       "      )\n",
       "      (downsample): Conv1d(4, 32, kernel_size=(1,), stride=(1,))\n",
       "    )\n",
       "    (1): ResidualBlock(\n",
       "      (tmp_block1): TemporalBlock(\n",
       "        (conv): Conv1d(32, 64, kernel_size=(3,), stride=(1,), dilation=(2,))\n",
       "        (dropout): Dropout(p=0.2, inplace=False)\n",
       "      )\n",
       "      (tmp_block2): TemporalBlock(\n",
       "        (conv): Conv1d(64, 64, kernel_size=(3,), stride=(1,), dilation=(2,))\n",
       "        (dropout): Dropout(p=0.2, inplace=False)\n",
       "      )\n",
       "      (downsample): Conv1d(32, 64, kernel_size=(1,), stride=(1,))\n",
       "    )\n",
       "    (2): ResidualBlock(\n",
       "      (tmp_block1): TemporalBlock(\n",
       "        (conv): Conv1d(64, 16, kernel_size=(3,), stride=(1,), dilation=(4,))\n",
       "        (dropout): Dropout(p=0.2, inplace=False)\n",
       "      )\n",
       "      (tmp_block2): TemporalBlock(\n",
       "        (conv): Conv1d(16, 16, kernel_size=(3,), stride=(1,), dilation=(4,))\n",
       "        (dropout): Dropout(p=0.2, inplace=False)\n",
       "      )\n",
       "      (downsample): Conv1d(64, 16, kernel_size=(1,), stride=(1,))\n",
       "    )\n",
       "  )\n",
       ")"
      ]
     },
     "execution_count": 10,
     "metadata": {},
     "output_type": "execute_result"
    }
   ],
   "source": [
    "from tcn import TCN\n",
    "\n",
    "tn = TCN(\n",
    "        input_dim=4,\n",
    "        out_dim=16,\n",
    "        h_dims=[32, 64],\n",
    "        kernel_size=3,\n",
    "        dilation_base=2,\n",
    "        h_activ=None,\n",
    "        dropout=0.2)\n",
    "\n",
    "tn"
   ]
  },
  {
   "cell_type": "code",
   "execution_count": 11,
   "id": "2d3c61d3",
   "metadata": {},
   "outputs": [
    {
     "data": {
      "text/plain": [
       "torch.Size([16, 200])"
      ]
     },
     "execution_count": 11,
     "metadata": {},
     "output_type": "execute_result"
    }
   ],
   "source": [
    "tn(batch[0]).shape"
   ]
  },
  {
   "cell_type": "code",
   "execution_count": null,
   "id": "06f3ec28",
   "metadata": {},
   "outputs": [],
   "source": [
    "from encoder import Encoder\n",
    "\n",
    "e = Encoder"
   ]
  }
 ],
 "metadata": {
  "kernelspec": {
   "display_name": "vae-paper",
   "language": "python",
   "name": "python3"
  },
  "language_info": {
   "codemirror_mode": {
    "name": "ipython",
    "version": 3
   },
   "file_extension": ".py",
   "mimetype": "text/x-python",
   "name": "python",
   "nbconvert_exporter": "python",
   "pygments_lexer": "ipython3",
   "version": "3.12.11"
  }
 },
 "nbformat": 4,
 "nbformat_minor": 5
}
